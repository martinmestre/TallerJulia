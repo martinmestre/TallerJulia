{
 "cells": [
  {
   "cell_type": "markdown",
   "metadata": {},
   "source": [
    "# Taller inicial de Julia"
   ]
  },
  {
   "cell_type": "markdown",
   "metadata": {},
   "source": [
    "## Environments and the Package manger (Pkg)"
   ]
  },
  {
   "cell_type": "code",
   "execution_count": null,
   "metadata": {},
   "outputs": [],
   "source": [
    "using Pkg\n",
    "Pkg.activate(\".\")\n",
    "Pkg.add(\"Parameters\")\n",
    "Pkg.add(\"Unitful\")\n",
    "Pkg.add(\"UnitfulAstro\")\n",
    "Pkg.add(\"Zygote\")\n",
    "Pkg.add(\"DataFrames\")\n",
    "Pkg.add(\"DifferentialEquations\")"
   ]
  },
  {
   "cell_type": "markdown",
   "metadata": {},
   "source": [
    "## Arrays"
   ]
  },
  {
   "cell_type": "code",
   "execution_count": null,
   "metadata": {},
   "outputs": [],
   "source": [
    "# Arrays\n",
    "a = [1.0, 2.0, 3.0]\n",
    "@show a typeof(a)\n",
    "@show typeof(a)<:Vector{Integer}\n",
    "@show typeof(a)<:Vector{Float64};\n"
   ]
  },
  {
   "cell_type": "code",
   "execution_count": null,
   "metadata": {},
   "outputs": [],
   "source": [
    "a[begin]==a[1]  # a[end]==a[3]"
   ]
  },
  {
   "cell_type": "code",
   "execution_count": null,
   "metadata": {},
   "outputs": [],
   "source": [
    "@show sum(a)\n",
    "b = 2a\n",
    "@show c = a + b\n",
    "@show c = a + b.*b\n",
    "@show c = a .+ b'b;"
   ]
  },
  {
   "cell_type": "code",
   "execution_count": null,
   "metadata": {},
   "outputs": [],
   "source": [
    "m = [a 2a 3a]\n",
    "display(m)\n",
    "display(m')"
   ]
  },
  {
   "cell_type": "markdown",
   "metadata": {},
   "source": [
    "## Structs"
   ]
  },
  {
   "cell_type": "code",
   "execution_count": null,
   "metadata": {},
   "outputs": [],
   "source": [
    "struct Evento{T<:Real,D<:Real}\n",
    "    t::T\n",
    "    x::D\n",
    "    v::D\n",
    "end"
   ]
  },
  {
   "cell_type": "code",
   "execution_count": null,
   "metadata": {},
   "outputs": [],
   "source": [
    "a = Evento(0, 10., 1.)"
   ]
  },
  {
   "cell_type": "code",
   "execution_count": null,
   "metadata": {},
   "outputs": [],
   "source": [
    "a = Evento(0, 10.) # show what happens"
   ]
  },
  {
   "cell_type": "code",
   "execution_count": null,
   "metadata": {},
   "outputs": [],
   "source": [
    "Evento(x::T,y::T) where {T<:Real} = Evento(0., x, y)"
   ]
  },
  {
   "cell_type": "code",
   "execution_count": null,
   "metadata": {},
   "outputs": [],
   "source": [
    "Evento(10., 1.)"
   ]
  },
  {
   "cell_type": "code",
   "execution_count": null,
   "metadata": {},
   "outputs": [],
   "source": [
    "methods(Evento)"
   ]
  },
  {
   "cell_type": "code",
   "execution_count": null,
   "metadata": {},
   "outputs": [],
   "source": [
    "Evento(; t=9, x=7, v) = Evento(t, x, v)"
   ]
  },
  {
   "cell_type": "code",
   "execution_count": null,
   "metadata": {},
   "outputs": [],
   "source": [
    "a = Evento(t=0, x=1, v=1)"
   ]
  },
  {
   "cell_type": "code",
   "execution_count": null,
   "metadata": {},
   "outputs": [],
   "source": [
    "b = Evento(t=98)"
   ]
  },
  {
   "cell_type": "code",
   "execution_count": null,
   "metadata": {},
   "outputs": [],
   "source": [
    "b = Evento(v=54)"
   ]
  },
  {
   "cell_type": "markdown",
   "metadata": {},
   "source": [
    "## Parameters package"
   ]
  },
  {
   "cell_type": "code",
   "execution_count": null,
   "metadata": {},
   "outputs": [],
   "source": [
    "using Parameters\n",
    "@with_kw struct Event{T<:Real,D<:Real}\n",
    "    t::T = 0.0\n",
    "    x::D = 5.0\n",
    "    v::D\n",
    "end"
   ]
  },
  {
   "cell_type": "code",
   "execution_count": null,
   "metadata": {},
   "outputs": [],
   "source": [
    "methods(Event)"
   ]
  },
  {
   "cell_type": "code",
   "execution_count": null,
   "metadata": {},
   "outputs": [],
   "source": [
    "b = Event(v=3) # then Event(v=3.0)"
   ]
  },
  {
   "cell_type": "markdown",
   "metadata": {},
   "source": [
    "## Unitful Quantities"
   ]
  },
  {
   "cell_type": "code",
   "execution_count": null,
   "metadata": {},
   "outputs": [],
   "source": [
    "using Unitful, UnitfulAstro\n",
    "x = rand(3)u\"kpc\"\n",
    "v = rand(3)u\"km/s\"\n",
    "t = 10^6*u\"s\"\n",
    "@show x v t"
   ]
  },
  {
   "cell_type": "code",
   "execution_count": null,
   "metadata": {},
   "outputs": [],
   "source": [
    "a = v/t"
   ]
  },
  {
   "cell_type": "code",
   "execution_count": null,
   "metadata": {},
   "outputs": [],
   "source": [
    "uconvert.(u\"km/s/Myr\",a)"
   ]
  },
  {
   "cell_type": "code",
   "execution_count": null,
   "metadata": {},
   "outputs": [],
   "source": [
    "u\"G\""
   ]
  },
  {
   "cell_type": "code",
   "execution_count": null,
   "metadata": {},
   "outputs": [],
   "source": [
    "G = uconvert(u\"kpc*Msun^-1*(km/s)^2\",u\"G\")"
   ]
  },
  {
   "cell_type": "markdown",
   "metadata": {},
   "source": [
    "## Automatic Differentiation"
   ]
  },
  {
   "cell_type": "code",
   "execution_count": null,
   "metadata": {},
   "outputs": [],
   "source": [
    "using Zygote\n",
    "f(x,y) = exp(x/y)*cos(3x+2y)"
   ]
  },
  {
   "cell_type": "code",
   "execution_count": null,
   "metadata": {},
   "outputs": [],
   "source": [
    "∇f(x,y) = gradient((x,y)->f(x,y), x,y)"
   ]
  },
  {
   "cell_type": "code",
   "execution_count": null,
   "metadata": {},
   "outputs": [],
   "source": [
    "∇f(1.,2.)"
   ]
  },
  {
   "cell_type": "code",
   "execution_count": null,
   "metadata": {},
   "outputs": [],
   "source": [
    "∇f(x) = gradient(x->f(x...), x)"
   ]
  },
  {
   "cell_type": "code",
   "execution_count": null,
   "metadata": {},
   "outputs": [],
   "source": [
    "methods(∇f)"
   ]
  },
  {
   "cell_type": "code",
   "execution_count": null,
   "metadata": {},
   "outputs": [],
   "source": [
    "@show ∇f([1.,2.])[1]  ∇f(1.,2.)"
   ]
  },
  {
   "cell_type": "code",
   "execution_count": null,
   "metadata": {},
   "outputs": [],
   "source": [
    "f(x,y) = exp(x)*exp(7y)\n",
    "Df(x,y) = [1,7]*f(x,y)\n",
    "∇f(x,y) = gradient((x,y)->f(x,y), x,y)\n",
    "df(x,y) = gradient(f, x,y)"
   ]
  },
  {
   "cell_type": "code",
   "execution_count": null,
   "metadata": {},
   "outputs": [],
   "source": [
    "x = [5.,-7.]\n",
    "@show Df(x...) ∇f(x...) df(x...)\n",
    "@show Df(x...) .== ∇f(x...);\n",
    "@show Df(x...) .== df(x...);"
   ]
  },
  {
   "cell_type": "markdown",
   "metadata": {},
   "source": [
    "## Data Frames"
   ]
  },
  {
   "cell_type": "code",
   "execution_count": null,
   "metadata": {},
   "outputs": [],
   "source": [
    "using DataFrames\n",
    "n=20\n",
    "data = DataFrame(id=collect(1:n), x=rand(n), y=rand(n), z=rand(n))"
   ]
  },
  {
   "cell_type": "code",
   "execution_count": null,
   "metadata": {},
   "outputs": [],
   "source": [
    "deleteat!(data, [3,5,7])"
   ]
  },
  {
   "cell_type": "markdown",
   "metadata": {},
   "source": [
    "## Galactic Dynamics "
   ]
  },
  {
   "cell_type": "code",
   "execution_count": null,
   "metadata": {},
   "outputs": [],
   "source": [
    "using GalacticDynamics"
   ]
  },
  {
   "cell_type": "code",
   "execution_count": null,
   "metadata": {},
   "outputs": [],
   "source": [
    "pot = Plummer(34u\"Msun\", 10u\"pc\")\n",
    "pot₂ = NFW(10^3*u\"Msun\", 5u\"kpc\")\n",
    "@show pot pot₂ pot+pot₂"
   ]
  },
  {
   "cell_type": "code",
   "execution_count": null,
   "metadata": {},
   "outputs": [],
   "source": [
    "x=[5.0, 1.0, -2.0]u\"pc\"\n",
    "@show potential(pot,x)\n",
    "@show acceleration(pot,x)\n",
    "@show potential(pot₂,x)\n",
    "@show acceleration(pot₂,x)\n",
    "@show potential(pot+pot₂,x)\n",
    "@show acceleration(pot+pot₂,x);"
   ]
  },
  {
   "cell_type": "markdown",
   "metadata": {},
   "source": [
    "### DifferentialEquations.jl https://docs.sciml.ai/DiffEqDocs/stable/solvers/ode_solve/"
   ]
  },
  {
   "cell_type": "code",
   "execution_count": null,
   "metadata": {},
   "outputs": [],
   "source": [
    "using DifferentialEquations\n",
    "using Test\n",
    "\n",
    "function example_orbit()\n",
    "    m_gal = 2.325e7*u\"Msun\"\n",
    "    m =1018.0*m_gal  # Msun\n",
    "    a = 2.562*u\"kpc\"     # kpc\n",
    "    Λ = 200.0*u\"kpc\"    # kpc\n",
    "    γ = 2.0\n",
    "    pot = AllenSantillanHalo(m, a, Λ, γ)\n",
    "    for i in range(1,20)\n",
    "        w₀ = 50*rand(6)\n",
    "        x₀ = w₀[1:3]u\"kpc\"\n",
    "        v₀ = w₀[4:6]u\"km/s\"\n",
    "        t_range = (0.0,100.0).*𝕦.t\n",
    "        sol = evolve(pot, x₀, v₀, t_range)\n",
    "        sol₂ = evolve(pot, x₀, v₀, t_range; options=SolverConfig(solver=Tsit5(), reltol=5.0e-12))\n",
    "        @show @test sol.x[end] ≈ sol₂.x[end] rtol=5.0e-8\n",
    "        @show @test sol.v[end] ≈ sol₂.v[end] rtol=5.0e-8\n",
    "    end\n",
    "end"
   ]
  },
  {
   "cell_type": "code",
   "execution_count": null,
   "metadata": {},
   "outputs": [],
   "source": [
    "example_orbit()"
   ]
  },
  {
   "cell_type": "code",
   "execution_count": null,
   "metadata": {},
   "outputs": [],
   "source": []
  }
 ],
 "metadata": {
  "kernelspec": {
   "display_name": "Julia 1.9.3",
   "language": "julia",
   "name": "julia-1.9"
  },
  "language_info": {
   "file_extension": ".jl",
   "mimetype": "application/julia",
   "name": "julia",
   "version": "1.9.3"
  }
 },
 "nbformat": 4,
 "nbformat_minor": 2
}
