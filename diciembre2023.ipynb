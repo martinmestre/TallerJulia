{
 "cells": [
  {
   "cell_type": "markdown",
   "metadata": {},
   "source": [
    "# Taller inicial de Julia"
   ]
  },
  {
   "cell_type": "markdown",
   "metadata": {},
   "source": [
    "### Environments and the Package manger (Pkg)"
   ]
  },
  {
   "cell_type": "code",
   "execution_count": 3,
   "metadata": {},
   "outputs": [
    {
     "name": "stderr",
     "output_type": "stream",
     "text": [
      "\u001b[32m\u001b[1m  Activating\u001b[22m\u001b[39m project at `~/casa/work/2023/TallerJulia`\n"
     ]
    },
    {
     "name": "stderr",
     "output_type": "stream",
     "text": [
      "\u001b[32m\u001b[1m    Updating\u001b[22m\u001b[39m registry at `~/.julia/registries/General.toml`\n"
     ]
    },
    {
     "name": "stderr",
     "output_type": "stream",
     "text": [
      "\u001b[32m\u001b[1m   Resolving\u001b[22m\u001b[39m package versions...\n"
     ]
    },
    {
     "name": "stderr",
     "output_type": "stream",
     "text": [
      "\u001b[32m\u001b[1m  No Changes\u001b[22m\u001b[39m to `~/casa/work/2023/TallerJulia/Project.toml`\n",
      "\u001b[32m\u001b[1m  No Changes\u001b[22m\u001b[39m to `~/casa/work/2023/TallerJulia/Manifest.toml`\n"
     ]
    },
    {
     "name": "stderr",
     "output_type": "stream",
     "text": [
      "\u001b[32m\u001b[1m   Resolving\u001b[22m\u001b[39m package versions...\n"
     ]
    },
    {
     "name": "stderr",
     "output_type": "stream",
     "text": [
      "\u001b[32m\u001b[1m  No Changes\u001b[22m\u001b[39m to `~/casa/work/2023/TallerJulia/Project.toml`\n",
      "\u001b[32m\u001b[1m  No Changes\u001b[22m\u001b[39m to `~/casa/work/2023/TallerJulia/Manifest.toml`\n"
     ]
    },
    {
     "name": "stderr",
     "output_type": "stream",
     "text": [
      "\u001b[32m\u001b[1m   Resolving\u001b[22m\u001b[39m package versions...\n"
     ]
    },
    {
     "name": "stderr",
     "output_type": "stream",
     "text": [
      "\u001b[32m\u001b[1m  No Changes\u001b[22m\u001b[39m to `~/casa/work/2023/TallerJulia/Project.toml`\n",
      "\u001b[32m\u001b[1m  No Changes\u001b[22m\u001b[39m to `~/casa/work/2023/TallerJulia/Manifest.toml`\n"
     ]
    },
    {
     "name": "stderr",
     "output_type": "stream",
     "text": [
      "\u001b[32m\u001b[1m   Resolving\u001b[22m\u001b[39m package versions...\n"
     ]
    },
    {
     "name": "stderr",
     "output_type": "stream",
     "text": [
      "\u001b[32m\u001b[1m  No Changes\u001b[22m\u001b[39m to `~/casa/work/2023/TallerJulia/Project.toml`\n",
      "\u001b[32m\u001b[1m  No Changes\u001b[22m\u001b[39m to `~/casa/work/2023/TallerJulia/Manifest.toml`\n"
     ]
    },
    {
     "name": "stderr",
     "output_type": "stream",
     "text": [
      "\u001b[32m\u001b[1m   Resolving\u001b[22m\u001b[39m package versions...\n"
     ]
    },
    {
     "name": "stderr",
     "output_type": "stream",
     "text": [
      "\u001b[32m\u001b[1m  No Changes\u001b[22m\u001b[39m to `~/casa/work/2023/TallerJulia/Project.toml`\n",
      "\u001b[32m\u001b[1m  No Changes\u001b[22m\u001b[39m to `~/casa/work/2023/TallerJulia/Manifest.toml`\n"
     ]
    },
    {
     "name": "stderr",
     "output_type": "stream",
     "text": [
      "\u001b[32m\u001b[1m   Resolving\u001b[22m\u001b[39m package versions...\n"
     ]
    },
    {
     "name": "stderr",
     "output_type": "stream",
     "text": [
      "\u001b[32m\u001b[1m  No Changes\u001b[22m\u001b[39m to `~/casa/work/2023/TallerJulia/Project.toml`\n",
      "\u001b[32m\u001b[1m  No Changes\u001b[22m\u001b[39m to `~/casa/work/2023/TallerJulia/Manifest.toml`\n"
     ]
    }
   ],
   "source": [
    "using Pkg\n",
    "Pkg.activate(\".\")\n",
    "Pkg.add(\"Parameters\")\n",
    "Pkg.add(\"Unitful\")\n",
    "Pkg.add(\"UnitfulAstro\")\n",
    "Pkg.add(\"Zygote\")\n",
    "Pkg.add(\"DataFrames\")\n",
    "Pkg.add(\"DifferentialEquations\")"
   ]
  },
  {
   "cell_type": "markdown",
   "metadata": {},
   "source": [
    "## Arrays"
   ]
  },
  {
   "cell_type": "code",
   "execution_count": 4,
   "metadata": {},
   "outputs": [
    {
     "name": "stdout",
     "output_type": "stream",
     "text": [
      "a = [1.0, 2.0, 3.0]\n",
      "typeof(a) = Vector{Float64}\n",
      "typeof(a) <: Vector{Integer} = false\n",
      "typeof(a) <: Vector{Float64} = true\n"
     ]
    }
   ],
   "source": [
    "# Arrays\n",
    "a = [1.0, 2.0, 3.0]\n",
    "@show a typeof(a)\n",
    "@show typeof(a)<:Vector{Integer}\n",
    "@show typeof(a)<:Vector{Float64};\n"
   ]
  },
  {
   "cell_type": "code",
   "execution_count": null,
   "metadata": {},
   "outputs": [],
   "source": [
    "a[begin]==a[1]  # a[end]==a[3]"
   ]
  },
  {
   "cell_type": "code",
   "execution_count": null,
   "metadata": {},
   "outputs": [],
   "source": [
    "@show sum(a)\n",
    "b = 2a\n",
    "@show c = a + b\n",
    "@show c = a + b.*b\n",
    "@show c = a .+ b'b;"
   ]
  },
  {
   "cell_type": "code",
   "execution_count": null,
   "metadata": {},
   "outputs": [],
   "source": [
    "m = [a 2a 3a]\n",
    "display(m)\n",
    "display(m')"
   ]
  },
  {
   "cell_type": "markdown",
   "metadata": {},
   "source": [
    "## Structs"
   ]
  },
  {
   "cell_type": "code",
   "execution_count": null,
   "metadata": {},
   "outputs": [],
   "source": [
    "struct Evento{T<:Real,D<:Real}\n",
    "    t::T\n",
    "    x::D\n",
    "    v::D\n",
    "end"
   ]
  },
  {
   "cell_type": "code",
   "execution_count": null,
   "metadata": {},
   "outputs": [],
   "source": [
    "a = Evento(0, 10., 1.)"
   ]
  },
  {
   "cell_type": "code",
   "execution_count": null,
   "metadata": {},
   "outputs": [],
   "source": [
    "a = Evento(0, 10.) # show what happens"
   ]
  },
  {
   "cell_type": "code",
   "execution_count": null,
   "metadata": {},
   "outputs": [],
   "source": [
    "Evento(x::T,y::T) where {T<:Real} = Evento(0., x, y)"
   ]
  },
  {
   "cell_type": "code",
   "execution_count": null,
   "metadata": {},
   "outputs": [],
   "source": [
    "Evento(10., 1.)"
   ]
  },
  {
   "cell_type": "code",
   "execution_count": null,
   "metadata": {},
   "outputs": [],
   "source": [
    "methods(Evento)"
   ]
  },
  {
   "cell_type": "code",
   "execution_count": null,
   "metadata": {},
   "outputs": [],
   "source": [
    "Evento(; t=9, x=7, v) = Evento(t, x, v)"
   ]
  },
  {
   "cell_type": "code",
   "execution_count": null,
   "metadata": {},
   "outputs": [],
   "source": [
    "a = Evento(t=0, x=1, v=1)"
   ]
  },
  {
   "cell_type": "code",
   "execution_count": null,
   "metadata": {},
   "outputs": [],
   "source": [
    "b = Evento(t=98)"
   ]
  },
  {
   "cell_type": "code",
   "execution_count": null,
   "metadata": {},
   "outputs": [],
   "source": [
    "b = Evento(v=54)"
   ]
  },
  {
   "cell_type": "markdown",
   "metadata": {},
   "source": [
    "## Parameters"
   ]
  },
  {
   "cell_type": "code",
   "execution_count": 10,
   "metadata": {},
   "outputs": [
    {
     "data": {
      "text/plain": [
       "Event"
      ]
     },
     "metadata": {},
     "output_type": "display_data"
    }
   ],
   "source": [
    "using Parameters\n",
    "@with_kw struct Event{T<:Real,D<:Real}\n",
    "    t::T = 0.0\n",
    "    x::D = 5.0\n",
    "    v::D\n",
    "end"
   ]
  },
  {
   "cell_type": "code",
   "execution_count": 11,
   "metadata": {},
   "outputs": [
    {
     "data": {
      "text/html": [
       "# 5 methods for type constructor:<ul><li> Event(; <i>t, x, v</i>) in Main at <a href=\"file:///home/mmestre/.julia/packages/Parameters/MK0O4/src/Parameters.jl\" target=\"_blank\">/home/mmestre/.julia/packages/Parameters/MK0O4/src/Parameters.jl:545</a></li> <li> Event(pp::<b>Event</b>; <i>kws...</i>) in Main at <a href=\"file:///home/mmestre/.julia/packages/Parameters/MK0O4/src/Parameters.jl\" target=\"_blank\">/home/mmestre/.julia/packages/Parameters/MK0O4/src/Parameters.jl:569</a></li> <li> Event(pp::<b>Event</b>, di::<b>AbstractDict</b>) in Main at <a href=\"file:///home/mmestre/.julia/packages/Parameters/MK0O4/src/Parameters.jl\" target=\"_blank\">/home/mmestre/.julia/packages/Parameters/MK0O4/src/Parameters.jl:572</a></li> <li> Event(pp::<b>Event</b>, di::<b>Tuple{Symbol, Any}...</b>) in Main at <a href=\"file:///home/mmestre/.julia/packages/Parameters/MK0O4/src/Parameters.jl\" target=\"_blank\">/home/mmestre/.julia/packages/Parameters/MK0O4/src/Parameters.jl:573</a></li> <li> Event(t::<b>T</b>, x::<b>D</b>, v::<b>D</b>)<i> where {T<:Real, D<:Real}</i> in Main at <a href=\"file:///home/mmestre/.julia/packages/Parameters/MK0O4/src/Parameters.jl\" target=\"_blank\">/home/mmestre/.julia/packages/Parameters/MK0O4/src/Parameters.jl:526</a></li> </ul>"
      ],
      "text/plain": [
       "# 5 methods for type constructor:\n",
       " [1] Event(; t, x, v)\n",
       "\u001b[90m     @\u001b[39m \u001b[90m~/.julia/packages/Parameters/MK0O4/src/\u001b[39m\u001b[90m\u001b[4mParameters.jl:545\u001b[24m\u001b[39m\n",
       " [2] Event(\u001b[90mpp\u001b[39m::\u001b[1mEvent\u001b[22m; kws...)\n",
       "\u001b[90m     @\u001b[39m \u001b[90m~/.julia/packages/Parameters/MK0O4/src/\u001b[39m\u001b[90m\u001b[4mParameters.jl:569\u001b[24m\u001b[39m\n",
       " [3] Event(\u001b[90mpp\u001b[39m::\u001b[1mEvent\u001b[22m, \u001b[90mdi\u001b[39m::\u001b[1mAbstractDict\u001b[22m)\n",
       "\u001b[90m     @\u001b[39m \u001b[90m~/.julia/packages/Parameters/MK0O4/src/\u001b[39m\u001b[90m\u001b[4mParameters.jl:572\u001b[24m\u001b[39m\n",
       " [4] Event(\u001b[90mpp\u001b[39m::\u001b[1mEvent\u001b[22m, \u001b[90mdi\u001b[39m::\u001b[1mTuple\u001b[22m\u001b[0m{Symbol, Any}\u001b[1m...\u001b[22m)\n",
       "\u001b[90m     @\u001b[39m \u001b[90m~/.julia/packages/Parameters/MK0O4/src/\u001b[39m\u001b[90m\u001b[4mParameters.jl:573\u001b[24m\u001b[39m\n",
       " [5] Event(\u001b[90mt\u001b[39m::\u001b[1mT\u001b[22m, \u001b[90mx\u001b[39m::\u001b[1mD\u001b[22m, \u001b[90mv\u001b[39m::\u001b[1mD\u001b[22m) where {T<:Real, D<:Real}\n",
       "\u001b[90m     @\u001b[39m \u001b[90m~/.julia/packages/Parameters/MK0O4/src/\u001b[39m\u001b[90m\u001b[4mParameters.jl:526\u001b[24m\u001b[39m"
      ]
     },
     "metadata": {},
     "output_type": "display_data"
    }
   ],
   "source": [
    "methods(Event)"
   ]
  },
  {
   "cell_type": "code",
   "execution_count": 15,
   "metadata": {},
   "outputs": [
    {
     "ename": "MethodError",
     "evalue": "MethodError: no method matching Event(::Float64, ::Float64, ::Int64)\n\nClosest candidates are:\n  Event(::T, ::D, !Matched::D) where {T<:Real, D<:Real}\n   @ Main ~/.julia/packages/Parameters/MK0O4/src/Parameters.jl:526\n",
     "output_type": "error",
     "traceback": [
      "MethodError: no method matching Event(::Float64, ::Float64, ::Int64)\n",
      "\n",
      "Closest candidates are:\n",
      "  Event(::T, ::D, !Matched::D) where {T<:Real, D<:Real}\n",
      "   @ Main ~/.julia/packages/Parameters/MK0O4/src/Parameters.jl:526\n",
      "\n",
      "\n",
      "Stacktrace:\n",
      " [1] Event(; t::Float64, x::Float64, v::Int64)\n",
      "   @ Main ~/.julia/packages/Parameters/MK0O4/src/Parameters.jl:545\n",
      " [2] top-level scope\n",
      "   @ ~/casa/work/2023/TallerJulia/diciembre2023.ipynb:1"
     ]
    }
   ],
   "source": [
    "b = Event(v=3) # then Event(v=3.0)"
   ]
  },
  {
   "cell_type": "markdown",
   "metadata": {},
   "source": [
    "## Unitful quantities"
   ]
  },
  {
   "cell_type": "code",
   "execution_count": 26,
   "metadata": {},
   "outputs": [
    {
     "name": "stdout",
     "output_type": "stream",
     "text": [
      "x = Quantity{Float64, 𝐋, Unitful.FreeUnits{(kpc,), 𝐋, nothing}}[0.9299809364900019 kpc, 0.7222774396075209 kpc, 0.19684742803206134 kpc]\n",
      "v = Quantity{Float64, 𝐋 𝐓^-1, Unitful.FreeUnits{(km, s^-1), 𝐋 𝐓^-1, nothing}}[0.961336404523244 km s^-1, 0.2177251470073298 km s^-1, 0.0808422578624699 km s^-1]\n",
      "t = 1000000 s\n"
     ]
    },
    {
     "data": {
      "text/plain": [
       "1000000 s"
      ]
     },
     "metadata": {},
     "output_type": "display_data"
    }
   ],
   "source": [
    "using Unitful, UnitfulAstro\n",
    "x = rand(3)u\"kpc\"\n",
    "v = rand(3)u\"km/s\"\n",
    "t = 10^6*u\"s\"\n",
    "@show x v t"
   ]
  },
  {
   "cell_type": "code",
   "execution_count": 27,
   "metadata": {},
   "outputs": [
    {
     "data": {
      "text/plain": [
       "3-element Vector{Quantity{Float64, 𝐋 𝐓^-2, Unitful.FreeUnits{(km, s^-2), 𝐋 𝐓^-2, nothing}}}:\n",
       "  9.61336404523244e-7 km s^-2\n",
       " 2.177251470073298e-7 km s^-2\n",
       " 8.084225786246991e-8 km s^-2"
      ]
     },
     "metadata": {},
     "output_type": "display_data"
    }
   ],
   "source": [
    "a = v/t"
   ]
  },
  {
   "cell_type": "code",
   "execution_count": 30,
   "metadata": {},
   "outputs": [
    {
     "data": {
      "text/plain": [
       "3-element Vector{Quantity{Float64, 𝐋 𝐓^-2, Unitful.FreeUnits{(km, s^-1, Myr^-1), 𝐋 𝐓^-2, nothing}}}:\n",
       " 3.0337469719382722e7 km s^-1 Myr^-1\n",
       "  6.870883099198511e6 km s^-1 Myr^-1\n",
       "   2.55118763672068e6 km s^-1 Myr^-1"
      ]
     },
     "metadata": {},
     "output_type": "display_data"
    }
   ],
   "source": [
    "uconvert.(u\"km/s/Myr\",a)"
   ]
  },
  {
   "cell_type": "code",
   "execution_count": 31,
   "metadata": {},
   "outputs": [
    {
     "data": {
      "text/plain": [
       "6.6743e-11 m^3 kg^-1 s^-2"
      ]
     },
     "metadata": {},
     "output_type": "display_data"
    }
   ],
   "source": [
    "u\"G\""
   ]
  },
  {
   "cell_type": "code",
   "execution_count": 34,
   "metadata": {},
   "outputs": [
    {
     "data": {
      "text/plain": [
       "4.30091727003628e-6 km^2 kpc s^-2 M⊙^-1"
      ]
     },
     "metadata": {},
     "output_type": "display_data"
    }
   ],
   "source": [
    "G = uconvert(u\"kpc*Msun^-1*(km/s)^2\",u\"G\")"
   ]
  },
  {
   "cell_type": "markdown",
   "metadata": {},
   "source": [
    "## Automatic Differentiation"
   ]
  },
  {
   "cell_type": "code",
   "execution_count": 35,
   "metadata": {},
   "outputs": [
    {
     "data": {
      "text/plain": [
       "f (generic function with 1 method)"
      ]
     },
     "metadata": {},
     "output_type": "display_data"
    }
   ],
   "source": [
    "using Zygote\n",
    "f(x,y) = exp(x/y)*cos(3x+2y)"
   ]
  },
  {
   "cell_type": "code",
   "execution_count": 49,
   "metadata": {},
   "outputs": [
    {
     "data": {
      "text/plain": [
       "∇f (generic function with 1 method)"
      ]
     },
     "metadata": {},
     "output_type": "display_data"
    }
   ],
   "source": [
    "∇f(x,y) = gradient((x,y)->f(x,y), x,y)"
   ]
  },
  {
   "cell_type": "code",
   "execution_count": 51,
   "metadata": {},
   "outputs": [
    {
     "data": {
      "text/plain": [
       "(-2.6280759982354986, -2.4771192304363403)"
      ]
     },
     "metadata": {},
     "output_type": "display_data"
    }
   ],
   "source": [
    "∇f(1.,2.)"
   ]
  },
  {
   "cell_type": "code",
   "execution_count": 52,
   "metadata": {},
   "outputs": [
    {
     "data": {
      "text/plain": [
       "∇f (generic function with 2 methods)"
      ]
     },
     "metadata": {},
     "output_type": "display_data"
    }
   ],
   "source": [
    "∇f(x) = gradient(x->f(x...), x)"
   ]
  },
  {
   "cell_type": "code",
   "execution_count": 53,
   "metadata": {},
   "outputs": [
    {
     "data": {
      "text/html": [
       "# 2 methods for generic function <b>∇f</b> from \u001b[35mMain\u001b[39m:<ul><li> ∇f(x) in Main at <a href=\"https://github.com/martinmestre/TallerJulia/tree/5f8b68d152b6cafb4d8e368330ba168f51491766//diciembre2023.ipynb#L1\" target=\"_blank\">/home/mmestre/casa/work/2023/TallerJulia/diciembre2023.ipynb:1</a></li> <li> ∇f(x, y) in Main at <a href=\"https://github.com/martinmestre/TallerJulia/tree/5f8b68d152b6cafb4d8e368330ba168f51491766//diciembre2023.ipynb#L1\" target=\"_blank\">/home/mmestre/casa/work/2023/TallerJulia/diciembre2023.ipynb:1</a></li> </ul>"
      ],
      "text/plain": [
       "# 2 methods for generic function \"∇f\" from \u001b[35mMain\u001b[39m:\n",
       " [1] ∇f(\u001b[90mx\u001b[39m)\n",
       "\u001b[90m     @\u001b[39m \u001b[90m~/casa/work/2023/TallerJulia/\u001b[39m\u001b[90m\u001b[4mdiciembre2023.ipynb:1\u001b[24m\u001b[39m\n",
       " [2] ∇f(\u001b[90mx\u001b[39m, \u001b[90my\u001b[39m)\n",
       "\u001b[90m     @\u001b[39m \u001b[90m~/casa/work/2023/TallerJulia/\u001b[39m\u001b[90m\u001b[4mdiciembre2023.ipynb:1\u001b[24m\u001b[39m"
      ]
     },
     "metadata": {},
     "output_type": "display_data"
    }
   ],
   "source": [
    "methods(∇f)"
   ]
  },
  {
   "cell_type": "code",
   "execution_count": 64,
   "metadata": {},
   "outputs": [
    {
     "name": "stdout",
     "output_type": "stream",
     "text": [
      "(∇f([1.0, 2.0]))[1] = [-2.6280759982354986, -2.4771192304363403]\n",
      "∇f(1.0, 2.0) = (-2.6280759982354986, -2.4771192304363403)\n"
     ]
    },
    {
     "data": {
      "text/plain": [
       "(-2.6280759982354986, -2.4771192304363403)"
      ]
     },
     "metadata": {},
     "output_type": "display_data"
    }
   ],
   "source": [
    "@show ∇f([1.,2.])[1]  ∇f(1.,2.)"
   ]
  },
  {
   "cell_type": "code",
   "execution_count": 67,
   "metadata": {},
   "outputs": [
    {
     "data": {
      "text/plain": [
       "∇f (generic function with 2 methods)"
      ]
     },
     "metadata": {},
     "output_type": "display_data"
    }
   ],
   "source": [
    "f(x,y) = exp(x)*exp(7y)\n",
    "Df(x,y) = [1,7]*f(x,y)\n",
    "∇f(x,y) = gradient((x,y)->f(x,y), x,y)"
   ]
  },
  {
   "cell_type": "code",
   "execution_count": 73,
   "metadata": {},
   "outputs": [
    {
     "name": "stdout",
     "output_type": "stream",
     "text": [
      "Df(x...) = [7.781132241133797e-20, 5.446792568793657e-19]\n",
      "∇f(x...) = (7.781132241133797e-20, 5.446792568793657e-19)\n"
     ]
    },
    {
     "data": {
      "text/plain": [
       "2-element BitVector:\n",
       " 1\n",
       " 1"
      ]
     },
     "metadata": {},
     "output_type": "display_data"
    }
   ],
   "source": [
    "x = [5.,-7.]\n",
    "@show Df(x...) ∇f(x...)\n",
    "Df(x...) .== ∇f(x...)"
   ]
  },
  {
   "cell_type": "code",
   "execution_count": null,
   "metadata": {},
   "outputs": [],
   "source": []
  }
 ],
 "metadata": {
  "kernelspec": {
   "display_name": "Julia 1.9.3",
   "language": "julia",
   "name": "julia-1.9"
  },
  "language_info": {
   "file_extension": ".jl",
   "mimetype": "application/julia",
   "name": "julia",
   "version": "1.9.3"
  }
 },
 "nbformat": 4,
 "nbformat_minor": 2
}
