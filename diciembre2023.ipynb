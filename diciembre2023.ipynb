{
 "cells": [
  {
   "cell_type": "markdown",
   "metadata": {},
   "source": [
    "# Taller inicial de Julia"
   ]
  },
  {
   "cell_type": "markdown",
   "metadata": {},
   "source": [
    "## Environments and the Package manger (Pkg)"
   ]
  },
  {
   "cell_type": "code",
   "execution_count": 3,
   "metadata": {},
   "outputs": [
    {
     "name": "stderr",
     "output_type": "stream",
     "text": [
      "\u001b[32m\u001b[1m  Activating\u001b[22m\u001b[39m project at `~/casa/work/2023/TallerJulia`\n"
     ]
    },
    {
     "name": "stderr",
     "output_type": "stream",
     "text": [
      "\u001b[32m\u001b[1m    Updating\u001b[22m\u001b[39m registry at `~/.julia/registries/General.toml`\n"
     ]
    },
    {
     "name": "stderr",
     "output_type": "stream",
     "text": [
      "\u001b[32m\u001b[1m   Resolving\u001b[22m\u001b[39m package versions...\n"
     ]
    },
    {
     "name": "stderr",
     "output_type": "stream",
     "text": [
      "\u001b[32m\u001b[1m  No Changes\u001b[22m\u001b[39m to `~/casa/work/2023/TallerJulia/Project.toml`\n",
      "\u001b[32m\u001b[1m  No Changes\u001b[22m\u001b[39m to `~/casa/work/2023/TallerJulia/Manifest.toml`\n"
     ]
    },
    {
     "name": "stderr",
     "output_type": "stream",
     "text": [
      "\u001b[32m\u001b[1m   Resolving\u001b[22m\u001b[39m package versions...\n"
     ]
    },
    {
     "name": "stderr",
     "output_type": "stream",
     "text": [
      "\u001b[32m\u001b[1m  No Changes\u001b[22m\u001b[39m to `~/casa/work/2023/TallerJulia/Project.toml`\n",
      "\u001b[32m\u001b[1m  No Changes\u001b[22m\u001b[39m to `~/casa/work/2023/TallerJulia/Manifest.toml`\n"
     ]
    },
    {
     "name": "stderr",
     "output_type": "stream",
     "text": [
      "\u001b[32m\u001b[1m   Resolving\u001b[22m\u001b[39m package versions...\n"
     ]
    },
    {
     "name": "stderr",
     "output_type": "stream",
     "text": [
      "\u001b[32m\u001b[1m  No Changes\u001b[22m\u001b[39m to `~/casa/work/2023/TallerJulia/Project.toml`\n",
      "\u001b[32m\u001b[1m  No Changes\u001b[22m\u001b[39m to `~/casa/work/2023/TallerJulia/Manifest.toml`\n"
     ]
    },
    {
     "name": "stderr",
     "output_type": "stream",
     "text": [
      "\u001b[32m\u001b[1m   Resolving\u001b[22m\u001b[39m package versions...\n"
     ]
    },
    {
     "name": "stderr",
     "output_type": "stream",
     "text": [
      "\u001b[32m\u001b[1m  No Changes\u001b[22m\u001b[39m to `~/casa/work/2023/TallerJulia/Project.toml`\n",
      "\u001b[32m\u001b[1m  No Changes\u001b[22m\u001b[39m to `~/casa/work/2023/TallerJulia/Manifest.toml`\n"
     ]
    },
    {
     "name": "stderr",
     "output_type": "stream",
     "text": [
      "\u001b[32m\u001b[1m   Resolving\u001b[22m\u001b[39m package versions...\n"
     ]
    },
    {
     "name": "stderr",
     "output_type": "stream",
     "text": [
      "\u001b[32m\u001b[1m  No Changes\u001b[22m\u001b[39m to `~/casa/work/2023/TallerJulia/Project.toml`\n",
      "\u001b[32m\u001b[1m  No Changes\u001b[22m\u001b[39m to `~/casa/work/2023/TallerJulia/Manifest.toml`\n"
     ]
    },
    {
     "name": "stderr",
     "output_type": "stream",
     "text": [
      "\u001b[32m\u001b[1m   Resolving\u001b[22m\u001b[39m package versions...\n"
     ]
    },
    {
     "name": "stderr",
     "output_type": "stream",
     "text": [
      "\u001b[32m\u001b[1m  No Changes\u001b[22m\u001b[39m to `~/casa/work/2023/TallerJulia/Project.toml`\n",
      "\u001b[32m\u001b[1m  No Changes\u001b[22m\u001b[39m to `~/casa/work/2023/TallerJulia/Manifest.toml`\n"
     ]
    }
   ],
   "source": [
    "using Pkg\n",
    "Pkg.activate(\".\")\n",
    "Pkg.add(\"Parameters\")\n",
    "Pkg.add(\"Unitful\")\n",
    "Pkg.add(\"UnitfulAstro\")\n",
    "Pkg.add(\"Zygote\")\n",
    "Pkg.add(\"DataFrames\")\n",
    "Pkg.add(\"DifferentialEquations\")"
   ]
  },
  {
   "cell_type": "markdown",
   "metadata": {},
   "source": [
    "## Arrays"
   ]
  },
  {
   "cell_type": "code",
   "execution_count": 4,
   "metadata": {},
   "outputs": [
    {
     "name": "stdout",
     "output_type": "stream",
     "text": [
      "a = [1.0, 2.0, 3.0]\n",
      "typeof(a) = Vector{Float64}\n",
      "typeof(a) <: Vector{Integer} = false\n",
      "typeof(a) <: Vector{Float64} = true\n"
     ]
    }
   ],
   "source": [
    "# Arrays\n",
    "a = [1.0, 2.0, 3.0]\n",
    "@show a typeof(a)\n",
    "@show typeof(a)<:Vector{Integer}\n",
    "@show typeof(a)<:Vector{Float64};\n"
   ]
  },
  {
   "cell_type": "code",
   "execution_count": null,
   "metadata": {},
   "outputs": [],
   "source": [
    "a[begin]==a[1]  # a[end]==a[3]"
   ]
  },
  {
   "cell_type": "code",
   "execution_count": null,
   "metadata": {},
   "outputs": [],
   "source": [
    "@show sum(a)\n",
    "b = 2a\n",
    "@show c = a + b\n",
    "@show c = a + b.*b\n",
    "@show c = a .+ b'b;"
   ]
  },
  {
   "cell_type": "code",
   "execution_count": null,
   "metadata": {},
   "outputs": [],
   "source": [
    "m = [a 2a 3a]\n",
    "display(m)\n",
    "display(m')"
   ]
  },
  {
   "cell_type": "markdown",
   "metadata": {},
   "source": [
    "## Structs"
   ]
  },
  {
   "cell_type": "code",
   "execution_count": null,
   "metadata": {},
   "outputs": [],
   "source": [
    "struct Evento{T<:Real,D<:Real}\n",
    "    t::T\n",
    "    x::D\n",
    "    v::D\n",
    "end"
   ]
  },
  {
   "cell_type": "code",
   "execution_count": null,
   "metadata": {},
   "outputs": [],
   "source": [
    "a = Evento(0, 10., 1.)"
   ]
  },
  {
   "cell_type": "code",
   "execution_count": null,
   "metadata": {},
   "outputs": [],
   "source": [
    "a = Evento(0, 10.) # show what happens"
   ]
  },
  {
   "cell_type": "code",
   "execution_count": null,
   "metadata": {},
   "outputs": [],
   "source": [
    "Evento(x::T,y::T) where {T<:Real} = Evento(0., x, y)"
   ]
  },
  {
   "cell_type": "code",
   "execution_count": null,
   "metadata": {},
   "outputs": [],
   "source": [
    "Evento(10., 1.)"
   ]
  },
  {
   "cell_type": "code",
   "execution_count": null,
   "metadata": {},
   "outputs": [],
   "source": [
    "methods(Evento)"
   ]
  },
  {
   "cell_type": "code",
   "execution_count": null,
   "metadata": {},
   "outputs": [],
   "source": [
    "Evento(; t=9, x=7, v) = Evento(t, x, v)"
   ]
  },
  {
   "cell_type": "code",
   "execution_count": null,
   "metadata": {},
   "outputs": [],
   "source": [
    "a = Evento(t=0, x=1, v=1)"
   ]
  },
  {
   "cell_type": "code",
   "execution_count": null,
   "metadata": {},
   "outputs": [],
   "source": [
    "b = Evento(t=98)"
   ]
  },
  {
   "cell_type": "code",
   "execution_count": null,
   "metadata": {},
   "outputs": [],
   "source": [
    "b = Evento(v=54)"
   ]
  },
  {
   "cell_type": "markdown",
   "metadata": {},
   "source": [
    "## Parameters package"
   ]
  },
  {
   "cell_type": "code",
   "execution_count": 10,
   "metadata": {},
   "outputs": [
    {
     "data": {
      "text/plain": [
       "Event"
      ]
     },
     "metadata": {},
     "output_type": "display_data"
    }
   ],
   "source": [
    "using Parameters\n",
    "@with_kw struct Event{T<:Real,D<:Real}\n",
    "    t::T = 0.0\n",
    "    x::D = 5.0\n",
    "    v::D\n",
    "end"
   ]
  },
  {
   "cell_type": "code",
   "execution_count": 11,
   "metadata": {},
   "outputs": [
    {
     "data": {
      "text/html": [
       "# 5 methods for type constructor:<ul><li> Event(; <i>t, x, v</i>) in Main at <a href=\"file:///home/mmestre/.julia/packages/Parameters/MK0O4/src/Parameters.jl\" target=\"_blank\">/home/mmestre/.julia/packages/Parameters/MK0O4/src/Parameters.jl:545</a></li> <li> Event(pp::<b>Event</b>; <i>kws...</i>) in Main at <a href=\"file:///home/mmestre/.julia/packages/Parameters/MK0O4/src/Parameters.jl\" target=\"_blank\">/home/mmestre/.julia/packages/Parameters/MK0O4/src/Parameters.jl:569</a></li> <li> Event(pp::<b>Event</b>, di::<b>AbstractDict</b>) in Main at <a href=\"file:///home/mmestre/.julia/packages/Parameters/MK0O4/src/Parameters.jl\" target=\"_blank\">/home/mmestre/.julia/packages/Parameters/MK0O4/src/Parameters.jl:572</a></li> <li> Event(pp::<b>Event</b>, di::<b>Tuple{Symbol, Any}...</b>) in Main at <a href=\"file:///home/mmestre/.julia/packages/Parameters/MK0O4/src/Parameters.jl\" target=\"_blank\">/home/mmestre/.julia/packages/Parameters/MK0O4/src/Parameters.jl:573</a></li> <li> Event(t::<b>T</b>, x::<b>D</b>, v::<b>D</b>)<i> where {T<:Real, D<:Real}</i> in Main at <a href=\"file:///home/mmestre/.julia/packages/Parameters/MK0O4/src/Parameters.jl\" target=\"_blank\">/home/mmestre/.julia/packages/Parameters/MK0O4/src/Parameters.jl:526</a></li> </ul>"
      ],
      "text/plain": [
       "# 5 methods for type constructor:\n",
       " [1] Event(; t, x, v)\n",
       "\u001b[90m     @\u001b[39m \u001b[90m~/.julia/packages/Parameters/MK0O4/src/\u001b[39m\u001b[90m\u001b[4mParameters.jl:545\u001b[24m\u001b[39m\n",
       " [2] Event(\u001b[90mpp\u001b[39m::\u001b[1mEvent\u001b[22m; kws...)\n",
       "\u001b[90m     @\u001b[39m \u001b[90m~/.julia/packages/Parameters/MK0O4/src/\u001b[39m\u001b[90m\u001b[4mParameters.jl:569\u001b[24m\u001b[39m\n",
       " [3] Event(\u001b[90mpp\u001b[39m::\u001b[1mEvent\u001b[22m, \u001b[90mdi\u001b[39m::\u001b[1mAbstractDict\u001b[22m)\n",
       "\u001b[90m     @\u001b[39m \u001b[90m~/.julia/packages/Parameters/MK0O4/src/\u001b[39m\u001b[90m\u001b[4mParameters.jl:572\u001b[24m\u001b[39m\n",
       " [4] Event(\u001b[90mpp\u001b[39m::\u001b[1mEvent\u001b[22m, \u001b[90mdi\u001b[39m::\u001b[1mTuple\u001b[22m\u001b[0m{Symbol, Any}\u001b[1m...\u001b[22m)\n",
       "\u001b[90m     @\u001b[39m \u001b[90m~/.julia/packages/Parameters/MK0O4/src/\u001b[39m\u001b[90m\u001b[4mParameters.jl:573\u001b[24m\u001b[39m\n",
       " [5] Event(\u001b[90mt\u001b[39m::\u001b[1mT\u001b[22m, \u001b[90mx\u001b[39m::\u001b[1mD\u001b[22m, \u001b[90mv\u001b[39m::\u001b[1mD\u001b[22m) where {T<:Real, D<:Real}\n",
       "\u001b[90m     @\u001b[39m \u001b[90m~/.julia/packages/Parameters/MK0O4/src/\u001b[39m\u001b[90m\u001b[4mParameters.jl:526\u001b[24m\u001b[39m"
      ]
     },
     "metadata": {},
     "output_type": "display_data"
    }
   ],
   "source": [
    "methods(Event)"
   ]
  },
  {
   "cell_type": "code",
   "execution_count": 15,
   "metadata": {},
   "outputs": [
    {
     "ename": "MethodError",
     "evalue": "MethodError: no method matching Event(::Float64, ::Float64, ::Int64)\n\nClosest candidates are:\n  Event(::T, ::D, !Matched::D) where {T<:Real, D<:Real}\n   @ Main ~/.julia/packages/Parameters/MK0O4/src/Parameters.jl:526\n",
     "output_type": "error",
     "traceback": [
      "MethodError: no method matching Event(::Float64, ::Float64, ::Int64)\n",
      "\n",
      "Closest candidates are:\n",
      "  Event(::T, ::D, !Matched::D) where {T<:Real, D<:Real}\n",
      "   @ Main ~/.julia/packages/Parameters/MK0O4/src/Parameters.jl:526\n",
      "\n",
      "\n",
      "Stacktrace:\n",
      " [1] Event(; t::Float64, x::Float64, v::Int64)\n",
      "   @ Main ~/.julia/packages/Parameters/MK0O4/src/Parameters.jl:545\n",
      " [2] top-level scope\n",
      "   @ ~/casa/work/2023/TallerJulia/diciembre2023.ipynb:1"
     ]
    }
   ],
   "source": [
    "b = Event(v=3) # then Event(v=3.0)"
   ]
  },
  {
   "cell_type": "markdown",
   "metadata": {},
   "source": [
    "## Unitful Quantities"
   ]
  },
  {
   "cell_type": "code",
   "execution_count": 26,
   "metadata": {},
   "outputs": [
    {
     "name": "stdout",
     "output_type": "stream",
     "text": [
      "x = Quantity{Float64, 𝐋, Unitful.FreeUnits{(kpc,), 𝐋, nothing}}[0.9299809364900019 kpc, 0.7222774396075209 kpc, 0.19684742803206134 kpc]\n",
      "v = Quantity{Float64, 𝐋 𝐓^-1, Unitful.FreeUnits{(km, s^-1), 𝐋 𝐓^-1, nothing}}[0.961336404523244 km s^-1, 0.2177251470073298 km s^-1, 0.0808422578624699 km s^-1]\n",
      "t = 1000000 s\n"
     ]
    },
    {
     "data": {
      "text/plain": [
       "1000000 s"
      ]
     },
     "metadata": {},
     "output_type": "display_data"
    }
   ],
   "source": [
    "using Unitful, UnitfulAstro\n",
    "x = rand(3)u\"kpc\"\n",
    "v = rand(3)u\"km/s\"\n",
    "t = 10^6*u\"s\"\n",
    "@show x v t"
   ]
  },
  {
   "cell_type": "code",
   "execution_count": 27,
   "metadata": {},
   "outputs": [
    {
     "data": {
      "text/plain": [
       "3-element Vector{Quantity{Float64, 𝐋 𝐓^-2, Unitful.FreeUnits{(km, s^-2), 𝐋 𝐓^-2, nothing}}}:\n",
       "  9.61336404523244e-7 km s^-2\n",
       " 2.177251470073298e-7 km s^-2\n",
       " 8.084225786246991e-8 km s^-2"
      ]
     },
     "metadata": {},
     "output_type": "display_data"
    }
   ],
   "source": [
    "a = v/t"
   ]
  },
  {
   "cell_type": "code",
   "execution_count": 30,
   "metadata": {},
   "outputs": [
    {
     "data": {
      "text/plain": [
       "3-element Vector{Quantity{Float64, 𝐋 𝐓^-2, Unitful.FreeUnits{(km, s^-1, Myr^-1), 𝐋 𝐓^-2, nothing}}}:\n",
       " 3.0337469719382722e7 km s^-1 Myr^-1\n",
       "  6.870883099198511e6 km s^-1 Myr^-1\n",
       "   2.55118763672068e6 km s^-1 Myr^-1"
      ]
     },
     "metadata": {},
     "output_type": "display_data"
    }
   ],
   "source": [
    "uconvert.(u\"km/s/Myr\",a)"
   ]
  },
  {
   "cell_type": "code",
   "execution_count": 31,
   "metadata": {},
   "outputs": [
    {
     "data": {
      "text/plain": [
       "6.6743e-11 m^3 kg^-1 s^-2"
      ]
     },
     "metadata": {},
     "output_type": "display_data"
    }
   ],
   "source": [
    "u\"G\""
   ]
  },
  {
   "cell_type": "code",
   "execution_count": 34,
   "metadata": {},
   "outputs": [
    {
     "data": {
      "text/plain": [
       "4.30091727003628e-6 km^2 kpc s^-2 M⊙^-1"
      ]
     },
     "metadata": {},
     "output_type": "display_data"
    }
   ],
   "source": [
    "G = uconvert(u\"kpc*Msun^-1*(km/s)^2\",u\"G\")"
   ]
  },
  {
   "cell_type": "markdown",
   "metadata": {},
   "source": [
    "## Automatic Differentiation"
   ]
  },
  {
   "cell_type": "code",
   "execution_count": 35,
   "metadata": {},
   "outputs": [
    {
     "data": {
      "text/plain": [
       "f (generic function with 1 method)"
      ]
     },
     "metadata": {},
     "output_type": "display_data"
    }
   ],
   "source": [
    "using Zygote\n",
    "f(x,y) = exp(x/y)*cos(3x+2y)"
   ]
  },
  {
   "cell_type": "code",
   "execution_count": 49,
   "metadata": {},
   "outputs": [
    {
     "data": {
      "text/plain": [
       "∇f (generic function with 1 method)"
      ]
     },
     "metadata": {},
     "output_type": "display_data"
    }
   ],
   "source": [
    "∇f(x,y) = gradient((x,y)->f(x,y), x,y)"
   ]
  },
  {
   "cell_type": "code",
   "execution_count": 51,
   "metadata": {},
   "outputs": [
    {
     "data": {
      "text/plain": [
       "(-2.6280759982354986, -2.4771192304363403)"
      ]
     },
     "metadata": {},
     "output_type": "display_data"
    }
   ],
   "source": [
    "∇f(1.,2.)"
   ]
  },
  {
   "cell_type": "code",
   "execution_count": 52,
   "metadata": {},
   "outputs": [
    {
     "data": {
      "text/plain": [
       "∇f (generic function with 2 methods)"
      ]
     },
     "metadata": {},
     "output_type": "display_data"
    }
   ],
   "source": [
    "∇f(x) = gradient(x->f(x...), x)"
   ]
  },
  {
   "cell_type": "code",
   "execution_count": 53,
   "metadata": {},
   "outputs": [
    {
     "data": {
      "text/html": [
       "# 2 methods for generic function <b>∇f</b> from \u001b[35mMain\u001b[39m:<ul><li> ∇f(x) in Main at <a href=\"https://github.com/martinmestre/TallerJulia/tree/5f8b68d152b6cafb4d8e368330ba168f51491766//diciembre2023.ipynb#L1\" target=\"_blank\">/home/mmestre/casa/work/2023/TallerJulia/diciembre2023.ipynb:1</a></li> <li> ∇f(x, y) in Main at <a href=\"https://github.com/martinmestre/TallerJulia/tree/5f8b68d152b6cafb4d8e368330ba168f51491766//diciembre2023.ipynb#L1\" target=\"_blank\">/home/mmestre/casa/work/2023/TallerJulia/diciembre2023.ipynb:1</a></li> </ul>"
      ],
      "text/plain": [
       "# 2 methods for generic function \"∇f\" from \u001b[35mMain\u001b[39m:\n",
       " [1] ∇f(\u001b[90mx\u001b[39m)\n",
       "\u001b[90m     @\u001b[39m \u001b[90m~/casa/work/2023/TallerJulia/\u001b[39m\u001b[90m\u001b[4mdiciembre2023.ipynb:1\u001b[24m\u001b[39m\n",
       " [2] ∇f(\u001b[90mx\u001b[39m, \u001b[90my\u001b[39m)\n",
       "\u001b[90m     @\u001b[39m \u001b[90m~/casa/work/2023/TallerJulia/\u001b[39m\u001b[90m\u001b[4mdiciembre2023.ipynb:1\u001b[24m\u001b[39m"
      ]
     },
     "metadata": {},
     "output_type": "display_data"
    }
   ],
   "source": [
    "methods(∇f)"
   ]
  },
  {
   "cell_type": "code",
   "execution_count": 64,
   "metadata": {},
   "outputs": [
    {
     "name": "stdout",
     "output_type": "stream",
     "text": [
      "(∇f([1.0, 2.0]))[1] = [-2.6280759982354986, -2.4771192304363403]\n",
      "∇f(1.0, 2.0) = (-2.6280759982354986, -2.4771192304363403)\n"
     ]
    },
    {
     "data": {
      "text/plain": [
       "(-2.6280759982354986, -2.4771192304363403)"
      ]
     },
     "metadata": {},
     "output_type": "display_data"
    }
   ],
   "source": [
    "@show ∇f([1.,2.])[1]  ∇f(1.,2.)"
   ]
  },
  {
   "cell_type": "code",
   "execution_count": 74,
   "metadata": {},
   "outputs": [
    {
     "data": {
      "text/plain": [
       "df (generic function with 1 method)"
      ]
     },
     "metadata": {},
     "output_type": "display_data"
    }
   ],
   "source": [
    "f(x,y) = exp(x)*exp(7y)\n",
    "Df(x,y) = [1,7]*f(x,y)\n",
    "∇f(x,y) = gradient((x,y)->f(x,y), x,y)\n",
    "df(x,y) = gradient(f, x,y)"
   ]
  },
  {
   "cell_type": "code",
   "execution_count": 78,
   "metadata": {},
   "outputs": [
    {
     "name": "stdout",
     "output_type": "stream",
     "text": [
      "Df(x...) = [7.781132241133797e-20, 5.446792568793657e-19]\n",
      "∇f(x...) = (7.781132241133797e-20, 5.446792568793657e-19)\n",
      "df(x...) = (7.781132241133797e-20, 5.446792568793657e-19)\n",
      "Df(x...) .== ∇f(x...) = Bool[1, 1]\n",
      "Df(x...) .== df(x...) = Bool[1, 1]\n"
     ]
    }
   ],
   "source": [
    "x = [5.,-7.]\n",
    "@show Df(x...) ∇f(x...) df(x...)\n",
    "@show Df(x...) .== ∇f(x...);\n",
    "@show Df(x...) .== df(x...);"
   ]
  },
  {
   "cell_type": "markdown",
   "metadata": {},
   "source": [
    "## Data Frames"
   ]
  },
  {
   "cell_type": "code",
   "execution_count": 89,
   "metadata": {},
   "outputs": [
    {
     "data": {
      "text/html": [
       "<div><div style = \"float: left;\"><span>20×4 DataFrame</span></div><div style = \"clear: both;\"></div></div><div class = \"data-frame\" style = \"overflow-x: scroll;\"><table class = \"data-frame\" style = \"margin-bottom: 6px;\"><thead><tr class = \"header\"><th class = \"rowNumber\" style = \"font-weight: bold; text-align: right;\">Row</th><th style = \"text-align: left;\">id</th><th style = \"text-align: left;\">x</th><th style = \"text-align: left;\">y</th><th style = \"text-align: left;\">z</th></tr><tr class = \"subheader headerLastRow\"><th class = \"rowNumber\" style = \"font-weight: bold; text-align: right;\"></th><th title = \"Int64\" style = \"text-align: left;\">Int64</th><th title = \"Float64\" style = \"text-align: left;\">Float64</th><th title = \"Float64\" style = \"text-align: left;\">Float64</th><th title = \"Float64\" style = \"text-align: left;\">Float64</th></tr></thead><tbody><tr><td class = \"rowNumber\" style = \"font-weight: bold; text-align: right;\">1</td><td style = \"text-align: right;\">1</td><td style = \"text-align: right;\">0.771163</td><td style = \"text-align: right;\">0.935211</td><td style = \"text-align: right;\">0.317131</td></tr><tr><td class = \"rowNumber\" style = \"font-weight: bold; text-align: right;\">2</td><td style = \"text-align: right;\">2</td><td style = \"text-align: right;\">0.615179</td><td style = \"text-align: right;\">0.347024</td><td style = \"text-align: right;\">0.711141</td></tr><tr><td class = \"rowNumber\" style = \"font-weight: bold; text-align: right;\">3</td><td style = \"text-align: right;\">3</td><td style = \"text-align: right;\">0.803694</td><td style = \"text-align: right;\">0.638969</td><td style = \"text-align: right;\">0.563208</td></tr><tr><td class = \"rowNumber\" style = \"font-weight: bold; text-align: right;\">4</td><td style = \"text-align: right;\">4</td><td style = \"text-align: right;\">0.929355</td><td style = \"text-align: right;\">0.864594</td><td style = \"text-align: right;\">0.709465</td></tr><tr><td class = \"rowNumber\" style = \"font-weight: bold; text-align: right;\">5</td><td style = \"text-align: right;\">5</td><td style = \"text-align: right;\">0.0766896</td><td style = \"text-align: right;\">0.434191</td><td style = \"text-align: right;\">0.546728</td></tr><tr><td class = \"rowNumber\" style = \"font-weight: bold; text-align: right;\">6</td><td style = \"text-align: right;\">6</td><td style = \"text-align: right;\">0.407404</td><td style = \"text-align: right;\">0.919991</td><td style = \"text-align: right;\">0.0466591</td></tr><tr><td class = \"rowNumber\" style = \"font-weight: bold; text-align: right;\">7</td><td style = \"text-align: right;\">7</td><td style = \"text-align: right;\">0.911533</td><td style = \"text-align: right;\">0.455475</td><td style = \"text-align: right;\">0.814988</td></tr><tr><td class = \"rowNumber\" style = \"font-weight: bold; text-align: right;\">8</td><td style = \"text-align: right;\">8</td><td style = \"text-align: right;\">0.748734</td><td style = \"text-align: right;\">0.599982</td><td style = \"text-align: right;\">0.294086</td></tr><tr><td class = \"rowNumber\" style = \"font-weight: bold; text-align: right;\">9</td><td style = \"text-align: right;\">9</td><td style = \"text-align: right;\">0.779079</td><td style = \"text-align: right;\">0.0112006</td><td style = \"text-align: right;\">0.823612</td></tr><tr><td class = \"rowNumber\" style = \"font-weight: bold; text-align: right;\">10</td><td style = \"text-align: right;\">10</td><td style = \"text-align: right;\">0.0921933</td><td style = \"text-align: right;\">0.77871</td><td style = \"text-align: right;\">0.875819</td></tr><tr><td class = \"rowNumber\" style = \"font-weight: bold; text-align: right;\">11</td><td style = \"text-align: right;\">11</td><td style = \"text-align: right;\">0.114836</td><td style = \"text-align: right;\">0.656846</td><td style = \"text-align: right;\">0.475584</td></tr><tr><td class = \"rowNumber\" style = \"font-weight: bold; text-align: right;\">12</td><td style = \"text-align: right;\">12</td><td style = \"text-align: right;\">0.299873</td><td style = \"text-align: right;\">0.644964</td><td style = \"text-align: right;\">0.159851</td></tr><tr><td class = \"rowNumber\" style = \"font-weight: bold; text-align: right;\">13</td><td style = \"text-align: right;\">13</td><td style = \"text-align: right;\">0.00523033</td><td style = \"text-align: right;\">0.604678</td><td style = \"text-align: right;\">0.804608</td></tr><tr><td class = \"rowNumber\" style = \"font-weight: bold; text-align: right;\">14</td><td style = \"text-align: right;\">14</td><td style = \"text-align: right;\">0.236372</td><td style = \"text-align: right;\">0.197244</td><td style = \"text-align: right;\">0.395045</td></tr><tr><td class = \"rowNumber\" style = \"font-weight: bold; text-align: right;\">15</td><td style = \"text-align: right;\">15</td><td style = \"text-align: right;\">0.517373</td><td style = \"text-align: right;\">0.543777</td><td style = \"text-align: right;\">0.210781</td></tr><tr><td class = \"rowNumber\" style = \"font-weight: bold; text-align: right;\">16</td><td style = \"text-align: right;\">16</td><td style = \"text-align: right;\">0.728981</td><td style = \"text-align: right;\">0.204029</td><td style = \"text-align: right;\">0.0504198</td></tr><tr><td class = \"rowNumber\" style = \"font-weight: bold; text-align: right;\">17</td><td style = \"text-align: right;\">17</td><td style = \"text-align: right;\">0.842393</td><td style = \"text-align: right;\">0.93262</td><td style = \"text-align: right;\">0.571255</td></tr><tr><td class = \"rowNumber\" style = \"font-weight: bold; text-align: right;\">18</td><td style = \"text-align: right;\">18</td><td style = \"text-align: right;\">0.407462</td><td style = \"text-align: right;\">0.541946</td><td style = \"text-align: right;\">0.116875</td></tr><tr><td class = \"rowNumber\" style = \"font-weight: bold; text-align: right;\">19</td><td style = \"text-align: right;\">19</td><td style = \"text-align: right;\">0.881828</td><td style = \"text-align: right;\">0.0137074</td><td style = \"text-align: right;\">0.730148</td></tr><tr><td class = \"rowNumber\" style = \"font-weight: bold; text-align: right;\">20</td><td style = \"text-align: right;\">20</td><td style = \"text-align: right;\">0.976928</td><td style = \"text-align: right;\">0.0935871</td><td style = \"text-align: right;\">0.41601</td></tr></tbody></table></div>"
      ],
      "text/latex": [
       "\\begin{tabular}{r|cccc}\n",
       "\t& id & x & y & z\\\\\n",
       "\t\\hline\n",
       "\t& Int64 & Float64 & Float64 & Float64\\\\\n",
       "\t\\hline\n",
       "\t1 & 1 & 0.771163 & 0.935211 & 0.317131 \\\\\n",
       "\t2 & 2 & 0.615179 & 0.347024 & 0.711141 \\\\\n",
       "\t3 & 3 & 0.803694 & 0.638969 & 0.563208 \\\\\n",
       "\t4 & 4 & 0.929355 & 0.864594 & 0.709465 \\\\\n",
       "\t5 & 5 & 0.0766896 & 0.434191 & 0.546728 \\\\\n",
       "\t6 & 6 & 0.407404 & 0.919991 & 0.0466591 \\\\\n",
       "\t7 & 7 & 0.911533 & 0.455475 & 0.814988 \\\\\n",
       "\t8 & 8 & 0.748734 & 0.599982 & 0.294086 \\\\\n",
       "\t9 & 9 & 0.779079 & 0.0112006 & 0.823612 \\\\\n",
       "\t10 & 10 & 0.0921933 & 0.77871 & 0.875819 \\\\\n",
       "\t11 & 11 & 0.114836 & 0.656846 & 0.475584 \\\\\n",
       "\t12 & 12 & 0.299873 & 0.644964 & 0.159851 \\\\\n",
       "\t13 & 13 & 0.00523033 & 0.604678 & 0.804608 \\\\\n",
       "\t14 & 14 & 0.236372 & 0.197244 & 0.395045 \\\\\n",
       "\t15 & 15 & 0.517373 & 0.543777 & 0.210781 \\\\\n",
       "\t16 & 16 & 0.728981 & 0.204029 & 0.0504198 \\\\\n",
       "\t17 & 17 & 0.842393 & 0.93262 & 0.571255 \\\\\n",
       "\t18 & 18 & 0.407462 & 0.541946 & 0.116875 \\\\\n",
       "\t19 & 19 & 0.881828 & 0.0137074 & 0.730148 \\\\\n",
       "\t20 & 20 & 0.976928 & 0.0935871 & 0.41601 \\\\\n",
       "\\end{tabular}\n"
      ],
      "text/plain": [
       "\u001b[1m20×4 DataFrame\u001b[0m\n",
       "\u001b[1m Row \u001b[0m│\u001b[1m id    \u001b[0m\u001b[1m x          \u001b[0m\u001b[1m y         \u001b[0m\u001b[1m z         \u001b[0m\n",
       "     │\u001b[90m Int64 \u001b[0m\u001b[90m Float64    \u001b[0m\u001b[90m Float64   \u001b[0m\u001b[90m Float64   \u001b[0m\n",
       "─────┼─────────────────────────────────────────\n",
       "   1 │     1  0.771163    0.935211   0.317131\n",
       "   2 │     2  0.615179    0.347024   0.711141\n",
       "   3 │     3  0.803694    0.638969   0.563208\n",
       "   4 │     4  0.929355    0.864594   0.709465\n",
       "   5 │     5  0.0766896   0.434191   0.546728\n",
       "   6 │     6  0.407404    0.919991   0.0466591\n",
       "   7 │     7  0.911533    0.455475   0.814988\n",
       "   8 │     8  0.748734    0.599982   0.294086\n",
       "  ⋮  │   ⋮        ⋮           ⋮          ⋮\n",
       "  14 │    14  0.236372    0.197244   0.395045\n",
       "  15 │    15  0.517373    0.543777   0.210781\n",
       "  16 │    16  0.728981    0.204029   0.0504198\n",
       "  17 │    17  0.842393    0.93262    0.571255\n",
       "  18 │    18  0.407462    0.541946   0.116875\n",
       "  19 │    19  0.881828    0.0137074  0.730148\n",
       "  20 │    20  0.976928    0.0935871  0.41601\n",
       "\u001b[36m                                 5 rows omitted\u001b[0m"
      ]
     },
     "metadata": {},
     "output_type": "display_data"
    }
   ],
   "source": [
    "using DataFrames\n",
    "n=20\n",
    "data = DataFrame(id=collect(1:n), x=rand(n), y=rand(n), z=rand(n))"
   ]
  },
  {
   "cell_type": "code",
   "execution_count": 90,
   "metadata": {},
   "outputs": [
    {
     "data": {
      "text/html": [
       "<div><div style = \"float: left;\"><span>17×4 DataFrame</span></div><div style = \"clear: both;\"></div></div><div class = \"data-frame\" style = \"overflow-x: scroll;\"><table class = \"data-frame\" style = \"margin-bottom: 6px;\"><thead><tr class = \"header\"><th class = \"rowNumber\" style = \"font-weight: bold; text-align: right;\">Row</th><th style = \"text-align: left;\">id</th><th style = \"text-align: left;\">x</th><th style = \"text-align: left;\">y</th><th style = \"text-align: left;\">z</th></tr><tr class = \"subheader headerLastRow\"><th class = \"rowNumber\" style = \"font-weight: bold; text-align: right;\"></th><th title = \"Int64\" style = \"text-align: left;\">Int64</th><th title = \"Float64\" style = \"text-align: left;\">Float64</th><th title = \"Float64\" style = \"text-align: left;\">Float64</th><th title = \"Float64\" style = \"text-align: left;\">Float64</th></tr></thead><tbody><tr><td class = \"rowNumber\" style = \"font-weight: bold; text-align: right;\">1</td><td style = \"text-align: right;\">1</td><td style = \"text-align: right;\">0.771163</td><td style = \"text-align: right;\">0.935211</td><td style = \"text-align: right;\">0.317131</td></tr><tr><td class = \"rowNumber\" style = \"font-weight: bold; text-align: right;\">2</td><td style = \"text-align: right;\">2</td><td style = \"text-align: right;\">0.615179</td><td style = \"text-align: right;\">0.347024</td><td style = \"text-align: right;\">0.711141</td></tr><tr><td class = \"rowNumber\" style = \"font-weight: bold; text-align: right;\">3</td><td style = \"text-align: right;\">4</td><td style = \"text-align: right;\">0.929355</td><td style = \"text-align: right;\">0.864594</td><td style = \"text-align: right;\">0.709465</td></tr><tr><td class = \"rowNumber\" style = \"font-weight: bold; text-align: right;\">4</td><td style = \"text-align: right;\">6</td><td style = \"text-align: right;\">0.407404</td><td style = \"text-align: right;\">0.919991</td><td style = \"text-align: right;\">0.0466591</td></tr><tr><td class = \"rowNumber\" style = \"font-weight: bold; text-align: right;\">5</td><td style = \"text-align: right;\">8</td><td style = \"text-align: right;\">0.748734</td><td style = \"text-align: right;\">0.599982</td><td style = \"text-align: right;\">0.294086</td></tr><tr><td class = \"rowNumber\" style = \"font-weight: bold; text-align: right;\">6</td><td style = \"text-align: right;\">9</td><td style = \"text-align: right;\">0.779079</td><td style = \"text-align: right;\">0.0112006</td><td style = \"text-align: right;\">0.823612</td></tr><tr><td class = \"rowNumber\" style = \"font-weight: bold; text-align: right;\">7</td><td style = \"text-align: right;\">10</td><td style = \"text-align: right;\">0.0921933</td><td style = \"text-align: right;\">0.77871</td><td style = \"text-align: right;\">0.875819</td></tr><tr><td class = \"rowNumber\" style = \"font-weight: bold; text-align: right;\">8</td><td style = \"text-align: right;\">11</td><td style = \"text-align: right;\">0.114836</td><td style = \"text-align: right;\">0.656846</td><td style = \"text-align: right;\">0.475584</td></tr><tr><td class = \"rowNumber\" style = \"font-weight: bold; text-align: right;\">9</td><td style = \"text-align: right;\">12</td><td style = \"text-align: right;\">0.299873</td><td style = \"text-align: right;\">0.644964</td><td style = \"text-align: right;\">0.159851</td></tr><tr><td class = \"rowNumber\" style = \"font-weight: bold; text-align: right;\">10</td><td style = \"text-align: right;\">13</td><td style = \"text-align: right;\">0.00523033</td><td style = \"text-align: right;\">0.604678</td><td style = \"text-align: right;\">0.804608</td></tr><tr><td class = \"rowNumber\" style = \"font-weight: bold; text-align: right;\">11</td><td style = \"text-align: right;\">14</td><td style = \"text-align: right;\">0.236372</td><td style = \"text-align: right;\">0.197244</td><td style = \"text-align: right;\">0.395045</td></tr><tr><td class = \"rowNumber\" style = \"font-weight: bold; text-align: right;\">12</td><td style = \"text-align: right;\">15</td><td style = \"text-align: right;\">0.517373</td><td style = \"text-align: right;\">0.543777</td><td style = \"text-align: right;\">0.210781</td></tr><tr><td class = \"rowNumber\" style = \"font-weight: bold; text-align: right;\">13</td><td style = \"text-align: right;\">16</td><td style = \"text-align: right;\">0.728981</td><td style = \"text-align: right;\">0.204029</td><td style = \"text-align: right;\">0.0504198</td></tr><tr><td class = \"rowNumber\" style = \"font-weight: bold; text-align: right;\">14</td><td style = \"text-align: right;\">17</td><td style = \"text-align: right;\">0.842393</td><td style = \"text-align: right;\">0.93262</td><td style = \"text-align: right;\">0.571255</td></tr><tr><td class = \"rowNumber\" style = \"font-weight: bold; text-align: right;\">15</td><td style = \"text-align: right;\">18</td><td style = \"text-align: right;\">0.407462</td><td style = \"text-align: right;\">0.541946</td><td style = \"text-align: right;\">0.116875</td></tr><tr><td class = \"rowNumber\" style = \"font-weight: bold; text-align: right;\">16</td><td style = \"text-align: right;\">19</td><td style = \"text-align: right;\">0.881828</td><td style = \"text-align: right;\">0.0137074</td><td style = \"text-align: right;\">0.730148</td></tr><tr><td class = \"rowNumber\" style = \"font-weight: bold; text-align: right;\">17</td><td style = \"text-align: right;\">20</td><td style = \"text-align: right;\">0.976928</td><td style = \"text-align: right;\">0.0935871</td><td style = \"text-align: right;\">0.41601</td></tr></tbody></table></div>"
      ],
      "text/latex": [
       "\\begin{tabular}{r|cccc}\n",
       "\t& id & x & y & z\\\\\n",
       "\t\\hline\n",
       "\t& Int64 & Float64 & Float64 & Float64\\\\\n",
       "\t\\hline\n",
       "\t1 & 1 & 0.771163 & 0.935211 & 0.317131 \\\\\n",
       "\t2 & 2 & 0.615179 & 0.347024 & 0.711141 \\\\\n",
       "\t3 & 4 & 0.929355 & 0.864594 & 0.709465 \\\\\n",
       "\t4 & 6 & 0.407404 & 0.919991 & 0.0466591 \\\\\n",
       "\t5 & 8 & 0.748734 & 0.599982 & 0.294086 \\\\\n",
       "\t6 & 9 & 0.779079 & 0.0112006 & 0.823612 \\\\\n",
       "\t7 & 10 & 0.0921933 & 0.77871 & 0.875819 \\\\\n",
       "\t8 & 11 & 0.114836 & 0.656846 & 0.475584 \\\\\n",
       "\t9 & 12 & 0.299873 & 0.644964 & 0.159851 \\\\\n",
       "\t10 & 13 & 0.00523033 & 0.604678 & 0.804608 \\\\\n",
       "\t11 & 14 & 0.236372 & 0.197244 & 0.395045 \\\\\n",
       "\t12 & 15 & 0.517373 & 0.543777 & 0.210781 \\\\\n",
       "\t13 & 16 & 0.728981 & 0.204029 & 0.0504198 \\\\\n",
       "\t14 & 17 & 0.842393 & 0.93262 & 0.571255 \\\\\n",
       "\t15 & 18 & 0.407462 & 0.541946 & 0.116875 \\\\\n",
       "\t16 & 19 & 0.881828 & 0.0137074 & 0.730148 \\\\\n",
       "\t17 & 20 & 0.976928 & 0.0935871 & 0.41601 \\\\\n",
       "\\end{tabular}\n"
      ],
      "text/plain": [
       "\u001b[1m17×4 DataFrame\u001b[0m\n",
       "\u001b[1m Row \u001b[0m│\u001b[1m id    \u001b[0m\u001b[1m x          \u001b[0m\u001b[1m y         \u001b[0m\u001b[1m z         \u001b[0m\n",
       "     │\u001b[90m Int64 \u001b[0m\u001b[90m Float64    \u001b[0m\u001b[90m Float64   \u001b[0m\u001b[90m Float64   \u001b[0m\n",
       "─────┼─────────────────────────────────────────\n",
       "   1 │     1  0.771163    0.935211   0.317131\n",
       "   2 │     2  0.615179    0.347024   0.711141\n",
       "   3 │     4  0.929355    0.864594   0.709465\n",
       "   4 │     6  0.407404    0.919991   0.0466591\n",
       "   5 │     8  0.748734    0.599982   0.294086\n",
       "   6 │     9  0.779079    0.0112006  0.823612\n",
       "   7 │    10  0.0921933   0.77871    0.875819\n",
       "   8 │    11  0.114836    0.656846   0.475584\n",
       "   9 │    12  0.299873    0.644964   0.159851\n",
       "  10 │    13  0.00523033  0.604678   0.804608\n",
       "  11 │    14  0.236372    0.197244   0.395045\n",
       "  12 │    15  0.517373    0.543777   0.210781\n",
       "  13 │    16  0.728981    0.204029   0.0504198\n",
       "  14 │    17  0.842393    0.93262    0.571255\n",
       "  15 │    18  0.407462    0.541946   0.116875\n",
       "  16 │    19  0.881828    0.0137074  0.730148\n",
       "  17 │    20  0.976928    0.0935871  0.41601"
      ]
     },
     "metadata": {},
     "output_type": "display_data"
    }
   ],
   "source": [
    "deleteat!(data, [3,5,7])"
   ]
  },
  {
   "cell_type": "markdown",
   "metadata": {},
   "source": [
    "## Galactic Dynamics "
   ]
  },
  {
   "cell_type": "code",
   "execution_count": 91,
   "metadata": {},
   "outputs": [
    {
     "name": "stderr",
     "output_type": "stream",
     "text": [
      "WARNING: using GalacticDynamics.Event in module Main conflicts with an existing identifier.\n",
      "WARNING: using GalacticDynamics.G in module Main conflicts with an existing identifier.\n"
     ]
    }
   ],
   "source": [
    "using GalacticDynamics"
   ]
  },
  {
   "cell_type": "code",
   "execution_count": 102,
   "metadata": {},
   "outputs": [
    {
     "name": "stdout",
     "output_type": "stream",
     "text": [
      "pot = Plummer{Int64, Rational{Int64}}\n",
      "  m: Int64 34\n",
      "  a: Rational{Int64}\n",
      "\n",
      "pot₂ = "
     ]
    },
    {
     "name": "stdout",
     "output_type": "stream",
     "text": [
      "NFW{Int64, Int64}\n",
      "  m: Int64 1000\n",
      "  a: Int64 5\n",
      "\n"
     ]
    },
    {
     "name": "stdout",
     "output_type": "stream",
     "text": [
      "pot + pot₂ = GalacticDynamics.AbstractPotential[Plummer{Int64, Rational{Int64}}\n",
      "  m: Int64 34\n",
      "  a: Rational{Int64}\n",
      ", NFW{Int64, Int64}\n",
      "  m: Int64 1000\n",
      "  a: Int64 5\n",
      "]\n"
     ]
    },
    {
     "data": {
      "text/plain": [
       "2-element Vector{GalacticDynamics.AbstractPotential}:\n",
       " Plummer{Int64, Rational{Int64}}\n",
       "  m: Int64 34\n",
       "  a: Rational{Int64}\n",
       "\n",
       " NFW{Int64, Int64}\n",
       "  m: Int64 1000\n",
       "  a: Int64 5\n"
      ]
     },
     "metadata": {},
     "output_type": "display_data"
    }
   ],
   "source": [
    "pot = Plummer(34u\"Msun\", 10u\"pc\")\n",
    "pot₂ = NFW(10^3*u\"Msun\", 5u\"kpc\")\n",
    "@show pot pot₂ pot+pot₂"
   ]
  },
  {
   "cell_type": "code",
   "execution_count": 108,
   "metadata": {},
   "outputs": [
    {
     "name": "stdout",
     "output_type": "stream",
     "text": [
      "potential(pot, x) = -0.01282532353900881 km^2 s^-2\n",
      "acceleration(pot, x) = Quantity{Float64, 𝐋 𝐓^-2, Unitful.FreeUnits{(km, s^-1, Myr^-1), 𝐋 𝐓^-2, nothing}}[-0.4932816745772619 km s^-1 Myr^-1, -0.09865633491545238 km s^-1 Myr^-1, 0.19731266983090476 km s^-1 Myr^-1]\n",
      "potential(pot₂, x) = -1.0202395888647748 km^2 s^-2\n",
      "acceleration(pot₂, x) = Quantity{Float64, 𝐋 𝐓^-2, Unitful.FreeUnits{(km, s^-1, Myr^-1), 𝐋 𝐓^-2, nothing}}[-0.09304976990451902 km s^-1 Myr^-1, -0.018609953980903805 km s^-1 Myr^-1, 0.03721990796180761 km s^-1 Myr^-1]\n",
      "potential(pot + pot₂, x) = Quantity{Float64, 𝐋^2 𝐓^-2, Unitful.FreeUnits{(km^2, s^-2), 𝐋^2 𝐓^-2, nothing}}[-1.0330649124037836 km^2 s^-2, -1.0330649124037836 km^2 s^-2, -1.0330649124037836 km^2 s^-2]\n",
      "acceleration(pot + pot₂, x) = Quantity{Float64, 𝐋 𝐓^-2, Unitful.FreeUnits{(km, s^-1, Myr^-1), 𝐋 𝐓^-2, nothing}}[-0.5863314444817809 km s^-1 Myr^-1, -0.11726628889635618 km s^-1 Myr^-1, 0.23453257779271236 km s^-1 Myr^-1]\n"
     ]
    }
   ],
   "source": [
    "x=[5.0, 1.0, -2.0]u\"pc\"\n",
    "@show potential(pot,x)\n",
    "@show acceleration(pot,x)\n",
    "@show potential(pot₂,x)\n",
    "@show acceleration(pot₂,x)\n",
    "@show potential(pot+pot₂,x)\n",
    "@show acceleration(pot+pot₂,x);"
   ]
  },
  {
   "cell_type": "markdown",
   "metadata": {},
   "source": [
    "### DifferentialEquations.jl https://docs.sciml.ai/DiffEqDocs/stable/solvers/ode_solve/"
   ]
  },
  {
   "cell_type": "code",
   "execution_count": 127,
   "metadata": {},
   "outputs": [
    {
     "data": {
      "text/plain": [
       "example_orbit (generic function with 1 method)"
      ]
     },
     "metadata": {},
     "output_type": "display_data"
    }
   ],
   "source": [
    "using DifferentialEquations\n",
    "using Test\n",
    "\n",
    "function example_orbit()\n",
    "    m_gal = 2.325e7*u\"Msun\"\n",
    "    m =1018.0*m_gal  # Msun\n",
    "    a = 2.562*u\"kpc\"     # kpc\n",
    "    Λ = 200.0*u\"kpc\"    # kpc\n",
    "    γ = 2.0\n",
    "    pot = AllenSantillanHalo(m, a, Λ, γ)\n",
    "    for i in range(1,20)\n",
    "        w₀ = 50*rand(6)\n",
    "        x₀ = w₀[1:3]u\"kpc\"\n",
    "        v₀ = w₀[4:6]u\"km/s\"\n",
    "        t_range = (0.0,100.0).*𝕦.t\n",
    "        sol = evolve(pot, x₀, v₀, t_range)\n",
    "        sol₂ = evolve(pot, x₀, v₀, t_range; options=SolverConfig(solver=Tsit5(), reltol=5.0e-12))\n",
    "        @show @test sol.x[end] ≈ sol₂.x[end] rtol=5.0e-8\n",
    "        @show @test sol.v[end] ≈ sol₂.v[end] rtol=5.0e-8\n",
    "    end\n",
    "end"
   ]
  },
  {
   "cell_type": "code",
   "execution_count": 128,
   "metadata": {},
   "outputs": [
    {
     "name": "stdout",
     "output_type": "stream",
     "text": [
      "#= /home/mmestre/casa/work/2023/TallerJulia/diciembre2023.ipynb:18 =# @test(sol.x[end] ≈ sol₂.x[end], rtol = 5.0e-8) = Test Passed\n",
      "#= /home/mmestre/casa/work/2023/TallerJulia/diciembre2023.ipynb:19 =# @test(sol.v[end] ≈ sol₂.v[end], rtol = 5.0e-8) = Test Passed\n"
     ]
    },
    {
     "name": "stdout",
     "output_type": "stream",
     "text": [
      "#= /home/mmestre/casa/work/2023/TallerJulia/diciembre2023.ipynb:18 =# @test(sol.x[end] ≈ sol₂.x[end], rtol = 5.0e-8) = Test Passed\n",
      "#= /home/mmestre/casa/work/2023/TallerJulia/diciembre2023.ipynb:19 =# @test(sol.v[end] ≈ sol₂.v[end], rtol = 5.0e-8) = Test Passed\n"
     ]
    },
    {
     "name": "stdout",
     "output_type": "stream",
     "text": [
      "#= /home/mmestre/casa/work/2023/TallerJulia/diciembre2023.ipynb:18 =# @test(sol.x[end] ≈ sol₂.x[end], rtol = 5.0e-8) = Test Passed\n",
      "#= /home/mmestre/casa/work/2023/TallerJulia/diciembre2023.ipynb:19 =# @test(sol.v[end] ≈ sol₂.v[end], rtol = 5.0e-8) = Test Passed\n"
     ]
    },
    {
     "name": "stdout",
     "output_type": "stream",
     "text": [
      "#= /home/mmestre/casa/work/2023/TallerJulia/diciembre2023.ipynb:18 =# @test(sol.x[end] ≈ sol₂.x[end], rtol = 5.0e-8) = Test Passed\n",
      "#= /home/mmestre/casa/work/2023/TallerJulia/diciembre2023.ipynb:19 =# @test(sol.v[end] ≈ sol₂.v[end], rtol = 5.0e-8) = Test Passed\n"
     ]
    },
    {
     "name": "stdout",
     "output_type": "stream",
     "text": [
      "#= /home/mmestre/casa/work/2023/TallerJulia/diciembre2023.ipynb:18 =# @test(sol.x[end] ≈ sol₂.x[end], rtol = 5.0e-8) = Test Passed\n",
      "#= /home/mmestre/casa/work/2023/TallerJulia/diciembre2023.ipynb:19 =# @test(sol.v[end] ≈ sol₂.v[end], rtol = 5.0e-8) = Test Passed\n"
     ]
    },
    {
     "name": "stdout",
     "output_type": "stream",
     "text": [
      "#= /home/mmestre/casa/work/2023/TallerJulia/diciembre2023.ipynb:18 =# @test(sol.x[end] ≈ sol₂.x[end], rtol = 5.0e-8) = Test Passed\n",
      "#= /home/mmestre/casa/work/2023/TallerJulia/diciembre2023.ipynb:19 =# @test(sol.v[end] ≈ sol₂.v[end], rtol = 5.0e-8) = Test Passed\n"
     ]
    },
    {
     "name": "stdout",
     "output_type": "stream",
     "text": [
      "#= /home/mmestre/casa/work/2023/TallerJulia/diciembre2023.ipynb:18 =# @test(sol.x[end] ≈ sol₂.x[end], rtol = 5.0e-8) = Test Passed\n",
      "#= /home/mmestre/casa/work/2023/TallerJulia/diciembre2023.ipynb:19 =# @test(sol.v[end] ≈ sol₂.v[end], rtol = 5.0e-8) = Test Passed\n"
     ]
    },
    {
     "name": "stdout",
     "output_type": "stream",
     "text": [
      "#= /home/mmestre/casa/work/2023/TallerJulia/diciembre2023.ipynb:18 =# @test(sol.x[end] ≈ sol₂.x[end], rtol = 5.0e-8) = Test Passed\n",
      "#= /home/mmestre/casa/work/2023/TallerJulia/diciembre2023.ipynb:19 =# @test(sol.v[end] ≈ sol₂.v[end], rtol = 5.0e-8) = Test Passed\n"
     ]
    },
    {
     "name": "stdout",
     "output_type": "stream",
     "text": [
      "#= /home/mmestre/casa/work/2023/TallerJulia/diciembre2023.ipynb:18 =# @test(sol.x[end] ≈ sol₂.x[end], rtol = 5.0e-8) = Test Passed\n",
      "#= /home/mmestre/casa/work/2023/TallerJulia/diciembre2023.ipynb:19 =# @test(sol.v[end] ≈ sol₂.v[end], rtol = 5.0e-8) = Test Passed\n"
     ]
    },
    {
     "name": "stdout",
     "output_type": "stream",
     "text": [
      "#= /home/mmestre/casa/work/2023/TallerJulia/diciembre2023.ipynb:18 =# @test(sol.x[end] ≈ sol₂.x[end], rtol = 5.0e-8) = Test Passed\n",
      "#= /home/mmestre/casa/work/2023/TallerJulia/diciembre2023.ipynb:19 =# @test(sol.v[end] ≈ sol₂.v[end], rtol = 5.0e-8) = Test Passed\n"
     ]
    },
    {
     "name": "stdout",
     "output_type": "stream",
     "text": [
      "#= /home/mmestre/casa/work/2023/TallerJulia/diciembre2023.ipynb:18 =# @test(sol.x[end] ≈ sol₂.x[end], rtol = 5.0e-8) = Test Passed\n",
      "#= /home/mmestre/casa/work/2023/TallerJulia/diciembre2023.ipynb:19 =# @test(sol.v[end] ≈ sol₂.v[end], rtol = 5.0e-8) = Test Passed\n"
     ]
    },
    {
     "name": "stdout",
     "output_type": "stream",
     "text": [
      "#= /home/mmestre/casa/work/2023/TallerJulia/diciembre2023.ipynb:18 =# @test(sol.x[end] ≈ sol₂.x[end], rtol = 5.0e-8) = Test Passed\n",
      "#= /home/mmestre/casa/work/2023/TallerJulia/diciembre2023.ipynb:19 =# @test(sol.v[end] ≈ sol₂.v[end], rtol = 5.0e-8) = Test Passed\n"
     ]
    },
    {
     "name": "stdout",
     "output_type": "stream",
     "text": [
      "#= /home/mmestre/casa/work/2023/TallerJulia/diciembre2023.ipynb:18 =# @test(sol.x[end] ≈ sol₂.x[end], rtol = 5.0e-8) = Test Passed\n",
      "#= /home/mmestre/casa/work/2023/TallerJulia/diciembre2023.ipynb:19 =# @test(sol.v[end] ≈ sol₂.v[end], rtol = 5.0e-8) = Test Passed\n"
     ]
    },
    {
     "name": "stdout",
     "output_type": "stream",
     "text": [
      "#= /home/mmestre/casa/work/2023/TallerJulia/diciembre2023.ipynb:18 =# @test(sol.x[end] ≈ sol₂.x[end], rtol = 5.0e-8) = Test Passed\n",
      "#= /home/mmestre/casa/work/2023/TallerJulia/diciembre2023.ipynb:19 =# @test(sol.v[end] ≈ sol₂.v[end], rtol = 5.0e-8) = Test Passed\n"
     ]
    },
    {
     "name": "stdout",
     "output_type": "stream",
     "text": [
      "#= /home/mmestre/casa/work/2023/TallerJulia/diciembre2023.ipynb:18 =# @test(sol.x[end] ≈ sol₂.x[end], rtol = 5.0e-8) = Test Passed\n",
      "#= /home/mmestre/casa/work/2023/TallerJulia/diciembre2023.ipynb:19 =# @test(sol.v[end] ≈ sol₂.v[end], rtol = 5.0e-8) = Test Passed\n"
     ]
    },
    {
     "name": "stdout",
     "output_type": "stream",
     "text": [
      "#= /home/mmestre/casa/work/2023/TallerJulia/diciembre2023.ipynb:18 =# @test(sol.x[end] ≈ sol₂.x[end], rtol = 5.0e-8) = Test Passed\n",
      "#= /home/mmestre/casa/work/2023/TallerJulia/diciembre2023.ipynb:19 =# @test(sol.v[end] ≈ sol₂.v[end], rtol = 5.0e-8) = Test Passed\n"
     ]
    },
    {
     "name": "stdout",
     "output_type": "stream",
     "text": [
      "#= /home/mmestre/casa/work/2023/TallerJulia/diciembre2023.ipynb:18 =# @test(sol.x[end] ≈ sol₂.x[end], rtol = 5.0e-8) = Test Passed\n",
      "#= /home/mmestre/casa/work/2023/TallerJulia/diciembre2023.ipynb:19 =# @test(sol.v[end] ≈ sol₂.v[end], rtol = 5.0e-8) = Test Passed\n"
     ]
    },
    {
     "name": "stdout",
     "output_type": "stream",
     "text": [
      "#= /home/mmestre/casa/work/2023/TallerJulia/diciembre2023.ipynb:18 =# @test(sol.x[end] ≈ sol₂.x[end], rtol = 5.0e-8) = Test Passed\n",
      "#= /home/mmestre/casa/work/2023/TallerJulia/diciembre2023.ipynb:19 =# @test(sol.v[end] ≈ sol₂.v[end], rtol = 5.0e-8) = Test Passed\n"
     ]
    },
    {
     "name": "stdout",
     "output_type": "stream",
     "text": [
      "#= /home/mmestre/casa/work/2023/TallerJulia/diciembre2023.ipynb:18 =# @test(sol.x[end] ≈ sol₂.x[end], rtol = 5.0e-8) = Test Passed\n",
      "#= /home/mmestre/casa/work/2023/TallerJulia/diciembre2023.ipynb:19 =# @test(sol.v[end] ≈ sol₂.v[end], rtol = 5.0e-8) = Test Passed\n"
     ]
    },
    {
     "name": "stdout",
     "output_type": "stream",
     "text": [
      "#= /home/mmestre/casa/work/2023/TallerJulia/diciembre2023.ipynb:18 =# @test(sol.x[end] ≈ sol₂.x[end], rtol = 5.0e-8) = Test Passed\n",
      "#= /home/mmestre/casa/work/2023/TallerJulia/diciembre2023.ipynb:19 =# @test(sol.v[end] ≈ sol₂.v[end], rtol = 5.0e-8) = Test Passed\n"
     ]
    }
   ],
   "source": [
    "example_orbit()"
   ]
  },
  {
   "cell_type": "code",
   "execution_count": null,
   "metadata": {},
   "outputs": [],
   "source": []
  }
 ],
 "metadata": {
  "kernelspec": {
   "display_name": "Julia 1.9.3",
   "language": "julia",
   "name": "julia-1.9"
  },
  "language_info": {
   "file_extension": ".jl",
   "mimetype": "application/julia",
   "name": "julia",
   "version": "1.9.3"
  }
 },
 "nbformat": 4,
 "nbformat_minor": 2
}
