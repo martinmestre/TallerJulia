{
 "cells": [
  {
   "cell_type": "markdown",
   "metadata": {},
   "source": [
    "# Taller inicial de Julia"
   ]
  },
  {
   "cell_type": "markdown",
   "metadata": {},
   "source": [
    "## Environments and the Package manger (Pkg)"
   ]
  },
  {
   "cell_type": "code",
   "execution_count": null,
   "metadata": {},
   "outputs": [],
   "source": [
    "using Pkg\n",
    "Pkg.activate(\".\")\n",
    "Pkg.add(\"Parameters\")\n",
    "Pkg.add(\"Unitful\")\n",
    "Pkg.add(\"UnitfulAstro\")\n",
    "Pkg.add(\"Zygote\")\n",
    "Pkg.add(\"DataFrames\")\n",
    "Pkg.add(\"DifferentialEquations\")\n",
    "# Pkg.develop(\"GalacticDynamics\")"
   ]
  },
  {
   "cell_type": "markdown",
   "metadata": {},
   "source": [
    "## Arrays"
   ]
  },
  {
   "cell_type": "code",
   "execution_count": 33,
   "metadata": {},
   "outputs": [
    {
     "name": "stdout",
     "output_type": "stream",
     "text": [
      "a = [1.0, 2.0, 3.0]\n",
      "typeof(a) = Vector{Float64}\n",
      "typeof(a) <: Vector{Integer} = false\n",
      "typeof(a) <: Vector{Float64} = true\n"
     ]
    }
   ],
   "source": [
    "# Arrays\n",
    "a = [1.0, 2.0, 3.0]\n",
    "@show a typeof(a)\n",
    "@show typeof(a)<:Vector{Integer}\n",
    "@show typeof(a)<:Vector{Float64};\n"
   ]
  },
  {
   "cell_type": "code",
   "execution_count": 35,
   "metadata": {},
   "outputs": [
    {
     "data": {
      "text/plain": [
       "true"
      ]
     },
     "metadata": {},
     "output_type": "display_data"
    }
   ],
   "source": [
    " a[end]==a[3]"
   ]
  },
  {
   "cell_type": "code",
   "execution_count": 36,
   "metadata": {},
   "outputs": [
    {
     "name": "stdout",
     "output_type": "stream",
     "text": [
      "sum(a) = 6.0\n",
      "c = a + b = [3.0, 6.0, 9.0]\n",
      "c = a + b .* b = [5.0, 18.0, 39.0]\n",
      "c = a .+ b' * b = [57.0, 58.0, 59.0]\n"
     ]
    }
   ],
   "source": [
    "@show sum(a)\n",
    "b = 2a\n",
    "@show c = a + b\n",
    "@show c = a + b.*b\n",
    "@show c = a .+ b'b;"
   ]
  },
  {
   "cell_type": "code",
   "execution_count": 40,
   "metadata": {},
   "outputs": [
    {
     "data": {
      "text/plain": [
       "14.0"
      ]
     },
     "metadata": {},
     "output_type": "display_data"
    }
   ],
   "source": [
    "a'a"
   ]
  },
  {
   "cell_type": "code",
   "execution_count": 41,
   "metadata": {},
   "outputs": [
    {
     "data": {
      "text/plain": [
       "3×3 Matrix{Float64}:\n",
       " 1.0  2.0  3.0\n",
       " 2.0  4.0  6.0\n",
       " 3.0  6.0  9.0"
      ]
     },
     "metadata": {},
     "output_type": "display_data"
    },
    {
     "data": {
      "text/plain": [
       "3×3 adjoint(::Matrix{Float64}) with eltype Float64:\n",
       " 1.0  2.0  3.0\n",
       " 2.0  4.0  6.0\n",
       " 3.0  6.0  9.0"
      ]
     },
     "metadata": {},
     "output_type": "display_data"
    }
   ],
   "source": [
    "m = [a 2a 3a]\n",
    "display(m)\n",
    "display(m')"
   ]
  },
  {
   "cell_type": "markdown",
   "metadata": {},
   "source": [
    "## Structs"
   ]
  },
  {
   "cell_type": "code",
   "execution_count": 47,
   "metadata": {},
   "outputs": [],
   "source": [
    "struct Evento{T<:Real,D<:Real}\n",
    "    t::T\n",
    "    x::D\n",
    "    v::D\n",
    "end"
   ]
  },
  {
   "cell_type": "code",
   "execution_count": 49,
   "metadata": {},
   "outputs": [
    {
     "data": {
      "text/html": [
       "# 3 methods for type constructor:<ul><li> Evento(; <i>t, x, v</i>) in Main at <a href=\"https://github.com/martinmestre/TallerJulia/tree/0e6cddc987d77ec015d8d2d571dc2c90ad4df74f//diciembre2023.ipynb#L1\" target=\"_blank\">/mnt/md1/mmestre/work/2023/TallerJulia/diciembre2023.ipynb:1</a></li> <li> Evento(x::<b>T</b>, y::<b>T</b>)<i> where T<:Real</i> in Main at <a href=\"https://github.com/martinmestre/TallerJulia/tree/0e6cddc987d77ec015d8d2d571dc2c90ad4df74f//diciembre2023.ipynb#L1\" target=\"_blank\">/mnt/md1/mmestre/work/2023/TallerJulia/diciembre2023.ipynb:1</a></li> <li> Evento(t::<b>T</b>, x::<b>D</b>, v::<b>D</b>)<i> where {T<:Real, D<:Real}</i> in Main at <a href=\"https://github.com/martinmestre/TallerJulia/tree/0e6cddc987d77ec015d8d2d571dc2c90ad4df74f//diciembre2023.ipynb#L2\" target=\"_blank\">/mnt/md1/mmestre/work/2023/TallerJulia/diciembre2023.ipynb:2</a></li> </ul>"
      ],
      "text/plain": [
       "# 3 methods for type constructor:\n",
       " [1] Evento(; t, x, v)\n",
       "\u001b[90m     @\u001b[39m \u001b[90m/mnt/md1/mmestre/work/2023/TallerJulia/\u001b[39m\u001b[90m\u001b[4mdiciembre2023.ipynb:1\u001b[24m\u001b[39m\n",
       " [2] Evento(\u001b[90mx\u001b[39m::\u001b[1mT\u001b[22m, \u001b[90my\u001b[39m::\u001b[1mT\u001b[22m) where T<:Real\n",
       "\u001b[90m     @\u001b[39m \u001b[90m/mnt/md1/mmestre/work/2023/TallerJulia/\u001b[39m\u001b[90m\u001b[4mdiciembre2023.ipynb:1\u001b[24m\u001b[39m\n",
       " [3] Evento(\u001b[90mt\u001b[39m::\u001b[1mT\u001b[22m, \u001b[90mx\u001b[39m::\u001b[1mD\u001b[22m, \u001b[90mv\u001b[39m::\u001b[1mD\u001b[22m) where {T<:Real, D<:Real}\n",
       "\u001b[90m     @\u001b[39m \u001b[90m/mnt/md1/mmestre/work/2023/TallerJulia/\u001b[39m\u001b[90m\u001b[4mdiciembre2023.ipynb:2\u001b[24m\u001b[39m"
      ]
     },
     "metadata": {},
     "output_type": "display_data"
    }
   ],
   "source": [
    "methods(Evento)"
   ]
  },
  {
   "cell_type": "code",
   "execution_count": 45,
   "metadata": {},
   "outputs": [
    {
     "data": {
      "text/plain": [
       "Evento{Int64, Float64}(7, 10.0, 1.9)"
      ]
     },
     "metadata": {},
     "output_type": "display_data"
    }
   ],
   "source": [
    "a = Evento(7, 10., 1.9)"
   ]
  },
  {
   "cell_type": "code",
   "execution_count": 48,
   "metadata": {},
   "outputs": [
    {
     "ename": "MethodError",
     "evalue": "MethodError: no method matching Evento(::Int64, ::Float64)\n\nClosest candidates are:\n  Evento(::T, ::D, !Matched::D) where {T<:Real, D<:Real}\n   @ Main /mnt/md1/mmestre/work/2023/TallerJulia/diciembre2023.ipynb:2\n  Evento(::T, !Matched::T) where T<:Real\n   @ Main /mnt/md1/mmestre/work/2023/TallerJulia/diciembre2023.ipynb:1\n",
     "output_type": "error",
     "traceback": [
      "MethodError: no method matching Evento(::Int64, ::Float64)\n",
      "\n",
      "Closest candidates are:\n",
      "  Evento(::T, ::D, !Matched::D) where {T<:Real, D<:Real}\n",
      "   @ Main /mnt/md1/mmestre/work/2023/TallerJulia/diciembre2023.ipynb:2\n",
      "  Evento(::T, !Matched::T) where T<:Real\n",
      "   @ Main /mnt/md1/mmestre/work/2023/TallerJulia/diciembre2023.ipynb:1\n",
      "\n",
      "\n",
      "Stacktrace:\n",
      " [1] top-level scope\n",
      "   @ /mnt/md1/mmestre/work/2023/TallerJulia/diciembre2023.ipynb:1"
     ]
    }
   ],
   "source": [
    "a = Evento(0, 10.) # show what happens"
   ]
  },
  {
   "cell_type": "code",
   "execution_count": 50,
   "metadata": {},
   "outputs": [
    {
     "data": {
      "text/plain": [
       "Evento"
      ]
     },
     "metadata": {},
     "output_type": "display_data"
    }
   ],
   "source": [
    "Evento(x::T,y::T) where {T<:Real} = Evento(0., x, y)"
   ]
  },
  {
   "cell_type": "code",
   "execution_count": 51,
   "metadata": {},
   "outputs": [
    {
     "data": {
      "text/plain": [
       "Evento{Float64, Float64}(0.0, 10.0, 1.0)"
      ]
     },
     "metadata": {},
     "output_type": "display_data"
    }
   ],
   "source": [
    "Evento(10., 1.)"
   ]
  },
  {
   "cell_type": "code",
   "execution_count": 52,
   "metadata": {},
   "outputs": [
    {
     "data": {
      "text/html": [
       "# 3 methods for type constructor:<ul><li> Evento(; <i>t, x, v</i>) in Main at <a href=\"https://github.com/martinmestre/TallerJulia/tree/0e6cddc987d77ec015d8d2d571dc2c90ad4df74f//diciembre2023.ipynb#L1\" target=\"_blank\">/mnt/md1/mmestre/work/2023/TallerJulia/diciembre2023.ipynb:1</a></li> <li> Evento(x::<b>T</b>, y::<b>T</b>)<i> where T<:Real</i> in Main at <a href=\"https://github.com/martinmestre/TallerJulia/tree/0e6cddc987d77ec015d8d2d571dc2c90ad4df74f//diciembre2023.ipynb#L1\" target=\"_blank\">/mnt/md1/mmestre/work/2023/TallerJulia/diciembre2023.ipynb:1</a></li> <li> Evento(t::<b>T</b>, x::<b>D</b>, v::<b>D</b>)<i> where {T<:Real, D<:Real}</i> in Main at <a href=\"https://github.com/martinmestre/TallerJulia/tree/0e6cddc987d77ec015d8d2d571dc2c90ad4df74f//diciembre2023.ipynb#L2\" target=\"_blank\">/mnt/md1/mmestre/work/2023/TallerJulia/diciembre2023.ipynb:2</a></li> </ul>"
      ],
      "text/plain": [
       "# 3 methods for type constructor:\n",
       " [1] Evento(; t, x, v)\n",
       "\u001b[90m     @\u001b[39m \u001b[90m/mnt/md1/mmestre/work/2023/TallerJulia/\u001b[39m\u001b[90m\u001b[4mdiciembre2023.ipynb:1\u001b[24m\u001b[39m\n",
       " [2] Evento(\u001b[90mx\u001b[39m::\u001b[1mT\u001b[22m, \u001b[90my\u001b[39m::\u001b[1mT\u001b[22m) where T<:Real\n",
       "\u001b[90m     @\u001b[39m \u001b[90m/mnt/md1/mmestre/work/2023/TallerJulia/\u001b[39m\u001b[90m\u001b[4mdiciembre2023.ipynb:1\u001b[24m\u001b[39m\n",
       " [3] Evento(\u001b[90mt\u001b[39m::\u001b[1mT\u001b[22m, \u001b[90mx\u001b[39m::\u001b[1mD\u001b[22m, \u001b[90mv\u001b[39m::\u001b[1mD\u001b[22m) where {T<:Real, D<:Real}\n",
       "\u001b[90m     @\u001b[39m \u001b[90m/mnt/md1/mmestre/work/2023/TallerJulia/\u001b[39m\u001b[90m\u001b[4mdiciembre2023.ipynb:2\u001b[24m\u001b[39m"
      ]
     },
     "metadata": {},
     "output_type": "display_data"
    }
   ],
   "source": [
    "methods(Evento)"
   ]
  },
  {
   "cell_type": "code",
   "execution_count": 53,
   "metadata": {},
   "outputs": [
    {
     "data": {
      "text/plain": [
       "Evento"
      ]
     },
     "metadata": {},
     "output_type": "display_data"
    }
   ],
   "source": [
    "Evento(; t=9, x=7, v) = Evento(t, x, v)"
   ]
  },
  {
   "cell_type": "code",
   "execution_count": 54,
   "metadata": {},
   "outputs": [
    {
     "data": {
      "text/plain": [
       "Evento{Int64, Int64}(0, 1, 1)"
      ]
     },
     "metadata": {},
     "output_type": "display_data"
    }
   ],
   "source": [
    "a = Evento(t=0, x=1, v=1)"
   ]
  },
  {
   "cell_type": "code",
   "execution_count": 56,
   "metadata": {},
   "outputs": [
    {
     "ename": "UndefKeywordError",
     "evalue": "UndefKeywordError: keyword argument `v` not assigned",
     "output_type": "error",
     "traceback": [
      "UndefKeywordError: keyword argument `v` not assigned\n",
      "\n",
      "Stacktrace:\n",
      " [1] top-level scope\n",
      "   @ /mnt/md1/mmestre/work/2023/TallerJulia/diciembre2023.ipynb:1"
     ]
    }
   ],
   "source": [
    "b = Evento(t=98)"
   ]
  },
  {
   "cell_type": "code",
   "execution_count": 55,
   "metadata": {},
   "outputs": [
    {
     "data": {
      "text/plain": [
       "Evento{Int64, Int64}(9, 7, 54)"
      ]
     },
     "metadata": {},
     "output_type": "display_data"
    }
   ],
   "source": [
    "b = Evento(v=54)"
   ]
  },
  {
   "cell_type": "markdown",
   "metadata": {},
   "source": [
    "## Parameters package"
   ]
  },
  {
   "cell_type": "code",
   "execution_count": 57,
   "metadata": {},
   "outputs": [
    {
     "data": {
      "text/plain": [
       "Event"
      ]
     },
     "metadata": {},
     "output_type": "display_data"
    }
   ],
   "source": [
    "using Parameters\n",
    "@with_kw struct Event{T<:Real,D<:Real}\n",
    "    t::T = 0.0\n",
    "    x::D = 5.0\n",
    "    v::D\n",
    "end"
   ]
  },
  {
   "cell_type": "code",
   "execution_count": 58,
   "metadata": {},
   "outputs": [
    {
     "data": {
      "text/html": [
       "# 5 methods for type constructor:<ul><li> Event(; <i>t, x, v</i>) in Main at <a href=\"file:///home/mmestre/.julia/packages/Parameters/MK0O4/src/Parameters.jl\" target=\"_blank\">/home/mmestre/.julia/packages/Parameters/MK0O4/src/Parameters.jl:545</a></li> <li> Event(pp::<b>Event</b>; <i>kws...</i>) in Main at <a href=\"file:///home/mmestre/.julia/packages/Parameters/MK0O4/src/Parameters.jl\" target=\"_blank\">/home/mmestre/.julia/packages/Parameters/MK0O4/src/Parameters.jl:569</a></li> <li> Event(pp::<b>Event</b>, di::<b>AbstractDict</b>) in Main at <a href=\"file:///home/mmestre/.julia/packages/Parameters/MK0O4/src/Parameters.jl\" target=\"_blank\">/home/mmestre/.julia/packages/Parameters/MK0O4/src/Parameters.jl:572</a></li> <li> Event(pp::<b>Event</b>, di::<b>Tuple{Symbol, Any}...</b>) in Main at <a href=\"file:///home/mmestre/.julia/packages/Parameters/MK0O4/src/Parameters.jl\" target=\"_blank\">/home/mmestre/.julia/packages/Parameters/MK0O4/src/Parameters.jl:573</a></li> <li> Event(t::<b>T</b>, x::<b>D</b>, v::<b>D</b>)<i> where {T<:Real, D<:Real}</i> in Main at <a href=\"file:///home/mmestre/.julia/packages/Parameters/MK0O4/src/Parameters.jl\" target=\"_blank\">/home/mmestre/.julia/packages/Parameters/MK0O4/src/Parameters.jl:526</a></li> </ul>"
      ],
      "text/plain": [
       "# 5 methods for type constructor:\n",
       " [1] Event(; t, x, v)\n",
       "\u001b[90m     @\u001b[39m \u001b[90m~/.julia/packages/Parameters/MK0O4/src/\u001b[39m\u001b[90m\u001b[4mParameters.jl:545\u001b[24m\u001b[39m\n",
       " [2] Event(\u001b[90mpp\u001b[39m::\u001b[1mEvent\u001b[22m; kws...)\n",
       "\u001b[90m     @\u001b[39m \u001b[90m~/.julia/packages/Parameters/MK0O4/src/\u001b[39m\u001b[90m\u001b[4mParameters.jl:569\u001b[24m\u001b[39m\n",
       " [3] Event(\u001b[90mpp\u001b[39m::\u001b[1mEvent\u001b[22m, \u001b[90mdi\u001b[39m::\u001b[1mAbstractDict\u001b[22m)\n",
       "\u001b[90m     @\u001b[39m \u001b[90m~/.julia/packages/Parameters/MK0O4/src/\u001b[39m\u001b[90m\u001b[4mParameters.jl:572\u001b[24m\u001b[39m\n",
       " [4] Event(\u001b[90mpp\u001b[39m::\u001b[1mEvent\u001b[22m, \u001b[90mdi\u001b[39m::\u001b[1mTuple\u001b[22m\u001b[0m{Symbol, Any}\u001b[1m...\u001b[22m)\n",
       "\u001b[90m     @\u001b[39m \u001b[90m~/.julia/packages/Parameters/MK0O4/src/\u001b[39m\u001b[90m\u001b[4mParameters.jl:573\u001b[24m\u001b[39m\n",
       " [5] Event(\u001b[90mt\u001b[39m::\u001b[1mT\u001b[22m, \u001b[90mx\u001b[39m::\u001b[1mD\u001b[22m, \u001b[90mv\u001b[39m::\u001b[1mD\u001b[22m) where {T<:Real, D<:Real}\n",
       "\u001b[90m     @\u001b[39m \u001b[90m~/.julia/packages/Parameters/MK0O4/src/\u001b[39m\u001b[90m\u001b[4mParameters.jl:526\u001b[24m\u001b[39m"
      ]
     },
     "metadata": {},
     "output_type": "display_data"
    }
   ],
   "source": [
    "methods(Event)"
   ]
  },
  {
   "cell_type": "code",
   "execution_count": 60,
   "metadata": {},
   "outputs": [
    {
     "data": {
      "text/plain": [
       "Event{Float64, Float64}\n",
       "  t: Float64 0.0\n",
       "  x: Float64 5.0\n",
       "  v: Float64 3.0\n"
      ]
     },
     "metadata": {},
     "output_type": "display_data"
    }
   ],
   "source": [
    "b = Event(v=3.0) # then Event(v=3.0)"
   ]
  },
  {
   "cell_type": "markdown",
   "metadata": {},
   "source": [
    "## Multiple Dispatch"
   ]
  },
  {
   "cell_type": "code",
   "execution_count": 61,
   "metadata": {},
   "outputs": [
    {
     "data": {
      "text/plain": [
       "ρ (generic function with 1 method)"
      ]
     },
     "metadata": {},
     "output_type": "display_data"
    }
   ],
   "source": [
    "ρ(x,y,z) = (x+y)*exp(π*z)"
   ]
  },
  {
   "cell_type": "code",
   "execution_count": 62,
   "metadata": {},
   "outputs": [
    {
     "data": {
      "text/html": [
       "# 1 method for generic function <b>ρ</b> from \u001b[35mMain\u001b[39m:<ul><li> ρ(x, y, z) in Main at <a href=\"https://github.com/martinmestre/TallerJulia/tree/0e6cddc987d77ec015d8d2d571dc2c90ad4df74f//diciembre2023.ipynb#L1\" target=\"_blank\">/mnt/md1/mmestre/work/2023/TallerJulia/diciembre2023.ipynb:1</a></li> </ul>"
      ],
      "text/plain": [
       "# 1 method for generic function \"ρ\" from \u001b[35mMain\u001b[39m:\n",
       " [1] ρ(\u001b[90mx\u001b[39m, \u001b[90my\u001b[39m, \u001b[90mz\u001b[39m)\n",
       "\u001b[90m     @\u001b[39m \u001b[90m/mnt/md1/mmestre/work/2023/TallerJulia/\u001b[39m\u001b[90m\u001b[4mdiciembre2023.ipynb:1\u001b[24m\u001b[39m"
      ]
     },
     "metadata": {},
     "output_type": "display_data"
    }
   ],
   "source": [
    "methods(ρ)"
   ]
  },
  {
   "cell_type": "code",
   "execution_count": 63,
   "metadata": {},
   "outputs": [
    {
     "data": {
      "text/plain": [
       "ρ (generic function with 2 methods)"
      ]
     },
     "metadata": {},
     "output_type": "display_data"
    }
   ],
   "source": [
    "ρ(x::Int,y::Float64,z::T) where {T<:Real} = -10.0"
   ]
  },
  {
   "cell_type": "code",
   "execution_count": 64,
   "metadata": {},
   "outputs": [
    {
     "data": {
      "text/html": [
       "# 2 methods for generic function <b>ρ</b> from \u001b[35mMain\u001b[39m:<ul><li> ρ(x::<b>Int64</b>, y::<b>Float64</b>, z::<b>T</b>)<i> where T<:Real</i> in Main at <a href=\"https://github.com/martinmestre/TallerJulia/tree/0e6cddc987d77ec015d8d2d571dc2c90ad4df74f//diciembre2023.ipynb#L1\" target=\"_blank\">/mnt/md1/mmestre/work/2023/TallerJulia/diciembre2023.ipynb:1</a></li> <li> ρ(x, y, z) in Main at <a href=\"https://github.com/martinmestre/TallerJulia/tree/0e6cddc987d77ec015d8d2d571dc2c90ad4df74f//diciembre2023.ipynb#L1\" target=\"_blank\">/mnt/md1/mmestre/work/2023/TallerJulia/diciembre2023.ipynb:1</a></li> </ul>"
      ],
      "text/plain": [
       "# 2 methods for generic function \"ρ\" from \u001b[35mMain\u001b[39m:\n",
       " [1] ρ(\u001b[90mx\u001b[39m::\u001b[1mInt64\u001b[22m, \u001b[90my\u001b[39m::\u001b[1mFloat64\u001b[22m, \u001b[90mz\u001b[39m::\u001b[1mT\u001b[22m) where T<:Real\n",
       "\u001b[90m     @\u001b[39m \u001b[90m/mnt/md1/mmestre/work/2023/TallerJulia/\u001b[39m\u001b[90m\u001b[4mdiciembre2023.ipynb:1\u001b[24m\u001b[39m\n",
       " [2] ρ(\u001b[90mx\u001b[39m, \u001b[90my\u001b[39m, \u001b[90mz\u001b[39m)\n",
       "\u001b[90m     @\u001b[39m \u001b[90m/mnt/md1/mmestre/work/2023/TallerJulia/\u001b[39m\u001b[90m\u001b[4mdiciembre2023.ipynb:1\u001b[24m\u001b[39m"
      ]
     },
     "metadata": {},
     "output_type": "display_data"
    }
   ],
   "source": [
    "methods(ρ)"
   ]
  },
  {
   "cell_type": "code",
   "execution_count": 67,
   "metadata": {},
   "outputs": [
    {
     "data": {
      "text/plain": [
       "3212.9499331485877"
      ]
     },
     "metadata": {},
     "output_type": "display_data"
    }
   ],
   "source": [
    "ρ(3.0,3.0,2.0)"
   ]
  },
  {
   "cell_type": "code",
   "execution_count": 68,
   "metadata": {},
   "outputs": [
    {
     "data": {
      "text/plain": [
       "ρ (generic function with 3 methods)"
      ]
     },
     "metadata": {},
     "output_type": "display_data"
    }
   ],
   "source": [
    "ρ(x::T, y::T, z::T) where {T<:Real} = 7"
   ]
  },
  {
   "cell_type": "code",
   "execution_count": 69,
   "metadata": {},
   "outputs": [
    {
     "data": {
      "text/html": [
       "# 3 methods for generic function <b>ρ</b> from \u001b[35mMain\u001b[39m:<ul><li> ρ(x::<b>Int64</b>, y::<b>Float64</b>, z::<b>T</b>)<i> where T<:Real</i> in Main at <a href=\"https://github.com/martinmestre/TallerJulia/tree/0e6cddc987d77ec015d8d2d571dc2c90ad4df74f//diciembre2023.ipynb#L1\" target=\"_blank\">/mnt/md1/mmestre/work/2023/TallerJulia/diciembre2023.ipynb:1</a></li> <li> ρ(x::<b>T</b>, y::<b>T</b>, z::<b>T</b>)<i> where T<:Real</i> in Main at <a href=\"https://github.com/martinmestre/TallerJulia/tree/0e6cddc987d77ec015d8d2d571dc2c90ad4df74f//diciembre2023.ipynb#L1\" target=\"_blank\">/mnt/md1/mmestre/work/2023/TallerJulia/diciembre2023.ipynb:1</a></li> <li> ρ(x, y, z) in Main at <a href=\"https://github.com/martinmestre/TallerJulia/tree/0e6cddc987d77ec015d8d2d571dc2c90ad4df74f//diciembre2023.ipynb#L1\" target=\"_blank\">/mnt/md1/mmestre/work/2023/TallerJulia/diciembre2023.ipynb:1</a></li> </ul>"
      ],
      "text/plain": [
       "# 3 methods for generic function \"ρ\" from \u001b[35mMain\u001b[39m:\n",
       " [1] ρ(\u001b[90mx\u001b[39m::\u001b[1mInt64\u001b[22m, \u001b[90my\u001b[39m::\u001b[1mFloat64\u001b[22m, \u001b[90mz\u001b[39m::\u001b[1mT\u001b[22m) where T<:Real\n",
       "\u001b[90m     @\u001b[39m \u001b[90m/mnt/md1/mmestre/work/2023/TallerJulia/\u001b[39m\u001b[90m\u001b[4mdiciembre2023.ipynb:1\u001b[24m\u001b[39m\n",
       " [2] ρ(\u001b[90mx\u001b[39m::\u001b[1mT\u001b[22m, \u001b[90my\u001b[39m::\u001b[1mT\u001b[22m, \u001b[90mz\u001b[39m::\u001b[1mT\u001b[22m) where T<:Real\n",
       "\u001b[90m     @\u001b[39m \u001b[90m/mnt/md1/mmestre/work/2023/TallerJulia/\u001b[39m\u001b[90m\u001b[4mdiciembre2023.ipynb:1\u001b[24m\u001b[39m\n",
       " [3] ρ(\u001b[90mx\u001b[39m, \u001b[90my\u001b[39m, \u001b[90mz\u001b[39m)\n",
       "\u001b[90m     @\u001b[39m \u001b[90m/mnt/md1/mmestre/work/2023/TallerJulia/\u001b[39m\u001b[90m\u001b[4mdiciembre2023.ipynb:1\u001b[24m\u001b[39m"
      ]
     },
     "metadata": {},
     "output_type": "display_data"
    }
   ],
   "source": [
    "methods(ρ)"
   ]
  },
  {
   "cell_type": "code",
   "execution_count": 73,
   "metadata": {},
   "outputs": [
    {
     "data": {
      "text/plain": [
       "7"
      ]
     },
     "metadata": {},
     "output_type": "display_data"
    }
   ],
   "source": [
    "ρ(1,1,2)"
   ]
  },
  {
   "cell_type": "code",
   "execution_count": 74,
   "metadata": {},
   "outputs": [
    {
     "data": {
      "text/plain": [
       "3-element Vector{Float64}:\n",
       " 1.0\n",
       " 1.0\n",
       " 3.0"
      ]
     },
     "metadata": {},
     "output_type": "display_data"
    }
   ],
   "source": [
    "x = [1, 1., 3.]"
   ]
  },
  {
   "cell_type": "code",
   "execution_count": 75,
   "metadata": {},
   "outputs": [
    {
     "data": {
      "text/plain": [
       "7"
      ]
     },
     "metadata": {},
     "output_type": "display_data"
    }
   ],
   "source": [
    "ρ(x...)"
   ]
  },
  {
   "cell_type": "code",
   "execution_count": 76,
   "metadata": {},
   "outputs": [
    {
     "data": {
      "text/plain": [
       "ρ (generic function with 4 methods)"
      ]
     },
     "metadata": {},
     "output_type": "display_data"
    }
   ],
   "source": [
    "ρ(x::Vector{<:Real}) = ρ(x...)+10"
   ]
  },
  {
   "cell_type": "code",
   "execution_count": null,
   "metadata": {},
   "outputs": [],
   "source": [
    "methods(ρ)"
   ]
  },
  {
   "cell_type": "code",
   "execution_count": 77,
   "metadata": {},
   "outputs": [
    {
     "data": {
      "text/plain": [
       "17"
      ]
     },
     "metadata": {},
     "output_type": "display_data"
    }
   ],
   "source": [
    "ρ(x)"
   ]
  },
  {
   "cell_type": "markdown",
   "metadata": {},
   "source": [
    "## Unitful Quantities"
   ]
  },
  {
   "cell_type": "code",
   "execution_count": 79,
   "metadata": {},
   "outputs": [
    {
     "name": "stdout",
     "output_type": "stream",
     "text": [
      "x = Quantity{Float64, 𝐋, Unitful.FreeUnits{(kpc,), 𝐋, nothing}}[0.1723385083211918 kpc, 0.18044218017205882 kpc, 0.17142360472624507 kpc]\n",
      "v = Quantity{Float64, 𝐋 𝐓^-1, Unitful.FreeUnits{(km, s^-1), 𝐋 𝐓^-1, nothing}}[0.3992838179610827 km s^-1, 0.5428339149885543 km s^-1, 0.3710698873002307 km s^-1]\n",
      "t = 1000000 s\n"
     ]
    },
    {
     "data": {
      "text/plain": [
       "kpc Gyr^-1"
      ]
     },
     "metadata": {},
     "output_type": "display_data"
    }
   ],
   "source": [
    "using Unitful, UnitfulAstro\n",
    "x = rand(3)u\"kpc\"\n",
    "v = rand(3)u\"km/s\"\n",
    "t = 10^6*u\"s\"\n",
    "@show x v t\n",
    "u\"kpc/Gyr\""
   ]
  },
  {
   "cell_type": "code",
   "execution_count": 80,
   "metadata": {},
   "outputs": [
    {
     "data": {
      "text/plain": [
       "3-element Vector{Quantity{Float64, 𝐋 𝐓^-2, Unitful.FreeUnits{(km, s^-2), 𝐋 𝐓^-2, nothing}}}:\n",
       "  3.992838179610827e-7 km s^-2\n",
       "  5.428339149885543e-7 km s^-2\n",
       " 3.7106988730023074e-7 km s^-2"
      ]
     },
     "metadata": {},
     "output_type": "display_data"
    }
   ],
   "source": [
    "a = v/t"
   ]
  },
  {
   "cell_type": "code",
   "execution_count": 81,
   "metadata": {},
   "outputs": [
    {
     "data": {
      "text/plain": [
       "3-element Vector{Quantity{Float64, 𝐋 𝐓^-2, Unitful.FreeUnits{(km, s^-1, Myr^-1), 𝐋 𝐓^-2, nothing}}}:\n",
       " 1.2600439013688663e7 km s^-1 Myr^-1\n",
       "   1.71305355556428e7 km s^-1 Myr^-1\n",
       " 1.1710075075465761e7 km s^-1 Myr^-1"
      ]
     },
     "metadata": {},
     "output_type": "display_data"
    }
   ],
   "source": [
    "uconvert.(u\"km/s/Myr\",a)"
   ]
  },
  {
   "cell_type": "code",
   "execution_count": 82,
   "metadata": {},
   "outputs": [
    {
     "data": {
      "text/plain": [
       "6.6743e-11 m^3 kg^-1 s^-2"
      ]
     },
     "metadata": {},
     "output_type": "display_data"
    }
   ],
   "source": [
    "u\"G\""
   ]
  },
  {
   "cell_type": "code",
   "execution_count": 83,
   "metadata": {},
   "outputs": [
    {
     "data": {
      "text/plain": [
       "4.30091727003628e-6 km^2 kpc s^-2 M⊙^-1"
      ]
     },
     "metadata": {},
     "output_type": "display_data"
    }
   ],
   "source": [
    "G = uconvert(u\"kpc*Msun^-1*(km/s)^2\",u\"G\")"
   ]
  },
  {
   "cell_type": "markdown",
   "metadata": {},
   "source": [
    "## Automatic Differentiation"
   ]
  },
  {
   "cell_type": "code",
   "execution_count": 84,
   "metadata": {},
   "outputs": [
    {
     "data": {
      "text/plain": [
       "f (generic function with 1 method)"
      ]
     },
     "metadata": {},
     "output_type": "display_data"
    }
   ],
   "source": [
    "using Zygote\n",
    "f(x,y) = exp(x/y)*cos(3x+2y)"
   ]
  },
  {
   "cell_type": "code",
   "execution_count": 85,
   "metadata": {},
   "outputs": [
    {
     "data": {
      "text/plain": [
       "∇f (generic function with 1 method)"
      ]
     },
     "metadata": {},
     "output_type": "display_data"
    }
   ],
   "source": [
    "∇f(x,y) = gradient((x,y)->f(x,y), x,y)"
   ]
  },
  {
   "cell_type": "code",
   "execution_count": 86,
   "metadata": {},
   "outputs": [
    {
     "data": {
      "text/plain": [
       "(-2.6280759982354986, -2.4771192304363403)"
      ]
     },
     "metadata": {},
     "output_type": "display_data"
    }
   ],
   "source": [
    "∇f(1.,2.)"
   ]
  },
  {
   "cell_type": "code",
   "execution_count": 87,
   "metadata": {},
   "outputs": [
    {
     "data": {
      "text/plain": [
       "∇f (generic function with 2 methods)"
      ]
     },
     "metadata": {},
     "output_type": "display_data"
    }
   ],
   "source": [
    "∇f(x) = gradient(x->f(x...), x)"
   ]
  },
  {
   "cell_type": "code",
   "execution_count": 88,
   "metadata": {},
   "outputs": [
    {
     "data": {
      "text/html": [
       "# 2 methods for generic function <b>∇f</b> from \u001b[35mMain\u001b[39m:<ul><li> ∇f(x) in Main at <a href=\"https://github.com/martinmestre/TallerJulia/tree/0e6cddc987d77ec015d8d2d571dc2c90ad4df74f//diciembre2023.ipynb#L1\" target=\"_blank\">/mnt/md1/mmestre/work/2023/TallerJulia/diciembre2023.ipynb:1</a></li> <li> ∇f(x, y) in Main at <a href=\"https://github.com/martinmestre/TallerJulia/tree/0e6cddc987d77ec015d8d2d571dc2c90ad4df74f//diciembre2023.ipynb#L1\" target=\"_blank\">/mnt/md1/mmestre/work/2023/TallerJulia/diciembre2023.ipynb:1</a></li> </ul>"
      ],
      "text/plain": [
       "# 2 methods for generic function \"∇f\" from \u001b[35mMain\u001b[39m:\n",
       " [1] ∇f(\u001b[90mx\u001b[39m)\n",
       "\u001b[90m     @\u001b[39m \u001b[90m/mnt/md1/mmestre/work/2023/TallerJulia/\u001b[39m\u001b[90m\u001b[4mdiciembre2023.ipynb:1\u001b[24m\u001b[39m\n",
       " [2] ∇f(\u001b[90mx\u001b[39m, \u001b[90my\u001b[39m)\n",
       "\u001b[90m     @\u001b[39m \u001b[90m/mnt/md1/mmestre/work/2023/TallerJulia/\u001b[39m\u001b[90m\u001b[4mdiciembre2023.ipynb:1\u001b[24m\u001b[39m"
      ]
     },
     "metadata": {},
     "output_type": "display_data"
    }
   ],
   "source": [
    "methods(∇f)"
   ]
  },
  {
   "cell_type": "code",
   "execution_count": 89,
   "metadata": {},
   "outputs": [
    {
     "name": "stdout",
     "output_type": "stream",
     "text": [
      "(∇f([1.0, 2.0]))[1] = [-2.6280759982354986, -2.4771192304363403]\n",
      "∇f(1.0, 2.0) = (-2.6280759982354986, -2.4771192304363403)\n"
     ]
    },
    {
     "data": {
      "text/plain": [
       "(-2.6280759982354986, -2.4771192304363403)"
      ]
     },
     "metadata": {},
     "output_type": "display_data"
    }
   ],
   "source": [
    "@show ∇f([1.,2.])[1]  ∇f(1.,2.)"
   ]
  },
  {
   "cell_type": "code",
   "execution_count": 90,
   "metadata": {},
   "outputs": [
    {
     "data": {
      "text/plain": [
       "df (generic function with 1 method)"
      ]
     },
     "metadata": {},
     "output_type": "display_data"
    }
   ],
   "source": [
    "f(x,y) = exp(x)*exp(7y)\n",
    "Df(x,y) = [1,7]*f(x,y)\n",
    "∇f(x,y) = gradient((x,y)->f(x,y), x,y)\n",
    "df(x,y) = gradient(f, x,y)"
   ]
  },
  {
   "cell_type": "code",
   "execution_count": 91,
   "metadata": {},
   "outputs": [
    {
     "name": "stdout",
     "output_type": "stream",
     "text": [
      "Df(x...) = [7.781132241133797e-20, 5.446792568793657e-19]\n",
      "∇f(x...) = "
     ]
    },
    {
     "name": "stdout",
     "output_type": "stream",
     "text": [
      "(7.781132241133797e-20, 5.446792568793657e-19)\n",
      "df(x...) = (7.781132241133797e-20, 5.446792568793657e-19)\n",
      "Df(x...) .== ∇f(x...) = "
     ]
    },
    {
     "name": "stdout",
     "output_type": "stream",
     "text": [
      "Bool[1, 1]\n",
      "Df(x...) .== df(x...) = Bool[1, 1]\n"
     ]
    }
   ],
   "source": [
    "x = [5.,-7.]\n",
    "@show Df(x...) ∇f(x...) df(x...)\n",
    "@show Df(x...) .== ∇f(x...);\n",
    "@show Df(x...) .== df(x...);"
   ]
  },
  {
   "cell_type": "markdown",
   "metadata": {},
   "source": [
    "## Data Frames"
   ]
  },
  {
   "cell_type": "code",
   "execution_count": 92,
   "metadata": {},
   "outputs": [
    {
     "data": {
      "text/html": [
       "<div><div style = \"float: left;\"><span>20×4 DataFrame</span></div><div style = \"clear: both;\"></div></div><div class = \"data-frame\" style = \"overflow-x: scroll;\"><table class = \"data-frame\" style = \"margin-bottom: 6px;\"><thead><tr class = \"header\"><th class = \"rowNumber\" style = \"font-weight: bold; text-align: right;\">Row</th><th style = \"text-align: left;\">id</th><th style = \"text-align: left;\">x</th><th style = \"text-align: left;\">y</th><th style = \"text-align: left;\">z</th></tr><tr class = \"subheader headerLastRow\"><th class = \"rowNumber\" style = \"font-weight: bold; text-align: right;\"></th><th title = \"Int64\" style = \"text-align: left;\">Int64</th><th title = \"Float64\" style = \"text-align: left;\">Float64</th><th title = \"Float64\" style = \"text-align: left;\">Float64</th><th title = \"Float64\" style = \"text-align: left;\">Float64</th></tr></thead><tbody><tr><td class = \"rowNumber\" style = \"font-weight: bold; text-align: right;\">1</td><td style = \"text-align: right;\">1</td><td style = \"text-align: right;\">0.489944</td><td style = \"text-align: right;\">0.0417274</td><td style = \"text-align: right;\">0.493067</td></tr><tr><td class = \"rowNumber\" style = \"font-weight: bold; text-align: right;\">2</td><td style = \"text-align: right;\">2</td><td style = \"text-align: right;\">0.18897</td><td style = \"text-align: right;\">0.487114</td><td style = \"text-align: right;\">0.465865</td></tr><tr><td class = \"rowNumber\" style = \"font-weight: bold; text-align: right;\">3</td><td style = \"text-align: right;\">3</td><td style = \"text-align: right;\">0.323223</td><td style = \"text-align: right;\">0.828824</td><td style = \"text-align: right;\">0.258505</td></tr><tr><td class = \"rowNumber\" style = \"font-weight: bold; text-align: right;\">4</td><td style = \"text-align: right;\">4</td><td style = \"text-align: right;\">0.457105</td><td style = \"text-align: right;\">0.630828</td><td style = \"text-align: right;\">0.748485</td></tr><tr><td class = \"rowNumber\" style = \"font-weight: bold; text-align: right;\">5</td><td style = \"text-align: right;\">5</td><td style = \"text-align: right;\">0.828613</td><td style = \"text-align: right;\">0.301434</td><td style = \"text-align: right;\">0.753773</td></tr><tr><td class = \"rowNumber\" style = \"font-weight: bold; text-align: right;\">6</td><td style = \"text-align: right;\">6</td><td style = \"text-align: right;\">0.329394</td><td style = \"text-align: right;\">0.0569095</td><td style = \"text-align: right;\">0.791413</td></tr><tr><td class = \"rowNumber\" style = \"font-weight: bold; text-align: right;\">7</td><td style = \"text-align: right;\">7</td><td style = \"text-align: right;\">0.837742</td><td style = \"text-align: right;\">0.319436</td><td style = \"text-align: right;\">0.00364748</td></tr><tr><td class = \"rowNumber\" style = \"font-weight: bold; text-align: right;\">8</td><td style = \"text-align: right;\">8</td><td style = \"text-align: right;\">0.131976</td><td style = \"text-align: right;\">0.693703</td><td style = \"text-align: right;\">0.734074</td></tr><tr><td class = \"rowNumber\" style = \"font-weight: bold; text-align: right;\">9</td><td style = \"text-align: right;\">9</td><td style = \"text-align: right;\">0.263305</td><td style = \"text-align: right;\">0.418606</td><td style = \"text-align: right;\">0.30855</td></tr><tr><td class = \"rowNumber\" style = \"font-weight: bold; text-align: right;\">10</td><td style = \"text-align: right;\">10</td><td style = \"text-align: right;\">0.482631</td><td style = \"text-align: right;\">0.683583</td><td style = \"text-align: right;\">0.0822296</td></tr><tr><td class = \"rowNumber\" style = \"font-weight: bold; text-align: right;\">11</td><td style = \"text-align: right;\">11</td><td style = \"text-align: right;\">0.916244</td><td style = \"text-align: right;\">0.184676</td><td style = \"text-align: right;\">0.154271</td></tr><tr><td class = \"rowNumber\" style = \"font-weight: bold; text-align: right;\">12</td><td style = \"text-align: right;\">12</td><td style = \"text-align: right;\">0.0146526</td><td style = \"text-align: right;\">0.94227</td><td style = \"text-align: right;\">0.800638</td></tr><tr><td class = \"rowNumber\" style = \"font-weight: bold; text-align: right;\">13</td><td style = \"text-align: right;\">13</td><td style = \"text-align: right;\">0.101159</td><td style = \"text-align: right;\">0.967026</td><td style = \"text-align: right;\">0.332616</td></tr><tr><td class = \"rowNumber\" style = \"font-weight: bold; text-align: right;\">14</td><td style = \"text-align: right;\">14</td><td style = \"text-align: right;\">0.114087</td><td style = \"text-align: right;\">0.694598</td><td style = \"text-align: right;\">0.765392</td></tr><tr><td class = \"rowNumber\" style = \"font-weight: bold; text-align: right;\">15</td><td style = \"text-align: right;\">15</td><td style = \"text-align: right;\">0.467468</td><td style = \"text-align: right;\">0.221928</td><td style = \"text-align: right;\">0.935033</td></tr><tr><td class = \"rowNumber\" style = \"font-weight: bold; text-align: right;\">16</td><td style = \"text-align: right;\">16</td><td style = \"text-align: right;\">0.491542</td><td style = \"text-align: right;\">0.554158</td><td style = \"text-align: right;\">0.71017</td></tr><tr><td class = \"rowNumber\" style = \"font-weight: bold; text-align: right;\">17</td><td style = \"text-align: right;\">17</td><td style = \"text-align: right;\">0.42244</td><td style = \"text-align: right;\">0.317016</td><td style = \"text-align: right;\">0.758352</td></tr><tr><td class = \"rowNumber\" style = \"font-weight: bold; text-align: right;\">18</td><td style = \"text-align: right;\">18</td><td style = \"text-align: right;\">0.640059</td><td style = \"text-align: right;\">0.640384</td><td style = \"text-align: right;\">0.192464</td></tr><tr><td class = \"rowNumber\" style = \"font-weight: bold; text-align: right;\">19</td><td style = \"text-align: right;\">19</td><td style = \"text-align: right;\">0.02173</td><td style = \"text-align: right;\">0.762372</td><td style = \"text-align: right;\">0.967279</td></tr><tr><td class = \"rowNumber\" style = \"font-weight: bold; text-align: right;\">20</td><td style = \"text-align: right;\">20</td><td style = \"text-align: right;\">0.930182</td><td style = \"text-align: right;\">0.307928</td><td style = \"text-align: right;\">0.418292</td></tr></tbody></table></div>"
      ],
      "text/latex": [
       "\\begin{tabular}{r|cccc}\n",
       "\t& id & x & y & z\\\\\n",
       "\t\\hline\n",
       "\t& Int64 & Float64 & Float64 & Float64\\\\\n",
       "\t\\hline\n",
       "\t1 & 1 & 0.489944 & 0.0417274 & 0.493067 \\\\\n",
       "\t2 & 2 & 0.18897 & 0.487114 & 0.465865 \\\\\n",
       "\t3 & 3 & 0.323223 & 0.828824 & 0.258505 \\\\\n",
       "\t4 & 4 & 0.457105 & 0.630828 & 0.748485 \\\\\n",
       "\t5 & 5 & 0.828613 & 0.301434 & 0.753773 \\\\\n",
       "\t6 & 6 & 0.329394 & 0.0569095 & 0.791413 \\\\\n",
       "\t7 & 7 & 0.837742 & 0.319436 & 0.00364748 \\\\\n",
       "\t8 & 8 & 0.131976 & 0.693703 & 0.734074 \\\\\n",
       "\t9 & 9 & 0.263305 & 0.418606 & 0.30855 \\\\\n",
       "\t10 & 10 & 0.482631 & 0.683583 & 0.0822296 \\\\\n",
       "\t11 & 11 & 0.916244 & 0.184676 & 0.154271 \\\\\n",
       "\t12 & 12 & 0.0146526 & 0.94227 & 0.800638 \\\\\n",
       "\t13 & 13 & 0.101159 & 0.967026 & 0.332616 \\\\\n",
       "\t14 & 14 & 0.114087 & 0.694598 & 0.765392 \\\\\n",
       "\t15 & 15 & 0.467468 & 0.221928 & 0.935033 \\\\\n",
       "\t16 & 16 & 0.491542 & 0.554158 & 0.71017 \\\\\n",
       "\t17 & 17 & 0.42244 & 0.317016 & 0.758352 \\\\\n",
       "\t18 & 18 & 0.640059 & 0.640384 & 0.192464 \\\\\n",
       "\t19 & 19 & 0.02173 & 0.762372 & 0.967279 \\\\\n",
       "\t20 & 20 & 0.930182 & 0.307928 & 0.418292 \\\\\n",
       "\\end{tabular}\n"
      ],
      "text/plain": [
       "\u001b[1m20×4 DataFrame\u001b[0m\n",
       "\u001b[1m Row \u001b[0m│\u001b[1m id    \u001b[0m\u001b[1m x         \u001b[0m\u001b[1m y         \u001b[0m\u001b[1m z          \u001b[0m\n",
       "     │\u001b[90m Int64 \u001b[0m\u001b[90m Float64   \u001b[0m\u001b[90m Float64   \u001b[0m\u001b[90m Float64    \u001b[0m\n",
       "─────┼─────────────────────────────────────────\n",
       "   1 │     1  0.489944   0.0417274  0.493067\n",
       "   2 │     2  0.18897    0.487114   0.465865\n",
       "   3 │     3  0.323223   0.828824   0.258505\n",
       "   4 │     4  0.457105   0.630828   0.748485\n",
       "   5 │     5  0.828613   0.301434   0.753773\n",
       "   6 │     6  0.329394   0.0569095  0.791413\n",
       "   7 │     7  0.837742   0.319436   0.00364748\n",
       "   8 │     8  0.131976   0.693703   0.734074\n",
       "  ⋮  │   ⋮        ⋮          ⋮          ⋮\n",
       "  14 │    14  0.114087   0.694598   0.765392\n",
       "  15 │    15  0.467468   0.221928   0.935033\n",
       "  16 │    16  0.491542   0.554158   0.71017\n",
       "  17 │    17  0.42244    0.317016   0.758352\n",
       "  18 │    18  0.640059   0.640384   0.192464\n",
       "  19 │    19  0.02173    0.762372   0.967279\n",
       "  20 │    20  0.930182   0.307928   0.418292\n",
       "\u001b[36m                                 5 rows omitted\u001b[0m"
      ]
     },
     "metadata": {},
     "output_type": "display_data"
    }
   ],
   "source": [
    "using DataFrames\n",
    "n=20\n",
    "data = DataFrame(id=collect(1:n), x=rand(n), y=rand(n), z=rand(n))"
   ]
  },
  {
   "cell_type": "code",
   "execution_count": 93,
   "metadata": {},
   "outputs": [
    {
     "data": {
      "text/html": [
       "<div><div style = \"float: left;\"><span>17×4 DataFrame</span></div><div style = \"clear: both;\"></div></div><div class = \"data-frame\" style = \"overflow-x: scroll;\"><table class = \"data-frame\" style = \"margin-bottom: 6px;\"><thead><tr class = \"header\"><th class = \"rowNumber\" style = \"font-weight: bold; text-align: right;\">Row</th><th style = \"text-align: left;\">id</th><th style = \"text-align: left;\">x</th><th style = \"text-align: left;\">y</th><th style = \"text-align: left;\">z</th></tr><tr class = \"subheader headerLastRow\"><th class = \"rowNumber\" style = \"font-weight: bold; text-align: right;\"></th><th title = \"Int64\" style = \"text-align: left;\">Int64</th><th title = \"Float64\" style = \"text-align: left;\">Float64</th><th title = \"Float64\" style = \"text-align: left;\">Float64</th><th title = \"Float64\" style = \"text-align: left;\">Float64</th></tr></thead><tbody><tr><td class = \"rowNumber\" style = \"font-weight: bold; text-align: right;\">1</td><td style = \"text-align: right;\">1</td><td style = \"text-align: right;\">0.489944</td><td style = \"text-align: right;\">0.0417274</td><td style = \"text-align: right;\">0.493067</td></tr><tr><td class = \"rowNumber\" style = \"font-weight: bold; text-align: right;\">2</td><td style = \"text-align: right;\">2</td><td style = \"text-align: right;\">0.18897</td><td style = \"text-align: right;\">0.487114</td><td style = \"text-align: right;\">0.465865</td></tr><tr><td class = \"rowNumber\" style = \"font-weight: bold; text-align: right;\">3</td><td style = \"text-align: right;\">4</td><td style = \"text-align: right;\">0.457105</td><td style = \"text-align: right;\">0.630828</td><td style = \"text-align: right;\">0.748485</td></tr><tr><td class = \"rowNumber\" style = \"font-weight: bold; text-align: right;\">4</td><td style = \"text-align: right;\">6</td><td style = \"text-align: right;\">0.329394</td><td style = \"text-align: right;\">0.0569095</td><td style = \"text-align: right;\">0.791413</td></tr><tr><td class = \"rowNumber\" style = \"font-weight: bold; text-align: right;\">5</td><td style = \"text-align: right;\">8</td><td style = \"text-align: right;\">0.131976</td><td style = \"text-align: right;\">0.693703</td><td style = \"text-align: right;\">0.734074</td></tr><tr><td class = \"rowNumber\" style = \"font-weight: bold; text-align: right;\">6</td><td style = \"text-align: right;\">9</td><td style = \"text-align: right;\">0.263305</td><td style = \"text-align: right;\">0.418606</td><td style = \"text-align: right;\">0.30855</td></tr><tr><td class = \"rowNumber\" style = \"font-weight: bold; text-align: right;\">7</td><td style = \"text-align: right;\">10</td><td style = \"text-align: right;\">0.482631</td><td style = \"text-align: right;\">0.683583</td><td style = \"text-align: right;\">0.0822296</td></tr><tr><td class = \"rowNumber\" style = \"font-weight: bold; text-align: right;\">8</td><td style = \"text-align: right;\">11</td><td style = \"text-align: right;\">0.916244</td><td style = \"text-align: right;\">0.184676</td><td style = \"text-align: right;\">0.154271</td></tr><tr><td class = \"rowNumber\" style = \"font-weight: bold; text-align: right;\">9</td><td style = \"text-align: right;\">12</td><td style = \"text-align: right;\">0.0146526</td><td style = \"text-align: right;\">0.94227</td><td style = \"text-align: right;\">0.800638</td></tr><tr><td class = \"rowNumber\" style = \"font-weight: bold; text-align: right;\">10</td><td style = \"text-align: right;\">13</td><td style = \"text-align: right;\">0.101159</td><td style = \"text-align: right;\">0.967026</td><td style = \"text-align: right;\">0.332616</td></tr><tr><td class = \"rowNumber\" style = \"font-weight: bold; text-align: right;\">11</td><td style = \"text-align: right;\">14</td><td style = \"text-align: right;\">0.114087</td><td style = \"text-align: right;\">0.694598</td><td style = \"text-align: right;\">0.765392</td></tr><tr><td class = \"rowNumber\" style = \"font-weight: bold; text-align: right;\">12</td><td style = \"text-align: right;\">15</td><td style = \"text-align: right;\">0.467468</td><td style = \"text-align: right;\">0.221928</td><td style = \"text-align: right;\">0.935033</td></tr><tr><td class = \"rowNumber\" style = \"font-weight: bold; text-align: right;\">13</td><td style = \"text-align: right;\">16</td><td style = \"text-align: right;\">0.491542</td><td style = \"text-align: right;\">0.554158</td><td style = \"text-align: right;\">0.71017</td></tr><tr><td class = \"rowNumber\" style = \"font-weight: bold; text-align: right;\">14</td><td style = \"text-align: right;\">17</td><td style = \"text-align: right;\">0.42244</td><td style = \"text-align: right;\">0.317016</td><td style = \"text-align: right;\">0.758352</td></tr><tr><td class = \"rowNumber\" style = \"font-weight: bold; text-align: right;\">15</td><td style = \"text-align: right;\">18</td><td style = \"text-align: right;\">0.640059</td><td style = \"text-align: right;\">0.640384</td><td style = \"text-align: right;\">0.192464</td></tr><tr><td class = \"rowNumber\" style = \"font-weight: bold; text-align: right;\">16</td><td style = \"text-align: right;\">19</td><td style = \"text-align: right;\">0.02173</td><td style = \"text-align: right;\">0.762372</td><td style = \"text-align: right;\">0.967279</td></tr><tr><td class = \"rowNumber\" style = \"font-weight: bold; text-align: right;\">17</td><td style = \"text-align: right;\">20</td><td style = \"text-align: right;\">0.930182</td><td style = \"text-align: right;\">0.307928</td><td style = \"text-align: right;\">0.418292</td></tr></tbody></table></div>"
      ],
      "text/latex": [
       "\\begin{tabular}{r|cccc}\n",
       "\t& id & x & y & z\\\\\n",
       "\t\\hline\n",
       "\t& Int64 & Float64 & Float64 & Float64\\\\\n",
       "\t\\hline\n",
       "\t1 & 1 & 0.489944 & 0.0417274 & 0.493067 \\\\\n",
       "\t2 & 2 & 0.18897 & 0.487114 & 0.465865 \\\\\n",
       "\t3 & 4 & 0.457105 & 0.630828 & 0.748485 \\\\\n",
       "\t4 & 6 & 0.329394 & 0.0569095 & 0.791413 \\\\\n",
       "\t5 & 8 & 0.131976 & 0.693703 & 0.734074 \\\\\n",
       "\t6 & 9 & 0.263305 & 0.418606 & 0.30855 \\\\\n",
       "\t7 & 10 & 0.482631 & 0.683583 & 0.0822296 \\\\\n",
       "\t8 & 11 & 0.916244 & 0.184676 & 0.154271 \\\\\n",
       "\t9 & 12 & 0.0146526 & 0.94227 & 0.800638 \\\\\n",
       "\t10 & 13 & 0.101159 & 0.967026 & 0.332616 \\\\\n",
       "\t11 & 14 & 0.114087 & 0.694598 & 0.765392 \\\\\n",
       "\t12 & 15 & 0.467468 & 0.221928 & 0.935033 \\\\\n",
       "\t13 & 16 & 0.491542 & 0.554158 & 0.71017 \\\\\n",
       "\t14 & 17 & 0.42244 & 0.317016 & 0.758352 \\\\\n",
       "\t15 & 18 & 0.640059 & 0.640384 & 0.192464 \\\\\n",
       "\t16 & 19 & 0.02173 & 0.762372 & 0.967279 \\\\\n",
       "\t17 & 20 & 0.930182 & 0.307928 & 0.418292 \\\\\n",
       "\\end{tabular}\n"
      ],
      "text/plain": [
       "\u001b[1m17×4 DataFrame\u001b[0m\n",
       "\u001b[1m Row \u001b[0m│\u001b[1m id    \u001b[0m\u001b[1m x         \u001b[0m\u001b[1m y         \u001b[0m\u001b[1m z         \u001b[0m\n",
       "     │\u001b[90m Int64 \u001b[0m\u001b[90m Float64   \u001b[0m\u001b[90m Float64   \u001b[0m\u001b[90m Float64   \u001b[0m\n",
       "─────┼────────────────────────────────────────\n",
       "   1 │     1  0.489944   0.0417274  0.493067\n",
       "   2 │     2  0.18897    0.487114   0.465865\n",
       "   3 │     4  0.457105   0.630828   0.748485\n",
       "   4 │     6  0.329394   0.0569095  0.791413\n",
       "   5 │     8  0.131976   0.693703   0.734074\n",
       "   6 │     9  0.263305   0.418606   0.30855\n",
       "   7 │    10  0.482631   0.683583   0.0822296\n",
       "   8 │    11  0.916244   0.184676   0.154271\n",
       "   9 │    12  0.0146526  0.94227    0.800638\n",
       "  10 │    13  0.101159   0.967026   0.332616\n",
       "  11 │    14  0.114087   0.694598   0.765392\n",
       "  12 │    15  0.467468   0.221928   0.935033\n",
       "  13 │    16  0.491542   0.554158   0.71017\n",
       "  14 │    17  0.42244    0.317016   0.758352\n",
       "  15 │    18  0.640059   0.640384   0.192464\n",
       "  16 │    19  0.02173    0.762372   0.967279\n",
       "  17 │    20  0.930182   0.307928   0.418292"
      ]
     },
     "metadata": {},
     "output_type": "display_data"
    }
   ],
   "source": [
    "deleteat!(data, [3,5,7])"
   ]
  },
  {
   "cell_type": "markdown",
   "metadata": {},
   "source": [
    "## Galactic Dynamics "
   ]
  },
  {
   "cell_type": "code",
   "execution_count": 94,
   "metadata": {},
   "outputs": [],
   "source": [
    "using GalacticDynamics"
   ]
  },
  {
   "cell_type": "code",
   "execution_count": 96,
   "metadata": {},
   "outputs": [
    {
     "name": "stdout",
     "output_type": "stream",
     "text": [
      "pot = Plummer{Int64, Float64}\n",
      "  m: Int64 34\n",
      "  a: Float64 0.01\n",
      "\n",
      "pot₂ = NFW{Int64, Float64}\n",
      "  m: Int64 1000\n",
      "  a: Float64 5.0\n",
      "\n"
     ]
    },
    {
     "name": "stdout",
     "output_type": "stream",
     "text": [
      "pot + pot₂ = GalacticDynamics.AbstractPotential[Plummer{Int64, Float64}\n",
      "  m: Int64 34\n",
      "  a: Float64 0.01\n",
      ", NFW{Int64, Float64}\n",
      "  m: Int64 1000\n",
      "  a: Float64 5.0\n",
      "]\n"
     ]
    },
    {
     "data": {
      "text/plain": [
       "2-element Vector{GalacticDynamics.AbstractPotential}:\n",
       " Plummer{Int64, Float64}\n",
       "  m: Int64 34\n",
       "  a: Float64 0.01\n",
       "\n",
       " NFW{Int64, Float64}\n",
       "  m: Int64 1000\n",
       "  a: Float64 5.0\n"
      ]
     },
     "metadata": {},
     "output_type": "display_data"
    }
   ],
   "source": [
    "pot = Plummer(34u\"Msun\", 10.0*u\"pc\")\n",
    "pot₂ = NFW(10^3*u\"Msun\", 5.0*u\"kpc\")\n",
    "@show pot pot₂ pot+pot₂"
   ]
  },
  {
   "cell_type": "code",
   "execution_count": 97,
   "metadata": {},
   "outputs": [
    {
     "name": "stdout",
     "output_type": "stream",
     "text": [
      "potential(pot, x) = -0.01282532353900881 km^2 s^-2\n",
      "acceleration(pot, x) = "
     ]
    },
    {
     "name": "stdout",
     "output_type": "stream",
     "text": [
      "Quantity{Float64, 𝐋 𝐓^-2, Unitful.FreeUnits{(km, s^-1, Myr^-1), 𝐋 𝐓^-2, nothing}}[-0.4932816745772619 km s^-1 Myr^-1, -0.09865633491545238 km s^-1 Myr^-1, 0.19731266983090476 km s^-1 Myr^-1]\n",
      "potential(pot₂, x) = -1.0202395888647748 km^2 s^-2\n",
      "acceleration(pot₂, x) = "
     ]
    },
    {
     "name": "stdout",
     "output_type": "stream",
     "text": [
      "Quantity{Float64, 𝐋 𝐓^-2, Unitful.FreeUnits{(km, s^-1, Myr^-1), 𝐋 𝐓^-2, nothing}}[-0.09304976990451902 km s^-1 Myr^-1, -0.018609953980903805 km s^-1 Myr^-1, 0.03721990796180761 km s^-1 Myr^-1]\n"
     ]
    },
    {
     "name": "stdout",
     "output_type": "stream",
     "text": [
      "potential(pot + pot₂, x) = Quantity{Float64, 𝐋^2 𝐓^-2, Unitful.FreeUnits{(km^2, s^-2), 𝐋^2 𝐓^-2, nothing}}[-1.0330649124037836 km^2 s^-2, -1.0330649124037836 km^2 s^-2, -1.0330649124037836 km^2 s^-2]\n",
      "acceleration(pot + pot₂, x) = Quantity{Float64, 𝐋 𝐓^-2, Unitful.FreeUnits{(km, s^-1, Myr^-1), 𝐋 𝐓^-2, nothing}}[-0.5863314444817809 km s^-1 Myr^-1, -0.11726628889635618 km s^-1 Myr^-1, 0.23453257779271236 km s^-1 Myr^-1]\n"
     ]
    }
   ],
   "source": [
    "x=[5.0, 1.0, -2.0]u\"pc\"\n",
    "@show potential(pot,x)\n",
    "@show acceleration(pot,x)\n",
    "@show potential(pot₂,x)\n",
    "@show acceleration(pot₂,x)\n",
    "@show potential(pot+pot₂,x)\n",
    "@show acceleration(pot+pot₂,x);"
   ]
  },
  {
   "cell_type": "code",
   "execution_count": 98,
   "metadata": {},
   "outputs": [
    {
     "name": "stdout",
     "output_type": "stream",
     "text": [
      "MethodInstance for GalacticDynamics.potential(::Plummer{Int64, Float64}, ::Vector{Quantity{Float64, 𝐋, Unitful.FreeUnits{(pc,), 𝐋, nothing}}})\n",
      "  from potential(\u001b[90mpot\u001b[39m::\u001b[1mUnion\u001b[22m\u001b[0m{GalacticDynamics.AbstractPotential, Vector{<:GalacticDynamics.AbstractPotential}}, \u001b[90mx\u001b[39m::\u001b[1mAbstractArray\u001b[22m\u001b[0m{<:Union{Quantity{T, 𝐋, U}, Level{L, S, Quantity{T, 𝐋, U}} where {L, S}} where {T, U}})\u001b[90m @\u001b[39m \u001b[90mGalacticDynamics\u001b[39m \u001b[90m~/.julia/dev/GalacticDynamics/src/geometry/potentials/\u001b[39m\u001b[90m\u001b[4mpotentials.jl:23\u001b[24m\u001b[39m\n",
      "Arguments\n",
      "  #self#\u001b[36m::Core.Const(GalacticDynamics.potential)\u001b[39m\n",
      "  pot\u001b[36m::Plummer{Int64, Float64}\u001b[39m\n",
      "  x\u001b[36m::Vector{Quantity{Float64, 𝐋, Unitful.FreeUnits{(pc,), 𝐋, nothing}}}\u001b[39m\n",
      "Body\u001b[36m::Quantity{Float64, 𝐋^2 𝐓^-2, Unitful.FreeUnits{(km^2, s^-2), 𝐋^2 𝐓^-2, nothing}}\u001b[39m\n",
      "\u001b[90m1 ─\u001b[39m"
     ]
    },
    {
     "name": "stdout",
     "output_type": "stream",
     "text": [
      " %1 = Base.getproperty(GalacticDynamics.𝕦, :t)\u001b[36m::Core.Const(0.9777922216807892 Gyr)\u001b[39m\n",
      "\u001b[90m│  \u001b[39m %2 = (0 * %1)\u001b[36m::Core.Const(0.0 Gyr)\u001b[39m\n",
      "\u001b[90m│  \u001b[39m %3 = GalacticDynamics.potential(pot, x, %2)\u001b[36m::Quantity{Float64, 𝐋^2 𝐓^-2, Unitful.FreeUnits{(km^2, s^-2), 𝐋^2 𝐓^-2, nothing}}\u001b[39m\n",
      "\u001b[90m└──\u001b[39m      return %3\n",
      "\n"
     ]
    }
   ],
   "source": [
    "@code_warntype  potential(pot,x)"
   ]
  },
  {
   "cell_type": "markdown",
   "metadata": {},
   "source": [
    "### DifferentialEquations.jl https://docs.sciml.ai/DiffEqDocs/stable/solvers/ode_solve/"
   ]
  },
  {
   "cell_type": "code",
   "execution_count": 99,
   "metadata": {},
   "outputs": [
    {
     "data": {
      "text/plain": [
       "example_orbit (generic function with 1 method)"
      ]
     },
     "metadata": {},
     "output_type": "display_data"
    }
   ],
   "source": [
    "using DifferentialEquations\n",
    "using Test\n",
    "\n",
    "function example_orbit()\n",
    "    m_gal = 2.325e7*u\"Msun\"\n",
    "    m =1018.0*m_gal  # Msun\n",
    "    a = 2.562*u\"kpc\"     # kpc\n",
    "    Λ = 200.0*u\"kpc\"    # kpc\n",
    "    γ = 2.0\n",
    "    pot = AllenSantillanHalo(m, a, Λ, γ)\n",
    "    for i in range(1,20)\n",
    "        w₀ = 50*rand(6)\n",
    "        x₀ = w₀[1:3]u\"kpc\"\n",
    "        v₀ = w₀[4:6]u\"km/s\"\n",
    "        t_range = (0.0,100.0).*𝕦.t\n",
    "        sol = evolve(pot, x₀, v₀, t_range)\n",
    "        sol₂ = evolve(pot, x₀, v₀, t_range; options=SolverConfig(solver=Tsit5(), reltol=5.0e-12))\n",
    "        @show @test sol.x[end] ≈ sol₂.x[end] rtol=5.0e-8\n",
    "        @show @test sol.v[end] ≈ sol₂.v[end] rtol=5.0e-8\n",
    "    end\n",
    "end"
   ]
  },
  {
   "cell_type": "code",
   "execution_count": 28,
   "metadata": {},
   "outputs": [
    {
     "name": "stdout",
     "output_type": "stream",
     "text": [
      "#= /mnt/md1/mmestre/work/2023/TallerJulia/diciembre2023.ipynb:18 =# @test(sol.x[end] ≈ sol₂.x[end], rtol = 5.0e-8) = Test Passed\n",
      "#= /mnt/md1/mmestre/work/2023/TallerJulia/diciembre2023.ipynb:19 =# @test(sol.v[end] ≈ sol₂.v[end], rtol = 5.0e-8) = Test Passed\n"
     ]
    },
    {
     "name": "stdout",
     "output_type": "stream",
     "text": [
      "#= /mnt/md1/mmestre/work/2023/TallerJulia/diciembre2023.ipynb:18 =# @test(sol.x[end] ≈ sol₂.x[end], rtol = 5.0e-8) = Test Passed\n",
      "#= /mnt/md1/mmestre/work/2023/TallerJulia/diciembre2023.ipynb:19 =# @test(sol.v[end] ≈ sol₂.v[end], rtol = 5.0e-8) = Test Passed\n"
     ]
    },
    {
     "name": "stdout",
     "output_type": "stream",
     "text": [
      "#= /mnt/md1/mmestre/work/2023/TallerJulia/diciembre2023.ipynb:18 =# @test(sol.x[end] ≈ sol₂.x[end], rtol = 5.0e-8) = Test Passed\n",
      "#= /mnt/md1/mmestre/work/2023/TallerJulia/diciembre2023.ipynb:19 =# @test(sol.v[end] ≈ sol₂.v[end], rtol = 5.0e-8) = Test Passed\n"
     ]
    },
    {
     "name": "stdout",
     "output_type": "stream",
     "text": [
      "#= /mnt/md1/mmestre/work/2023/TallerJulia/diciembre2023.ipynb:18 =# @test(sol.x[end] ≈ sol₂.x[end], rtol = 5.0e-8) = Test Passed\n",
      "#= /mnt/md1/mmestre/work/2023/TallerJulia/diciembre2023.ipynb:19 =# @test(sol.v[end] ≈ sol₂.v[end], rtol = 5.0e-8) = Test Passed\n"
     ]
    },
    {
     "name": "stdout",
     "output_type": "stream",
     "text": [
      "#= /mnt/md1/mmestre/work/2023/TallerJulia/diciembre2023.ipynb:18 =# @test(sol.x[end] ≈ sol₂.x[end], rtol = 5.0e-8) = Test Passed\n",
      "#= /mnt/md1/mmestre/work/2023/TallerJulia/diciembre2023.ipynb:19 =# @test(sol.v[end] ≈ sol₂.v[end], rtol = 5.0e-8) = Test Passed\n"
     ]
    },
    {
     "name": "stdout",
     "output_type": "stream",
     "text": [
      "#= /mnt/md1/mmestre/work/2023/TallerJulia/diciembre2023.ipynb:18 =# @test(sol.x[end] ≈ sol₂.x[end], rtol = 5.0e-8) = Test Passed\n",
      "#= /mnt/md1/mmestre/work/2023/TallerJulia/diciembre2023.ipynb:19 =# @test(sol.v[end] ≈ sol₂.v[end], rtol = 5.0e-8) = Test Passed\n"
     ]
    },
    {
     "name": "stdout",
     "output_type": "stream",
     "text": [
      "#= /mnt/md1/mmestre/work/2023/TallerJulia/diciembre2023.ipynb:18 =# @test(sol.x[end] ≈ sol₂.x[end], rtol = 5.0e-8) = Test Passed\n",
      "#= /mnt/md1/mmestre/work/2023/TallerJulia/diciembre2023.ipynb:19 =# @test(sol.v[end] ≈ sol₂.v[end], rtol = 5.0e-8) = Test Passed\n"
     ]
    },
    {
     "name": "stdout",
     "output_type": "stream",
     "text": [
      "#= /mnt/md1/mmestre/work/2023/TallerJulia/diciembre2023.ipynb:18 =# @test(sol.x[end] ≈ sol₂.x[end], rtol = 5.0e-8) = Test Passed\n",
      "#= /mnt/md1/mmestre/work/2023/TallerJulia/diciembre2023.ipynb:19 =# @test(sol.v[end] ≈ sol₂.v[end], rtol = 5.0e-8) = Test Passed\n"
     ]
    },
    {
     "name": "stdout",
     "output_type": "stream",
     "text": [
      "#= /mnt/md1/mmestre/work/2023/TallerJulia/diciembre2023.ipynb:18 =# @test(sol.x[end] ≈ sol₂.x[end], rtol = 5.0e-8) = Test Passed\n",
      "#= /mnt/md1/mmestre/work/2023/TallerJulia/diciembre2023.ipynb:19 =# @test(sol.v[end] ≈ sol₂.v[end], rtol = 5.0e-8) = Test Passed\n"
     ]
    },
    {
     "name": "stdout",
     "output_type": "stream",
     "text": [
      "#= /mnt/md1/mmestre/work/2023/TallerJulia/diciembre2023.ipynb:18 =# @test(sol.x[end] ≈ sol₂.x[end], rtol = 5.0e-8) = Test Passed\n",
      "#= /mnt/md1/mmestre/work/2023/TallerJulia/diciembre2023.ipynb:19 =# @test(sol.v[end] ≈ sol₂.v[end], rtol = 5.0e-8) = Test Passed\n"
     ]
    },
    {
     "name": "stdout",
     "output_type": "stream",
     "text": [
      "#= /mnt/md1/mmestre/work/2023/TallerJulia/diciembre2023.ipynb:18 =# @test(sol.x[end] ≈ sol₂.x[end], rtol = 5.0e-8) = Test Passed\n",
      "#= /mnt/md1/mmestre/work/2023/TallerJulia/diciembre2023.ipynb:19 =# @test(sol.v[end] ≈ sol₂.v[end], rtol = 5.0e-8) = Test Passed\n"
     ]
    },
    {
     "name": "stdout",
     "output_type": "stream",
     "text": [
      "#= /mnt/md1/mmestre/work/2023/TallerJulia/diciembre2023.ipynb:18 =# @test(sol.x[end] ≈ sol₂.x[end], rtol = 5.0e-8) = Test Passed\n",
      "#= /mnt/md1/mmestre/work/2023/TallerJulia/diciembre2023.ipynb:19 =# @test(sol.v[end] ≈ sol₂.v[end], rtol = 5.0e-8) = Test Passed\n"
     ]
    },
    {
     "name": "stdout",
     "output_type": "stream",
     "text": [
      "#= /mnt/md1/mmestre/work/2023/TallerJulia/diciembre2023.ipynb:18 =# @test(sol.x[end] ≈ sol₂.x[end], rtol = 5.0e-8) = Test Passed\n",
      "#= /mnt/md1/mmestre/work/2023/TallerJulia/diciembre2023.ipynb:19 =# @test(sol.v[end] ≈ sol₂.v[end], rtol = 5.0e-8) = Test Passed\n"
     ]
    },
    {
     "name": "stdout",
     "output_type": "stream",
     "text": [
      "#= /mnt/md1/mmestre/work/2023/TallerJulia/diciembre2023.ipynb:18 =# @test(sol.x[end] ≈ sol₂.x[end], rtol = 5.0e-8) = Test Passed\n",
      "#= /mnt/md1/mmestre/work/2023/TallerJulia/diciembre2023.ipynb:19 =# @test(sol.v[end] ≈ sol₂.v[end], rtol = 5.0e-8) = Test Passed\n"
     ]
    },
    {
     "name": "stdout",
     "output_type": "stream",
     "text": [
      "#= /mnt/md1/mmestre/work/2023/TallerJulia/diciembre2023.ipynb:18 =# @test(sol.x[end] ≈ sol₂.x[end], rtol = 5.0e-8) = Test Passed\n",
      "#= /mnt/md1/mmestre/work/2023/TallerJulia/diciembre2023.ipynb:19 =# @test(sol.v[end] ≈ sol₂.v[end], rtol = 5.0e-8) = Test Passed\n"
     ]
    },
    {
     "name": "stdout",
     "output_type": "stream",
     "text": [
      "#= /mnt/md1/mmestre/work/2023/TallerJulia/diciembre2023.ipynb:18 =# @test(sol.x[end] ≈ sol₂.x[end], rtol = 5.0e-8) = Test Passed\n",
      "#= /mnt/md1/mmestre/work/2023/TallerJulia/diciembre2023.ipynb:19 =# @test(sol.v[end] ≈ sol₂.v[end], rtol = 5.0e-8) = Test Passed\n"
     ]
    },
    {
     "name": "stdout",
     "output_type": "stream",
     "text": [
      "#= /mnt/md1/mmestre/work/2023/TallerJulia/diciembre2023.ipynb:18 =# @test(sol.x[end] ≈ sol₂.x[end], rtol = 5.0e-8) = Test Passed\n",
      "#= /mnt/md1/mmestre/work/2023/TallerJulia/diciembre2023.ipynb:19 =# @test(sol.v[end] ≈ sol₂.v[end], rtol = 5.0e-8) = Test Passed\n"
     ]
    },
    {
     "name": "stdout",
     "output_type": "stream",
     "text": [
      "#= /mnt/md1/mmestre/work/2023/TallerJulia/diciembre2023.ipynb:18 =# @test(sol.x[end] ≈ sol₂.x[end], rtol = 5.0e-8) = Test Passed\n",
      "#= /mnt/md1/mmestre/work/2023/TallerJulia/diciembre2023.ipynb:19 =# @test(sol.v[end] ≈ sol₂.v[end], rtol = 5.0e-8) = Test Passed\n"
     ]
    },
    {
     "name": "stdout",
     "output_type": "stream",
     "text": [
      "#= /mnt/md1/mmestre/work/2023/TallerJulia/diciembre2023.ipynb:18 =# @test(sol.x[end] ≈ sol₂.x[end], rtol = 5.0e-8) = Test Passed\n",
      "#= /mnt/md1/mmestre/work/2023/TallerJulia/diciembre2023.ipynb:19 =# @test(sol.v[end] ≈ sol₂.v[end], rtol = 5.0e-8) = Test Passed\n"
     ]
    },
    {
     "name": "stdout",
     "output_type": "stream",
     "text": [
      "#= /mnt/md1/mmestre/work/2023/TallerJulia/diciembre2023.ipynb:18 =# @test(sol.x[end] ≈ sol₂.x[end], rtol = 5.0e-8) = Test Passed\n",
      "#= /mnt/md1/mmestre/work/2023/TallerJulia/diciembre2023.ipynb:19 =# @test(sol.v[end] ≈ sol₂.v[end], rtol = 5.0e-8) = Test Passed\n"
     ]
    }
   ],
   "source": [
    "example_orbit()"
   ]
  },
  {
   "cell_type": "code",
   "execution_count": 29,
   "metadata": {},
   "outputs": [
    {
     "name": "stdout",
     "output_type": "stream",
     "text": [
      "MethodInstance for example_orbit()\n",
      "  from example_orbit()\u001b[90m @\u001b[39m \u001b[90mMain\u001b[39m \u001b[90m/mnt/md1/mmestre/work/2023/TallerJulia/\u001b[39m\u001b[90m\u001b[4mdiciembre2023.ipynb:4\u001b[24m\u001b[39m\n",
      "Arguments\n",
      "  #self#\u001b[36m::Core.Const(example_orbit)\u001b[39m\n",
      "Locals\n",
      "  @_2"
     ]
    },
    {
     "name": "stdout",
     "output_type": "stream",
     "text": [
      "\u001b[33m\u001b[1m::Union{Nothing, Tuple{Int64, Int64}}\u001b[22m\u001b[39m\n",
      "  pot\u001b[36m::AllenSantillanHalo{Float64, Float64, Float64, Float64}\u001b[39m\n",
      "  γ\u001b[36m::Float64\u001b[39m\n",
      "  Λ\u001b[36m::Quantity{Float64, 𝐋, Unitful.FreeUnits{(kpc,), 𝐋, nothing}}\u001b[39m\n",
      "  a\u001b[36m::Quantity{Float64, 𝐋, Unitful.FreeUnits{(kpc,), 𝐋, nothing}}\u001b[39m\n",
      "  m"
     ]
    },
    {
     "name": "stdout",
     "output_type": "stream",
     "text": [
      "\u001b[36m::Quantity{Float64, 𝐌, Unitful.FreeUnits{(M⊙,), 𝐌, nothing}}\u001b[39m\n",
      "  m_gal\u001b[36m::Quantity{Float64, 𝐌, Unitful.FreeUnits{(M⊙,), 𝐌, nothing}}\u001b[39m\n",
      "  value@_9\u001b[33m\u001b[1m::Union{Test.Error, Test.Fail, Test.Pass}\u001b[22m\u001b[39m\n",
      "  value@_10\u001b[33m\u001b[1m::Union{Test.Error, Test.Fail, Test.Pass}\u001b[22m\u001b[39m\n",
      "  i\u001b[36m::Int64\u001b[39m\n",
      "  sol₂\u001b[91m\u001b[1m::Any\u001b[22m\u001b[39m\n",
      "  sol\u001b[91m\u001b[1m::Any\u001b[22m\u001b[39m\n",
      "  t_range"
     ]
    },
    {
     "name": "stdout",
     "output_type": "stream",
     "text": [
      "\u001b[36m::Tuple{Quantity{Float64, 𝐓, Unitful.FreeUnits{(Gyr,), 𝐓, nothing}}, Quantity{Float64, 𝐓, Unitful.FreeUnits{(Gyr,), 𝐓, nothing}}}\u001b[39m\n",
      "  v₀\u001b[36m::Vector{Quantity{Float64, 𝐋 𝐓^-1, Unitful.FreeUnits{(km, s^-1), 𝐋 𝐓^-1, nothing}}}\u001b[39m\n",
      "  x₀\u001b[36m::Vector{Quantity{Float64, 𝐋, Unitful.FreeUnits{(kpc,), 𝐋, nothing}}}\u001b[39m\n",
      "  w₀\u001b[36m::Vector{Float64}\u001b[39m\n",
      "  _do@_18\u001b[36m::typeof(Test.do_test)\u001b[39m\n",
      "  _e@_19\u001b[91m\u001b[1m::Any\u001b[22m\u001b[39m\n",
      "  _do@_20\u001b[36m::typeof(Test.do_test)\u001b[39m\n",
      "  _e@_21\u001b[91m\u001b[1m::Any\u001b[22m\u001b[39m\n",
      "  @_22\u001b[33m\u001b[1m::Union{Test.Error, Test.Fail, Test.Pass}\u001b[22m\u001b[39m\n",
      "  @_23\u001b[36m::typeof(Test.do_test)\u001b[39m\n",
      "  @_24\u001b[33m\u001b[1m::Union{Test.Returned, Test.Threw}\u001b[22m\u001b[39m\n",
      "  @_25\u001b[33m\u001b[1m::Union{Test.Error, Test.Fail, Test.Pass}\u001b[22m\u001b[39m\n",
      "  @_26\u001b[36m::typeof(Test.do_test)\u001b[39m\n",
      "  @_27\u001b[33m\u001b[1m::Union{Test.Returned, Test.Threw}\u001b[22m\u001b[39m\n",
      "Body\u001b[36m::Nothing\u001b[39m\n",
      "\u001b[90m1 ──\u001b[39m"
     ]
    },
    {
     "name": "stdout",
     "output_type": "stream",
     "text": [
      "        "
     ]
    },
    {
     "name": "stdout",
     "output_type": "stream",
     "text": [
      "(m_gal = 2.325e7 * "
     ]
    },
    {
     "name": "stdout",
     "output_type": "stream",
     "text": [
      "M⊙)\n"
     ]
    },
    {
     "name": "stdout",
     "output_type": "stream",
     "text": [
      "\u001b[90m│   \u001b[39m        (m = 1018.0 * m_gal"
     ]
    },
    {
     "name": "stdout",
     "output_type": "stream",
     "text": [
      "::Core.Const(2.325e7 M⊙))\n",
      "\u001b[90m│   \u001b[39m        (a = 2.562 * kpc)\n",
      "\u001b[90m│   \u001b[39m        (Λ = 200.0 * kpc)\n",
      "\u001b[90m│   \u001b[39m        (γ = 2.0)\n",
      "\u001b[90m│   \u001b[39m        (pot = Main.AllenSantillanHalo(m::Core.Const(2.36685e10 M⊙), a::Core.Const(2.562 kpc), Λ::Core.Const(200.0 kpc), γ::Core.Const(2.0)))\n",
      "\u001b[90m│   \u001b[39m %"
     ]
    },
    {
     "name": "stdout",
     "output_type": "stream",
     "text": [
      "7   = Main.range(1, 20)\u001b[36m::Core.Const(1:20)\u001b[39m\n",
      "\u001b[90m│   \u001b[39m        (@_2 = Base.iterate(%7))\n",
      "\u001b[90m│   \u001b[39m %9   = (@_2::Core.Const((1, 1)) === "
     ]
    },
    {
     "name": "stdout",
     "output_type": "stream",
     "text": [
      "nothing)\u001b[36m::Core.Const(false)\u001b[39m\n",
      "\u001b[90m│   \u001b[39m %10  = Base.not_int(%9)\u001b[36m::Core.Const(true)\u001b[39m\n",
      "\u001b[90m└───\u001b[39m        goto #28 if not %10\n",
      "\u001b[90m2 ┄─\u001b[39m        Core.NewvarNode(:(value@_9))\n",
      "\u001b[90m│   \u001b[39m        Core.NewvarNode(:(value@_10))\n",
      "\u001b[90m│   \u001b[39m %14  = @_2\u001b[36m::Tuple{Int64, Int64}\u001b[39m\n",
      "\u001b[90m│   \u001b[39m        (i = Core.getfield(%14, 1))\n",
      "\u001b[90m│   \u001b[39m %16  = Core.getfield(%14, 2)\u001b[36m::Int64\u001b[39m\n",
      "\u001b[90m│   \u001b[39m %17  = Main.rand(6)\u001b[36m::Vector{Float64}\u001b[39m\n",
      "\u001b[90m│   \u001b[39m        (w₀ = 50 * %17)\n",
      "\u001b[90m│   \u001b[39m %19  = w₀\u001b[36m::Vector{Float64}\u001b[39m\n",
      "\u001b[90m│   \u001b[39m %20  = (1:3)\u001b[36m::Core.Const(1:3)\u001b[39m\n",
      "\u001b[90m│   \u001b[39m %21  = Base.getindex(%19, %20)\u001b[36m::Vector{Float64}\u001b[39m\n",
      "\u001b[90m│   \u001b[39m        (x₀ = %21 * kpc)\n",
      "\u001b[90m│   \u001b[39m %23  = w₀\u001b[36m::Vector{Float64}\u001b[39m\n",
      "\u001b[90m│   \u001b[39m %24  = (4:6)\u001b[36m::Core.Const(4:6)\u001b[39m\n",
      "\u001b[90m│   \u001b[39m %25  = Base.getindex(%23, %24)\u001b[36m::Vector{Float64}\u001b[39m\n",
      "\u001b[90m│   \u001b[39m %26  = (km / "
     ]
    },
    {
     "name": "stdout",
     "output_type": "stream",
     "text": [
      "s)\u001b[36m::Core.Const(km s^-1)\u001b[39m\n",
      "\u001b[90m│   \u001b[39m        (v₀ = %25 * %26)\n",
      "\u001b[90m│   \u001b[39m %28  = Main.:*\u001b[36m::Core.Const(*)\u001b[39m\n",
      "\u001b[90m│   \u001b[39m %29  = Core.tuple(0.0, 100.0)\u001b[36m::Core.Const((0.0, 100.0))\u001b[39m\n",
      "\u001b[90m│   \u001b[39m %30  = Base.getproperty(Main.𝕦, :"
     ]
    },
    {
     "name": "stdout",
     "output_type": "stream",
     "text": [
      "t)\u001b[36m::Core.Const(0.9777922216807892 Gyr)\u001b[39m\n",
      "\u001b[90m│   \u001b[39m %31  = Base.broadcasted(%28, %29, %30)"
     ]
    },
    {
     "name": "stdout",
     "output_type": "stream",
     "text": [
      "\u001b[36m::Core.Const(Base.Broadcast.Broadcasted(*, ((0.0, 100.0), 0.9777922216807892 Gyr)))\u001b[39m\n",
      "\u001b[90m│   \u001b[39m        (t_range = Base.materialize(%31))\n",
      "\u001b[90m│   \u001b[39m        (sol = Main.evolve(pot::Core.Const(AllenSantillanHalo"
     ]
    },
    {
     "name": "stdout",
     "output_type": "stream",
     "text": [
      "{Float64, Float64, Float64, Float64}\n",
      "  m: Float64 2.36685e10\n",
      "  a: Float64 2.562\n",
      "  Λ: Float64 200.0\n",
      "  γ: Float64 2.0\n",
      "), x₀, v₀, t_range::Core.Const((0.0 Gyr, 97.77922216807892 Gyr))))\n",
      "\u001b[90m│   \u001b[39m %34  = ("
     ]
    },
    {
     "name": "stdout",
     "output_type": "stream",
     "text": [
      ":options,)\u001b[36m::Core.Const((:options,))\u001b[39m\n",
      "\u001b[90m│   \u001b[39m %35  = Core.apply_type(Core.NamedTuple, %34)\u001b[36m::Core.Const(NamedTuple{(:options,)})\u001b[39m\n",
      "\u001b[90m│   \u001b[39m %36  = Main.Tsit5()\u001b[36m::Core.Const(Tsit5(; stage_limiter! = trivial_limiter!, step_limiter! = trivial_limiter!, thread = static(false),))\u001b[39m\n",
      "\u001b[90m│   \u001b[39m %37  = ("
     ]
    },
    {
     "name": "stdout",
     "output_type": "stream",
     "text": [
      ":solver, :reltol)\u001b[36m::Core.Const((:solver, :reltol))\u001b[39m\n",
      "\u001b[90m│   \u001b[39m %38  = Core.apply_type(Core.NamedTuple, %37)\u001b[36m::Core.Const(NamedTuple{(:solver, :reltol)})\u001b[39m\n",
      "\u001b[90m│   \u001b[39m %39  = Core.tuple(%36, 5.0e-12)\u001b[36m::Core.Const((Tsit5(; stage_limiter! = trivial_limiter!, step_limiter! = trivial_limiter!, thread = static(false),), 5.0e-12))\u001b[39m\n",
      "\u001b[90m│   \u001b[39m %40  = ("
     ]
    },
    {
     "name": "stdout",
     "output_type": "stream",
     "text": [
      "%38)(%39)\u001b[36m::Core.Const((solver = Tsit5(; stage_limiter! = trivial_limiter!, step_limiter! = trivial_limiter!, thread = static(false),), reltol = 5.0e-12))\u001b[39m\n",
      "\u001b[90m│   \u001b[39m %41  = Core.kwcall(%40, Main.SolverConfig)"
     ]
    },
    {
     "name": "stdout",
     "output_type": "stream",
     "text": [
      "\u001b[36m::Core.Const(SolverConfig\u001b[39m\n",
      "\u001b[36m  solver: Tsit5{typeof(OrdinaryDiffEq.trivial_limiter!), typeof(OrdinaryDiffEq.trivial_limiter!), Static.False}\u001b[39m\n",
      "\u001b[36m  abstol: Float64 5.0e-11\u001b[39m\n",
      "\u001b[36m  reltol: Float64 5.0e-12\u001b[39m\n",
      "\u001b[36m)\u001b[39m\n",
      "\u001b[90m│   \u001b[39m %42  = Core.tuple(%41)\u001b[36m::Core.Const((SolverConfig\u001b[39m\n",
      "\u001b[36m  solver: Tsit5{typeof(OrdinaryDiffEq.trivial_limiter!), typeof(OrdinaryDiffEq.trivial_limiter!), Static.False}\u001b[39m\n",
      "\u001b[36m  abstol: Float64 5.0e-11\u001b[39m\n",
      "\u001b[36m  reltol: Float64 5.0e-12\u001b[39m\n",
      "\u001b[36m,))\u001b[39m\n",
      "\u001b[90m│   \u001b[39m %43  = (%35)(%42)\u001b[36m::Core.Const((options = SolverConfig\u001b[39m\n",
      "\u001b[36m  solver: Tsit5{typeof(OrdinaryDiffEq.trivial_limiter!), typeof(OrdinaryDiffEq.trivial_limiter!), Static.False}\u001b[39m\n",
      "\u001b[36m  abstol: Float64 5.0e-11\u001b[39m\n",
      "\u001b[36m  reltol: Float64 5.0e-12\u001b[39m\n",
      "\u001b[36m,))\u001b[39m\n",
      "\u001b[90m│   \u001b[39m        (sol₂ = Core.kwcall(%43, Main.evolve, pot::Core.Const(AllenSantillanHalo{Float64, Float64, Float64, Float64}\n",
      "  m: Float64 2.36685e10\n",
      "  a: Float64 2.562\n",
      "  Λ: Float64 200.0\n",
      "  γ: Float64 2.0\n",
      "), x₀, v₀, t_range::Core.Const((0.0 Gyr, 97.77922216807892 Gyr))))\n",
      "\u001b[90m└───\u001b[39m        goto #4 if not false\n",
      "\u001b[90m3 ──\u001b[39m        Core.Const(:(Test.get_testset()))"
     ]
    },
    {
     "name": "stdout",
     "output_type": "stream",
     "text": [
      "\n",
      "\u001b[90m│   \u001b[39m        Core.Const(:(Test.Broken(:skipped, $(QuoteNode(:(≈(sol.x[end], sol₂.x[end], rtol = 5.0e-8)))))))\n",
      "\u001b[90m│   \u001b[39m        Core.Const(:(@_22 = Test.record(%46, %47)))\n",
      "\u001b[90m└───\u001b[39m        Core.Const(:(goto %84))\n",
      "\u001b[90m4 ┄─\u001b[39m        goto #6 if not false\n",
      "\u001b[90m5 ──\u001b[39m        Core.Const(:(@_23 = Test.do_broken_test))\n",
      "\u001b[90m└───\u001b[39m        Core.Const(:(goto %54))\n",
      "\u001b[90m6 ┄─\u001b[39m        (@_23 = Test.do_test)\n",
      "\u001b[90m│   \u001b[39m %54  = @_23\u001b[36m::Core.Const(Test.do_test)\u001b[39m\n",
      "\u001b[90m└───\u001b[39m        (_do@_18 = %54)\n",
      "\u001b[90m7 ──\u001b[39m %56  = $(Expr(:enter, #10))\n",
      "\u001b[90m8 ──\u001b[39m %57  = Main.:≈\u001b[36m::Core.Const(isapprox)\u001b[39m\n",
      "\u001b[90m│   \u001b[39m %58  = (:rtol => 5.0e-8)\u001b[36m::Core.Const(:rtol => 5.0e-8)\u001b[39m"
     ]
    },
    {
     "name": "stdout",
     "output_type": "stream",
     "text": [
      "\n",
      "\u001b[90m│   \u001b[39m %59  = Test.Expr(:parameters, %58)\u001b[36m::Expr\u001b[39m\n",
      "\u001b[90m│   \u001b[39m %60  = Base.getproperty(sol, :x)\u001b[91m\u001b[1m::Any\u001b[22m\u001b[39m\n",
      "\u001b[90m│   \u001b[39m %61  = Base.lastindex(%60)\u001b[91m\u001b[1m::Any\u001b[22m\u001b[39m\n",
      "\u001b[90m│   \u001b[39m %62  = Base.getindex(%60, %61)\u001b[91m\u001b[1m::Any\u001b[22m\u001b[39m\n",
      "\u001b[90m│   \u001b[39m %63  = Base.getproperty(sol₂, :x)\u001b[91m\u001b[1m::Any\u001b[22m\u001b[39m\n",
      "\u001b[90m│   \u001b[39m %64  = Base.lastindex(%63)\u001b[91m\u001b[1m::Any\u001b[22m\u001b[39m\n",
      "\u001b[90m│   \u001b[39m %65  = Base.getindex(%63, %64)\u001b[91m\u001b[1m::Any\u001b[22m\u001b[39m\n",
      "\u001b[90m│   \u001b[39m %66  = Test.Expr(:call, %57, %59, %62, %65)\u001b[36m::Expr\u001b[39m\n",
      "\u001b[90m│   \u001b[39m %67  = Test.Expr(:call, :≈)\u001b[36m::Expr\u001b[39m\n",
      "\u001b[90m│   \u001b[39m        (@_24 = Test.eval_test(%66, %67, $(QuoteNode(:(\u001b[90m#= /mnt/md1/mmestre/work/2023/TallerJulia/diciembre2023.ipynb:18 =#\u001b[39m))), $(QuoteNode(false))))\n",
      "\u001b[90m└───\u001b[39m        $(Expr(:leave, 1))\n",
      "\u001b[90m9 ──\u001b[39m        goto #14\n",
      "\u001b[90m10 ┄\u001b[39m        $(Expr(:leave, 1))\n",
      "\u001b[90m11 ─\u001b[39m        (_e@_19 = $(Expr(:the_exception)))\n",
      "\u001b[90m│   \u001b[39m %73  = (_e@_19 isa Test.InterruptException)\u001b[36m::Bool\u001b[39m\n",
      "\u001b[90m└───\u001b[39m        goto #13 if not %73\n",
      "\u001b[90m12 ─\u001b[39m        Test.rethrow()\n",
      "\u001b[90m└───\u001b[39m        Core.Const(:(goto %77))\n",
      "\u001b[90m13 ┄\u001b[39m %77  = _e@_19\u001b[91m\u001b[1m::Any\u001b[22m\u001b[39m\n",
      "\u001b[90m│   \u001b[39m %78  = Base.current_exceptions\u001b[36m::Core.Const(current_exceptions)\u001b[39m\n",
      "\u001b[90m│   \u001b[39m %79  = (%78)()\u001b[36m::Base.ExceptionStack\u001b[39m\n",
      "\u001b[90m│   \u001b[39m        (@_24 = Test.Threw(%77, %79, $(QuoteNode(:(\u001b[90m#= /mnt/md1/mmestre/work/2023/TallerJulia/diciembre2023.ipynb:18 =#\u001b[39m)))))\n",
      "\u001b[90m└───\u001b[39m        $(Expr(:pop_exception, :(%56)))\n",
      "\u001b[90m14 ┄\u001b[39m %82  = @_24"
     ]
    },
    {
     "name": "stdout",
     "output_type": "stream",
     "text": [
      "\u001b[33m\u001b[1m::Union{Test.Returned, Test.Threw}\u001b[22m\u001b[39m\n",
      "\u001b[90m│   \u001b[39m        (@_22 = (_do@_18)(%82, $(QuoteNode(:(≈(sol.x[end], sol₂.x[end], rtol = 5.0e-8))))))\n",
      "\u001b[90m│   \u001b[39m        (value@_10 = @_22)\n",
      "\u001b[90m│   \u001b[39m %85  = @_22\u001b[33m\u001b[1m::Union{Test.Error, Test.Fail, Test.Pass}\u001b[22m\u001b[39m\n",
      "\u001b[90m│   \u001b[39m %86  = Base.repr(%85)\u001b[36m::String\u001b[39m\n",
      "\u001b[90m│   \u001b[39m        Base.println("
     ]
    },
    {
     "name": "stdout",
     "output_type": "stream",
     "text": [
      "\"#= /mnt/md1/mmestre/work/2023/TallerJulia/diciembre2023.ipynb:18 =# @test(sol.x[end] ≈ sol₂.x[end], rtol = 5.0e-8) = \", %86)\n",
      "\u001b[90m│   \u001b[39m        value@_10\n",
      "\u001b[90m└───\u001b[39m        goto #16 if not false\n",
      "\u001b[90m15 ─\u001b[39m        Core.Const(:(Test.get_testset()))\n",
      "\u001b[90m│   \u001b[39m        Core.Const(:(Test.Broken(:skipped, $(QuoteNode(:(≈(sol.v[end], sol₂.v[end], rtol = 5.0e-8)))))))\n",
      "\u001b[90m│   \u001b[39m        Core.Const(:(@_25 = Test.record(%90, %91)))\n",
      "\u001b[90m└───\u001b[39m        Core.Const(:(goto %128))\n",
      "\u001b[90m16 ┄\u001b[39m        goto #18 if not false\n",
      "\u001b[90m17 ─\u001b[39m        Core.Const(:(@_26 = Test.do_broken_test))\n",
      "\u001b[90m└───\u001b[39m        Core.Const(:(goto %98))\n",
      "\u001b[90m18 ┄\u001b[39m        (@_26 = Test.do_test)\n",
      "\u001b[90m│   \u001b[39m %98  = @_26\u001b[36m::Core.Const(Test.do_test)\u001b[39m\n",
      "\u001b[90m└───\u001b[39m        (_do@_20 = %98)\n",
      "\u001b[90m19 ─\u001b[39m %100 = $(Expr(:enter, #22))\n",
      "\u001b[90m20 ─\u001b[39m %101 = Main.:≈\u001b[36m::Core.Const(isapprox)\u001b[39m\n",
      "\u001b[90m│   \u001b[39m %102 = (:rtol => 5.0e-8)\u001b[36m::Core.Const(:rtol => 5.0e-8)\u001b[39m\n",
      "\u001b[90m│   \u001b[39m %103 = Test.Expr(:parameters, %102)\u001b[36m::Expr\u001b[39m\n",
      "\u001b[90m│   \u001b[39m %104 = Base.getproperty(sol, :v)\u001b[91m\u001b[1m::Any\u001b[22m\u001b[39m\n",
      "\u001b[90m│   \u001b[39m %105 = Base.lastindex(%104)\u001b[91m\u001b[1m::Any\u001b[22m\u001b[39m\n",
      "\u001b[90m│   \u001b[39m %106 = Base.getindex(%104, %105)\u001b[91m\u001b[1m::Any\u001b[22m\u001b[39m\n",
      "\u001b[90m│   \u001b[39m %107 = Base.getproperty(sol₂, :v)\u001b[91m\u001b[1m::Any\u001b[22m\u001b[39m\n",
      "\u001b[90m│   \u001b[39m %108 = Base.lastindex(%107)\u001b[91m\u001b[1m::Any\u001b[22m\u001b[39m\n",
      "\u001b[90m│   \u001b[39m %109 = Base.getindex(%107, %108)\u001b[91m\u001b[1m::Any\u001b[22m\u001b[39m\n",
      "\u001b[90m│   \u001b[39m %110 = Test.Expr(:call, %101, %103, %106, %109)\u001b[36m::Expr\u001b[39m\n",
      "\u001b[90m│   \u001b[39m %111 = Test.Expr(:call, :≈)\u001b[36m::Expr\u001b[39m\n",
      "\u001b[90m│   \u001b[39m        (@_27 = Test.eval_test(%110, %111, $(QuoteNode(:(\u001b[90m#= /mnt/md1/mmestre/work/2023/TallerJulia/diciembre2023.ipynb:19 =#\u001b[39m))), $(QuoteNode(false))))\n",
      "\u001b[90m└───\u001b[39m        $(Expr(:leave, 1))\n",
      "\u001b[90m21 ─\u001b[39m        goto #26\n",
      "\u001b[90m22 ┄\u001b[39m        $(Expr(:leave, 1))\n",
      "\u001b[90m23 ─\u001b[39m        (_e@_21 = $(Expr(:the_exception)))\n",
      "\u001b[90m│   \u001b[39m %117 = (_e@_21 isa Test.InterruptException)\u001b[36m::Bool\u001b[39m\n",
      "\u001b[90m└───\u001b[39m        goto #25 if not %117\n",
      "\u001b[90m24 ─\u001b[39m        Test.rethrow()\n",
      "\u001b[90m└───\u001b[39m        Core.Const(:(goto %121))\n",
      "\u001b[90m25 ┄\u001b[39m %121 = _e@_21\u001b[91m\u001b[1m::Any\u001b[22m\u001b[39m\n",
      "\u001b[90m│   \u001b[39m %122 = Base.current_exceptions\u001b[36m::Core.Const(current_exceptions)\u001b[39m\n",
      "\u001b[90m│   \u001b[39m %123 = (%122)()\u001b[36m::Base.ExceptionStack\u001b[39m\n",
      "\u001b[90m│   \u001b[39m        (@_27 = Test.Threw(%121, %123, $(QuoteNode(:(\u001b[90m#= /mnt/md1/mmestre/work/2023/TallerJulia/diciembre2023.ipynb:19 =#\u001b[39m)))))\n",
      "\u001b[90m└───\u001b[39m        $(Expr(:pop_exception, :(%100)))\n",
      "\u001b[90m26 ┄\u001b[39m %126 = @_27\u001b[33m\u001b[1m::Union{Test.Returned, Test.Threw}\u001b[22m\u001b[39m\n",
      "\u001b[90m│   \u001b[39m        (@_25 = (_do@_20)(%126, $(QuoteNode(:(≈(sol.v[end], sol₂.v[end], rtol = 5.0e-8))))))\n",
      "\u001b[90m│   \u001b[39m        (value@_9 = @_25)\n",
      "\u001b[90m│   \u001b[39m %129 = @_25\u001b[33m\u001b[1m::Union{Test.Error, Test.Fail, Test.Pass}\u001b[22m\u001b[39m\n",
      "\u001b[90m│   \u001b[39m %130 = Base.repr(%129)\u001b[36m::String\u001b[39m\n",
      "\u001b[90m│   \u001b[39m        Base.println(\"#= /mnt/md1/mmestre/work/2023/TallerJulia/diciembre2023.ipynb:19 =# @test(sol.v[end] ≈ sol₂.v[end], rtol = 5.0e-8) = \", %130)\n",
      "\u001b[90m│   \u001b[39m        value@_9\n",
      "\u001b[90m│   \u001b[39m        (@_2 = Base.iterate(%7, %16))\n",
      "\u001b[90m│   \u001b[39m %134 = (@_2 === nothing)\u001b[36m::Bool\u001b[39m\n",
      "\u001b[90m│   \u001b[39m %135 = Base.not_int(%134)\u001b[36m::Bool\u001b[39m\n",
      "\u001b[90m└───\u001b[39m        goto #28 if not %135\n",
      "\u001b[90m27 ─\u001b[39m        goto #2\n",
      "\u001b[90m28 ┄\u001b[39m        return nothing\n",
      "\n"
     ]
    }
   ],
   "source": [
    "@code_warntype"
   ]
  },
  {
   "cell_type": "code",
   "execution_count": null,
   "metadata": {},
   "outputs": [],
   "source": []
  }
 ],
 "metadata": {
  "kernelspec": {
   "display_name": "Julia 1.9.3",
   "language": "julia",
   "name": "julia-1.9"
  },
  "language_info": {
   "file_extension": ".jl",
   "mimetype": "application/julia",
   "name": "julia",
   "version": "1.9.3"
  }
 },
 "nbformat": 4,
 "nbformat_minor": 2
}
