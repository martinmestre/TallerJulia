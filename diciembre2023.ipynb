{
 "cells": [
  {
   "cell_type": "markdown",
   "metadata": {},
   "source": [
    "# Taller inicial de Julia"
   ]
  },
  {
   "cell_type": "markdown",
   "metadata": {},
   "source": [
    "### Environments and the Package manger (Pkg)"
   ]
  },
  {
   "cell_type": "code",
   "execution_count": 5,
   "metadata": {},
   "outputs": [
    {
     "name": "stderr",
     "output_type": "stream",
     "text": [
      "\u001b[32m\u001b[1m  Activating\u001b[22m\u001b[39m project at `/mnt/md1/mmestre/work/2023/TallerJulia`\n",
      "\u001b[32m\u001b[1m   Resolving\u001b[22m\u001b[39m package versions...\n"
     ]
    },
    {
     "name": "stderr",
     "output_type": "stream",
     "text": [
      "\u001b[32m\u001b[1m  No Changes\u001b[22m\u001b[39m to `/mnt/md1/mmestre/work/2023/TallerJulia/Project.toml`\n",
      "\u001b[32m\u001b[1m  No Changes\u001b[22m\u001b[39m to `/mnt/md1/mmestre/work/2023/TallerJulia/Manifest.toml`\n"
     ]
    },
    {
     "name": "stderr",
     "output_type": "stream",
     "text": [
      "\u001b[32m\u001b[1mPrecompiling\u001b[22m\u001b[39m project...\n"
     ]
    },
    {
     "name": "stderr",
     "output_type": "stream",
     "text": [
      "\u001b[32m  ✓ \u001b[39m\u001b[90mDistributions → DistributionsChainRulesCoreExt\u001b[39m\n"
     ]
    },
    {
     "name": "stderr",
     "output_type": "stream",
     "text": [
      "\u001b[32m  ✓ \u001b[39m\u001b[90mDiffEqNoiseProcess\u001b[39m\n"
     ]
    },
    {
     "name": "stderr",
     "output_type": "stream",
     "text": [
      "\u001b[32m  ✓ \u001b[39m\u001b[90mStochasticDiffEq\u001b[39m\n"
     ]
    },
    {
     "name": "stderr",
     "output_type": "stream",
     "text": [
      "\u001b[32m  ✓ \u001b[39mDifferentialEquations\n",
      "  4 dependencies successfully precompiled in 28 seconds. 226 already precompiled.\n",
      "\u001b[32m\u001b[1m   Resolving\u001b[22m\u001b[39m package versions...\n"
     ]
    },
    {
     "name": "stderr",
     "output_type": "stream",
     "text": [
      "\u001b[32m\u001b[1m  No Changes\u001b[22m\u001b[39m to `/mnt/md1/mmestre/work/2023/TallerJulia/Project.toml`\n",
      "\u001b[32m\u001b[1m  No Changes\u001b[22m\u001b[39m to `/mnt/md1/mmestre/work/2023/TallerJulia/Manifest.toml`\n"
     ]
    },
    {
     "name": "stderr",
     "output_type": "stream",
     "text": [
      "\u001b[32m\u001b[1m   Resolving\u001b[22m\u001b[39m package versions...\n"
     ]
    },
    {
     "name": "stderr",
     "output_type": "stream",
     "text": [
      "\u001b[32m\u001b[1m  No Changes\u001b[22m\u001b[39m to `/mnt/md1/mmestre/work/2023/TallerJulia/Project.toml`\n",
      "\u001b[32m\u001b[1m  No Changes\u001b[22m\u001b[39m to `/mnt/md1/mmestre/work/2023/TallerJulia/Manifest.toml`\n"
     ]
    },
    {
     "name": "stderr",
     "output_type": "stream",
     "text": [
      "\u001b[32m\u001b[1m   Resolving\u001b[22m\u001b[39m package versions...\n"
     ]
    },
    {
     "name": "stderr",
     "output_type": "stream",
     "text": [
      "\u001b[32m\u001b[1m  No Changes\u001b[22m\u001b[39m to `/mnt/md1/mmestre/work/2023/TallerJulia/Project.toml`\n",
      "\u001b[32m\u001b[1m  No Changes\u001b[22m\u001b[39m to `/mnt/md1/mmestre/work/2023/TallerJulia/Manifest.toml`\n"
     ]
    },
    {
     "name": "stderr",
     "output_type": "stream",
     "text": [
      "\u001b[32m\u001b[1m   Resolving\u001b[22m\u001b[39m package versions...\n"
     ]
    },
    {
     "name": "stderr",
     "output_type": "stream",
     "text": [
      "\u001b[32m\u001b[1m  No Changes\u001b[22m\u001b[39m to `/mnt/md1/mmestre/work/2023/TallerJulia/Project.toml`\n",
      "\u001b[32m\u001b[1m  No Changes\u001b[22m\u001b[39m to `/mnt/md1/mmestre/work/2023/TallerJulia/Manifest.toml`\n"
     ]
    },
    {
     "name": "stderr",
     "output_type": "stream",
     "text": [
      "\u001b[32m\u001b[1m   Resolving\u001b[22m\u001b[39m package versions...\n"
     ]
    },
    {
     "name": "stderr",
     "output_type": "stream",
     "text": [
      "\u001b[32m\u001b[1m  No Changes\u001b[22m\u001b[39m to `/mnt/md1/mmestre/work/2023/TallerJulia/Project.toml`\n",
      "\u001b[32m\u001b[1m  No Changes\u001b[22m\u001b[39m to `/mnt/md1/mmestre/work/2023/TallerJulia/Manifest.toml`\n"
     ]
    }
   ],
   "source": [
    "using Pkg\n",
    "Pkg.activate(\".\")\n",
    "Pkg.add(\"Parameters\")\n",
    "Pkg.add(\"Unitful\")\n",
    "Pkg.add(\"UnitfulAstro\")\n",
    "Pkg.add(\"Zygote\")\n",
    "Pkg.add(\"DataFrames\")\n",
    "Pkg.add(\"DifferentialEquations\")"
   ]
  },
  {
   "cell_type": "markdown",
   "metadata": {},
   "source": [
    "## Arrays"
   ]
  },
  {
   "cell_type": "code",
   "execution_count": 55,
   "metadata": {},
   "outputs": [
    {
     "name": "stdout",
     "output_type": "stream",
     "text": [
      "a = [1.0, 2.0, 3.0]\n",
      "typeof(a) = Vector{Float64}\n",
      "typeof(a) <: Vector{Integer} = false\n",
      "typeof(a) <: Vector{Float64} = true\n"
     ]
    }
   ],
   "source": [
    "# Arrays\n",
    "a = [1.0, 2.0, 3.0]\n",
    "@show a typeof(a)\n",
    "@show typeof(a)<:Vector{Integer}\n",
    "@show typeof(a)<:Vector{Float64};\n"
   ]
  },
  {
   "cell_type": "code",
   "execution_count": 61,
   "metadata": {},
   "outputs": [
    {
     "data": {
      "text/plain": [
       "true"
      ]
     },
     "metadata": {},
     "output_type": "display_data"
    }
   ],
   "source": [
    "a[begin]==a[1]  # a[end]==a[3]"
   ]
  },
  {
   "cell_type": "code",
   "execution_count": 62,
   "metadata": {},
   "outputs": [
    {
     "name": "stdout",
     "output_type": "stream",
     "text": [
      "sum(a) = 6.0\n",
      "c = a + b = [3.0, 6.0, 9.0]\n",
      "c = a + b .* b = [5.0, 18.0, 39.0]\n",
      "c = a .+ b' * b = [57.0, 58.0, 59.0]\n"
     ]
    }
   ],
   "source": [
    "@show sum(a)\n",
    "b = 2a\n",
    "@show c = a + b\n",
    "@show c = a + b.*b\n",
    "@show c = a .+ b'b;"
   ]
  },
  {
   "cell_type": "code",
   "execution_count": 63,
   "metadata": {},
   "outputs": [
    {
     "data": {
      "text/plain": [
       "3×3 Matrix{Float64}:\n",
       " 1.0  2.0  3.0\n",
       " 2.0  4.0  6.0\n",
       " 3.0  6.0  9.0"
      ]
     },
     "metadata": {},
     "output_type": "display_data"
    },
    {
     "data": {
      "text/plain": [
       "3×3 adjoint(::Matrix{Float64}) with eltype Float64:\n",
       " 1.0  2.0  3.0\n",
       " 2.0  4.0  6.0\n",
       " 3.0  6.0  9.0"
      ]
     },
     "metadata": {},
     "output_type": "display_data"
    }
   ],
   "source": [
    "m = [a 2a 3a]\n",
    "display(m)\n",
    "display(m')"
   ]
  },
  {
   "cell_type": "markdown",
   "metadata": {},
   "source": []
  },
  {
   "cell_type": "markdown",
   "metadata": {},
   "source": [
    "## Structs"
   ]
  },
  {
   "cell_type": "code",
   "execution_count": 66,
   "metadata": {},
   "outputs": [],
   "source": [
    "struct Evento{T<:Real,D<:Real}\n",
    "    t::T\n",
    "    x::D\n",
    "    v::D\n",
    "end"
   ]
  },
  {
   "cell_type": "code",
   "execution_count": 69,
   "metadata": {},
   "outputs": [
    {
     "data": {
      "text/plain": [
       "Evento{Int64, Float64}(0, 10.0, 1.0)"
      ]
     },
     "metadata": {},
     "output_type": "display_data"
    }
   ],
   "source": [
    "a = Evento(0, 10., 1.)"
   ]
  },
  {
   "cell_type": "code",
   "execution_count": 70,
   "metadata": {},
   "outputs": [
    {
     "ename": "MethodError",
     "evalue": "MethodError: no method matching Evento(::Int64, ::Float64)\n\nClosest candidates are:\n  Evento(::T, ::D, !Matched::D) where {T<:Real, D<:Real}\n   @ Main /mnt/md1/mmestre/work/2023/TallerJulia/diciembre2023.ipynb:2\n",
     "output_type": "error",
     "traceback": [
      "MethodError: no method matching Evento(::Int64, ::Float64)\n",
      "\n",
      "Closest candidates are:\n",
      "  Evento(::T, ::D, !Matched::D) where {T<:Real, D<:Real}\n",
      "   @ Main /mnt/md1/mmestre/work/2023/TallerJulia/diciembre2023.ipynb:2\n",
      "\n",
      "\n",
      "Stacktrace:\n",
      " [1] top-level scope\n",
      "   @ /mnt/md1/mmestre/work/2023/TallerJulia/diciembre2023.ipynb:1"
     ]
    }
   ],
   "source": [
    "a = Evento(0, 10.) # show what happens"
   ]
  },
  {
   "cell_type": "code",
   "execution_count": 77,
   "metadata": {},
   "outputs": [
    {
     "data": {
      "text/plain": [
       "Evento"
      ]
     },
     "metadata": {},
     "output_type": "display_data"
    }
   ],
   "source": [
    "Evento(x::T,y::T) where {T<:Real} = Evento(0., x, y)"
   ]
  },
  {
   "cell_type": "code",
   "execution_count": 78,
   "metadata": {},
   "outputs": [
    {
     "data": {
      "text/plain": [
       "Evento{Float64, Float64}(0.0, 10.0, 1.0)"
      ]
     },
     "metadata": {},
     "output_type": "display_data"
    }
   ],
   "source": [
    "Evento(10., 1.)"
   ]
  },
  {
   "cell_type": "code",
   "execution_count": 79,
   "metadata": {},
   "outputs": [
    {
     "data": {
      "text/html": [
       "# 3 methods for type constructor:<ul><li> Evento(x::<b>T</b>, y::<b>T</b>)<i> where T<:Real</i> in Main at <a href=\"https://github.com/martinmestre/TallerJulia/tree/27d38a257a622f9d3253b5092a9fadd4137702ff//diciembre2023.ipynb#L1\" target=\"_blank\">/mnt/md1/mmestre/work/2023/TallerJulia/diciembre2023.ipynb:1</a></li> <li> Evento(x::<b>T</b>, y::<b>D</b>)<i> where {T<:Real, D<:Real}</i> in Main at <a href=\"https://github.com/martinmestre/TallerJulia/tree/27d38a257a622f9d3253b5092a9fadd4137702ff//diciembre2023.ipynb#L1\" target=\"_blank\">/mnt/md1/mmestre/work/2023/TallerJulia/diciembre2023.ipynb:1</a></li> <li> Evento(t::<b>T</b>, x::<b>D</b>, v::<b>D</b>)<i> where {T<:Real, D<:Real}</i> in Main at <a href=\"https://github.com/martinmestre/TallerJulia/tree/27d38a257a622f9d3253b5092a9fadd4137702ff//diciembre2023.ipynb#L2\" target=\"_blank\">/mnt/md1/mmestre/work/2023/TallerJulia/diciembre2023.ipynb:2</a></li> </ul>"
      ],
      "text/plain": [
       "# 3 methods for type constructor:\n",
       " [1] Evento(\u001b[90mx\u001b[39m::\u001b[1mT\u001b[22m, \u001b[90my\u001b[39m::\u001b[1mT\u001b[22m) where T<:Real\n",
       "\u001b[90m     @\u001b[39m \u001b[90m/mnt/md1/mmestre/work/2023/TallerJulia/\u001b[39m\u001b[90m\u001b[4mdiciembre2023.ipynb:1\u001b[24m\u001b[39m\n",
       " [2] Evento(\u001b[90mx\u001b[39m::\u001b[1mT\u001b[22m, \u001b[90my\u001b[39m::\u001b[1mD\u001b[22m) where {T<:Real, D<:Real}\n",
       "\u001b[90m     @\u001b[39m \u001b[90m/mnt/md1/mmestre/work/2023/TallerJulia/\u001b[39m\u001b[90m\u001b[4mdiciembre2023.ipynb:1\u001b[24m\u001b[39m\n",
       " [3] Evento(\u001b[90mt\u001b[39m::\u001b[1mT\u001b[22m, \u001b[90mx\u001b[39m::\u001b[1mD\u001b[22m, \u001b[90mv\u001b[39m::\u001b[1mD\u001b[22m) where {T<:Real, D<:Real}\n",
       "\u001b[90m     @\u001b[39m \u001b[90m/mnt/md1/mmestre/work/2023/TallerJulia/\u001b[39m\u001b[90m\u001b[4mdiciembre2023.ipynb:2\u001b[24m\u001b[39m"
      ]
     },
     "metadata": {},
     "output_type": "display_data"
    }
   ],
   "source": [
    "methods(Evento)"
   ]
  },
  {
   "cell_type": "code",
   "execution_count": 90,
   "metadata": {},
   "outputs": [
    {
     "data": {
      "text/plain": [
       "Evento"
      ]
     },
     "metadata": {},
     "output_type": "display_data"
    }
   ],
   "source": [
    "Evento(; t=9, x=7, v) = Evento(t, x, v)"
   ]
  },
  {
   "cell_type": "code",
   "execution_count": 87,
   "metadata": {},
   "outputs": [
    {
     "data": {
      "text/plain": [
       "Evento{Int64, Int64}(0, 1, 1)"
      ]
     },
     "metadata": {},
     "output_type": "display_data"
    }
   ],
   "source": [
    "a = Evento(t=0, x=1, v=1)"
   ]
  },
  {
   "cell_type": "code",
   "execution_count": 93,
   "metadata": {},
   "outputs": [
    {
     "ename": "UndefKeywordError",
     "evalue": "UndefKeywordError: keyword argument `v` not assigned",
     "output_type": "error",
     "traceback": [
      "UndefKeywordError: keyword argument `v` not assigned\n",
      "\n",
      "Stacktrace:\n",
      " [1] top-level scope\n",
      "   @ /mnt/md1/mmestre/work/2023/TallerJulia/diciembre2023.ipynb:1"
     ]
    }
   ],
   "source": [
    "b = Evento(t=98)"
   ]
  },
  {
   "cell_type": "code",
   "execution_count": 94,
   "metadata": {},
   "outputs": [
    {
     "data": {
      "text/plain": [
       "Evento{Int64, Int64}(9, 7, 54)"
      ]
     },
     "metadata": {},
     "output_type": "display_data"
    }
   ],
   "source": [
    "b = Evento(v=54)"
   ]
  },
  {
   "cell_type": "code",
   "execution_count": null,
   "metadata": {},
   "outputs": [],
   "source": []
  }
 ],
 "metadata": {
  "kernelspec": {
   "display_name": "Julia 1.9.3",
   "language": "julia",
   "name": "julia-1.9"
  },
  "language_info": {
   "file_extension": ".jl",
   "mimetype": "application/julia",
   "name": "julia",
   "version": "1.9.3"
  }
 },
 "nbformat": 4,
 "nbformat_minor": 2
}
